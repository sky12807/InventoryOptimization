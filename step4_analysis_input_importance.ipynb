{
 "cells": [
  {
   "cell_type": "code",
   "execution_count": 1,
   "metadata": {},
   "outputs": [],
   "source": [
    "%load_ext autoreload\n",
    "%autoreload 2\n",
    "\n",
    "import glob\n",
    "import logging\n",
    "import numpy as np\n",
    "from importlib import reload  # Not needed in Python 2\n",
    "\n",
    "import torch\n",
    "from torch import nn\n",
    "import torch.nn.functional as F\n",
    "from torchvision.models import ResNet\n",
    "from torch.utils.data import DataLoader,Dataset\n",
    "\n",
    "\n",
    "from dataset.ASdataset import AS_Data\n",
    "from dataset.ASdataset_obs_train_input import AS_Data_obs\n",
    "\n",
    "device = torch.device(\"cuda\"  if torch.cuda.is_available() else \"cpu\")\n",
    "reload(logging)\n",
    "logging.basicConfig(level=logging.INFO,#控制台打印的日志级别\n",
    "                    filename='logging.txt',\n",
    "                    filemode='a',##模式，有w和a，w就是写模式，每次都会重新写日志，覆盖之前的日志\n",
    "                    #a是追加模式，默认如果不写的话，就是追加模式\n",
    "                    format=\n",
    "                    '%(asctime)s : %(message)s',\n",
    "                    )\n",
    "\n",
    "import matplotlib\n",
    "import matplotlib.pyplot as plt\n",
    "\n",
    "%matplotlib inline\n",
    "\n",
    "def image_show(im,title = '',r=10,base=80):\n",
    "    im[:r,:r] = base\n",
    "    im[r,r] = 0\n",
    "    im[im>base] = base\n",
    "    plt.title(title)\n",
    "    plt.imshow(im[::-1])\n",
    "    plt.show()\n",
    "    \n",
    "# logging.info('\\n\\n\\n\\n\\n')\n",
    "# logging.info('with 3 conv grid to concat\\n')\n",
    "# logging.info('2res block, use simple feature: EM inventory simple,2d ALL,3d ALL\\n')\n",
    "\n",
    "class Tensor_Parameter(nn.Module):\n",
    "    def __init__(self,):\n",
    "        super(Tensor_Parameter,self).__init__()\n",
    "        self.Input = nn.Parameter(torch.zeros(1))\n",
    "    \n",
    "    def forward(self,x):\n",
    "        self.Input.data = x\n",
    "        return self.Input\n",
    "\n",
    "\n",
    "class Focal_loss_regression(nn.Module):\n",
    "    def __init__(self,max_update=10,_lambda=2,):\n",
    "        super(Focal_loss_regression,self).__init__()\n",
    "        self._lambda = _lambda\n",
    "        max_update = np.power(1/max_update,1/_lambda)\n",
    "        max_update = 1/max_update\n",
    "        max_update = 1/(max_update-1)\n",
    "        self.max_update = max_update\n",
    "        \n",
    "    def forward(self,pred,target):\n",
    "        diff_abs = torch.abs(pred-target)\n",
    "        diff_max = (1+self.max_update)*torch.max(diff_abs)\n",
    "#         diff_max.detach()\n",
    "        rate = torch.pow((1-1/diff_max*diff_abs)**self._lambda,-1)\n",
    "        diff_abs = rate*diff_abs\n",
    "        \n",
    "#         return diff_abs\n",
    "        return torch.mean(diff_abs)"
   ]
  },
  {
   "cell_type": "code",
   "execution_count": 2,
   "metadata": {},
   "outputs": [
    {
     "name": "stdout",
     "output_type": "stream",
     "text": [
      "train data is loading \n",
      "/AS_data/Conc_npy/TOTAL_2015_01_NO2_SO2_O3_PM25_PM10_CO__744_6_182_232.npy   is loading\n",
      "/AS_data/Emis_with_foreign_npy/EM_2015_01_744_51_182_232.npy   is loading\n"
     ]
    },
    {
     "ename": "KeyboardInterrupt",
     "evalue": "",
     "output_type": "error",
     "traceback": [
      "\u001b[0;31m---------------------------------------------------------------------------\u001b[0m",
      "\u001b[0;31mKeyboardInterrupt\u001b[0m                         Traceback (most recent call last)",
      "\u001b[0;32m<ipython-input-2-782a9e823466>\u001b[0m in \u001b[0;36m<module>\u001b[0;34m\u001b[0m\n\u001b[1;32m     29\u001b[0m \u001b[0;34m\u001b[0m\u001b[0m\n\u001b[1;32m     30\u001b[0m \u001b[0mprint\u001b[0m\u001b[0;34m(\u001b[0m\u001b[0;34m'train data is loading '\u001b[0m\u001b[0;34m)\u001b[0m\u001b[0;34m\u001b[0m\u001b[0;34m\u001b[0m\u001b[0m\n\u001b[0;32m---> 31\u001b[0;31m \u001b[0mData\u001b[0m \u001b[0;34m=\u001b[0m \u001b[0mAS_Data_obs\u001b[0m\u001b[0;34m(\u001b[0m\u001b[0mcfg\u001b[0m\u001b[0;34m,\u001b[0m\u001b[0mleft\u001b[0m \u001b[0;34m=\u001b[0m \u001b[0;36m0\u001b[0m\u001b[0;34m,\u001b[0m\u001b[0mright\u001b[0m \u001b[0;34m=\u001b[0m \u001b[0;36m1\u001b[0m\u001b[0;34m,\u001b[0m\u001b[0mwindow\u001b[0m \u001b[0;34m=\u001b[0m \u001b[0mT\u001b[0m\u001b[0;34m,\u001b[0m\u001b[0mpollution\u001b[0m \u001b[0;34m=\u001b[0m \u001b[0mpollution\u001b[0m\u001b[0;34m,\u001b[0m\u001b[0mEM_idx\u001b[0m \u001b[0;34m=\u001b[0m \u001b[0mEM_idx\u001b[0m\u001b[0;34m)\u001b[0m\u001b[0;34m\u001b[0m\u001b[0;34m\u001b[0m\u001b[0m\n\u001b[0m\u001b[1;32m     32\u001b[0m \u001b[0mtrainloader\u001b[0m \u001b[0;34m=\u001b[0m \u001b[0mDataLoader\u001b[0m\u001b[0;34m(\u001b[0m\u001b[0mData\u001b[0m\u001b[0;34m,\u001b[0m\u001b[0mbatch_size\u001b[0m\u001b[0;34m=\u001b[0m\u001b[0mbatch\u001b[0m\u001b[0;34m,\u001b[0m\u001b[0mshuffle\u001b[0m\u001b[0;34m=\u001b[0m\u001b[0;32mTrue\u001b[0m\u001b[0;34m)\u001b[0m\u001b[0;34m\u001b[0m\u001b[0;34m\u001b[0m\u001b[0m\n\u001b[1;32m     33\u001b[0m \u001b[0mprint\u001b[0m\u001b[0;34m(\u001b[0m\u001b[0mlen\u001b[0m\u001b[0;34m(\u001b[0m\u001b[0mData\u001b[0m\u001b[0;34m)\u001b[0m\u001b[0;34m)\u001b[0m\u001b[0;34m\u001b[0m\u001b[0;34m\u001b[0m\u001b[0m\n",
      "\u001b[0;32m/workspace/InventoryOptimization/dataset/ASdataset_obs_train_input.py\u001b[0m in \u001b[0;36m__init__\u001b[0;34m(self, cfg, left, right, window, EM_idx, pollution)\u001b[0m\n\u001b[1;32m     12\u001b[0m \u001b[0;32mclass\u001b[0m \u001b[0mAS_Data_obs\u001b[0m\u001b[0;34m(\u001b[0m\u001b[0mAS_Data\u001b[0m\u001b[0;34m)\u001b[0m\u001b[0;34m:\u001b[0m\u001b[0;34m\u001b[0m\u001b[0;34m\u001b[0m\u001b[0m\n\u001b[1;32m     13\u001b[0m     \u001b[0;32mdef\u001b[0m \u001b[0m__init__\u001b[0m\u001b[0;34m(\u001b[0m\u001b[0mself\u001b[0m\u001b[0;34m,\u001b[0m\u001b[0mcfg\u001b[0m\u001b[0;34m,\u001b[0m\u001b[0mleft\u001b[0m \u001b[0;34m=\u001b[0m \u001b[0;36m0\u001b[0m\u001b[0;34m,\u001b[0m\u001b[0mright\u001b[0m \u001b[0;34m=\u001b[0m \u001b[0;36m1\u001b[0m\u001b[0;34m,\u001b[0m\u001b[0mwindow\u001b[0m\u001b[0;34m=\u001b[0m\u001b[0;36m24\u001b[0m\u001b[0;34m,\u001b[0m\u001b[0mEM_idx\u001b[0m \u001b[0;34m=\u001b[0m \u001b[0mnp\u001b[0m\u001b[0;34m.\u001b[0m\u001b[0marange\u001b[0m\u001b[0;34m(\u001b[0m\u001b[0;36m51\u001b[0m\u001b[0;34m)\u001b[0m\u001b[0;34m,\u001b[0m\u001b[0mpollution\u001b[0m \u001b[0;34m=\u001b[0m \u001b[0;34m[\u001b[0m\u001b[0;34m'PM25'\u001b[0m\u001b[0;34m,\u001b[0m\u001b[0;34m'O3'\u001b[0m\u001b[0;34m]\u001b[0m\u001b[0;34m)\u001b[0m\u001b[0;34m:\u001b[0m\u001b[0;34m\u001b[0m\u001b[0;34m\u001b[0m\u001b[0m\n\u001b[0;32m---> 14\u001b[0;31m         \u001b[0msuper\u001b[0m\u001b[0;34m(\u001b[0m\u001b[0mAS_Data_obs\u001b[0m\u001b[0;34m,\u001b[0m\u001b[0mself\u001b[0m\u001b[0;34m)\u001b[0m\u001b[0;34m.\u001b[0m\u001b[0m__init__\u001b[0m\u001b[0;34m(\u001b[0m\u001b[0mcfg\u001b[0m\u001b[0;34m,\u001b[0m\u001b[0mleft\u001b[0m\u001b[0;34m,\u001b[0m\u001b[0mright\u001b[0m\u001b[0;34m,\u001b[0m\u001b[0mwindow\u001b[0m\u001b[0;34m,\u001b[0m\u001b[0mpollution\u001b[0m\u001b[0;34m)\u001b[0m\u001b[0;34m\u001b[0m\u001b[0;34m\u001b[0m\u001b[0m\n\u001b[0m\u001b[1;32m     15\u001b[0m \u001b[0;34m\u001b[0m\u001b[0m\n\u001b[1;32m     16\u001b[0m         \u001b[0mself\u001b[0m\u001b[0;34m.\u001b[0m\u001b[0mobs_label\u001b[0m \u001b[0;34m=\u001b[0m \u001b[0;34m[\u001b[0m\u001b[0;34m]\u001b[0m\u001b[0;34m\u001b[0m\u001b[0;34m\u001b[0m\u001b[0m\n",
      "\u001b[0;32m/workspace/InventoryOptimization/dataset/ASdataset.py\u001b[0m in \u001b[0;36m__init__\u001b[0;34m(self, cfg, left, right, window, pollution)\u001b[0m\n\u001b[1;32m     52\u001b[0m         \u001b[0;32mfor\u001b[0m \u001b[0mfilename\u001b[0m \u001b[0;32min\u001b[0m \u001b[0msorted\u001b[0m\u001b[0;34m(\u001b[0m\u001b[0mglob\u001b[0m\u001b[0;34m.\u001b[0m\u001b[0mglob\u001b[0m\u001b[0;34m(\u001b[0m\u001b[0mcfg\u001b[0m\u001b[0;34m[\u001b[0m\u001b[0;34m'EM'\u001b[0m\u001b[0;34m]\u001b[0m\u001b[0;34m)\u001b[0m\u001b[0;34m)\u001b[0m\u001b[0;34m:\u001b[0m\u001b[0;34m\u001b[0m\u001b[0;34m\u001b[0m\u001b[0m\n\u001b[1;32m     53\u001b[0m             \u001b[0mprint\u001b[0m\u001b[0;34m(\u001b[0m\u001b[0mfilename\u001b[0m\u001b[0;34m+\u001b[0m\u001b[0;34m'   is loading'\u001b[0m\u001b[0;34m)\u001b[0m\u001b[0;34m\u001b[0m\u001b[0;34m\u001b[0m\u001b[0m\n\u001b[0;32m---> 54\u001b[0;31m             \u001b[0mEM\u001b[0m \u001b[0;34m=\u001b[0m \u001b[0mnp\u001b[0m\u001b[0;34m.\u001b[0m\u001b[0mload\u001b[0m\u001b[0;34m(\u001b[0m\u001b[0mfilename\u001b[0m\u001b[0;34m)\u001b[0m\u001b[0;34m\u001b[0m\u001b[0;34m\u001b[0m\u001b[0m\n\u001b[0m\u001b[1;32m     55\u001b[0m \u001b[0;31m#             EM = simplify_matrix(EM,1,l_EM)\u001b[0m\u001b[0;34m\u001b[0m\u001b[0;34m\u001b[0m\u001b[0;34m\u001b[0m\u001b[0m\n\u001b[1;32m     56\u001b[0m             \u001b[0mtick\u001b[0m\u001b[0;34m,\u001b[0m\u001b[0m_\u001b[0m\u001b[0;34m,\u001b[0m\u001b[0mW\u001b[0m\u001b[0;34m,\u001b[0m\u001b[0mH\u001b[0m \u001b[0;34m=\u001b[0m \u001b[0mEM\u001b[0m\u001b[0;34m.\u001b[0m\u001b[0mshape\u001b[0m\u001b[0;34m\u001b[0m\u001b[0;34m\u001b[0m\u001b[0m\n",
      "\u001b[0;32m/opt/conda/lib/python3.6/site-packages/numpy/lib/npyio.py\u001b[0m in \u001b[0;36mload\u001b[0;34m(file, mmap_mode, allow_pickle, fix_imports, encoding)\u001b[0m\n\u001b[1;32m    451\u001b[0m             \u001b[0;32melse\u001b[0m\u001b[0;34m:\u001b[0m\u001b[0;34m\u001b[0m\u001b[0;34m\u001b[0m\u001b[0m\n\u001b[1;32m    452\u001b[0m                 return format.read_array(fid, allow_pickle=allow_pickle,\n\u001b[0;32m--> 453\u001b[0;31m                                          pickle_kwargs=pickle_kwargs)\n\u001b[0m\u001b[1;32m    454\u001b[0m         \u001b[0;32melse\u001b[0m\u001b[0;34m:\u001b[0m\u001b[0;34m\u001b[0m\u001b[0;34m\u001b[0m\u001b[0m\n\u001b[1;32m    455\u001b[0m             \u001b[0;31m# Try a pickle\u001b[0m\u001b[0;34m\u001b[0m\u001b[0;34m\u001b[0m\u001b[0;34m\u001b[0m\u001b[0m\n",
      "\u001b[0;32m/opt/conda/lib/python3.6/site-packages/numpy/lib/format.py\u001b[0m in \u001b[0;36mread_array\u001b[0;34m(fp, allow_pickle, pickle_kwargs)\u001b[0m\n\u001b[1;32m    736\u001b[0m         \u001b[0;32mif\u001b[0m \u001b[0misfileobj\u001b[0m\u001b[0;34m(\u001b[0m\u001b[0mfp\u001b[0m\u001b[0;34m)\u001b[0m\u001b[0;34m:\u001b[0m\u001b[0;34m\u001b[0m\u001b[0;34m\u001b[0m\u001b[0m\n\u001b[1;32m    737\u001b[0m             \u001b[0;31m# We can use the fast fromfile() function.\u001b[0m\u001b[0;34m\u001b[0m\u001b[0;34m\u001b[0m\u001b[0;34m\u001b[0m\u001b[0m\n\u001b[0;32m--> 738\u001b[0;31m             \u001b[0marray\u001b[0m \u001b[0;34m=\u001b[0m \u001b[0mnumpy\u001b[0m\u001b[0;34m.\u001b[0m\u001b[0mfromfile\u001b[0m\u001b[0;34m(\u001b[0m\u001b[0mfp\u001b[0m\u001b[0;34m,\u001b[0m \u001b[0mdtype\u001b[0m\u001b[0;34m=\u001b[0m\u001b[0mdtype\u001b[0m\u001b[0;34m,\u001b[0m \u001b[0mcount\u001b[0m\u001b[0;34m=\u001b[0m\u001b[0mcount\u001b[0m\u001b[0;34m)\u001b[0m\u001b[0;34m\u001b[0m\u001b[0;34m\u001b[0m\u001b[0m\n\u001b[0m\u001b[1;32m    739\u001b[0m         \u001b[0;32melse\u001b[0m\u001b[0;34m:\u001b[0m\u001b[0;34m\u001b[0m\u001b[0;34m\u001b[0m\u001b[0m\n\u001b[1;32m    740\u001b[0m             \u001b[0;31m# This is not a real file. We have to read it the\u001b[0m\u001b[0;34m\u001b[0m\u001b[0;34m\u001b[0m\u001b[0;34m\u001b[0m\u001b[0m\n",
      "\u001b[0;31mKeyboardInterrupt\u001b[0m: "
     ]
    }
   ],
   "source": [
    "T = 24\n",
    "batch = 1\n",
    "pollution = ['PM25','O3'] #,'NO2','SO2']\n",
    "# cfg = {'EM':'/AS_data/Emis_with_foreign_npy/EM_2015_*',\n",
    "#       'label':'/AS_data/Conc_npy/TOTAL_2015_*',\n",
    "#       'grid':'/AS_data/Grid_npy/grid_27_182_232.npy',\n",
    "#       'METCRO2D':'/AS_data/METCRO2D_npy/METCRO2D_2015_*',\n",
    "#       'METCRO3D':'',\n",
    "#       'METCRO3D_5height':'',\n",
    "#       'obs_label':'/AS_data/obs_npy/obs2015_*'}\n",
    "\n",
    "cfg = {'EM':'/AS_data/Emis_with_foreign_npy/EM_2015_01*',\n",
    "        'label':'/AS_data/Conc_npy/TOTAL_2015_01*',\n",
    "        'grid':'/AS_data/Grid_npy/grid_27_182_232.npy',\n",
    "        'METCRO2D':'/AS_data/METCRO2D_npy/METCRO2D_2015_01*',\n",
    "        'METCRO3D':'',\n",
    "        'METCRO3D_5height':'',\n",
    "        'obs_label':'/AS_data/obs_npy/obs2015_01_*'}\n",
    "\n",
    "### remove CH4,AACD,ACET\n",
    "EM_idx = np.array([ 0,  1,  2,  3,  4,  5,  6,  7,  8,  9, \\\n",
    "                     10, 11, 12, 13, 14, 15, 16,17, 18, 19, \\\n",
    "                     20, 21, 22, 23, 24, 25, 26, 27, 28, 29, \\\n",
    "                     30, 31, 32, 33,34, 35, 36, 37, 38, 39, \\\n",
    "                     42, 43, 44, 45, 46, 47, 48, 50])\n",
    "\n",
    "# EM_idx = np.array([0,2,3,4,8,9,10,32, 33, 34, 35, 36, 37, 38, 39, 40, 41, 42, 43, 44, 45, 46, 47, 48,49, 50])\n",
    "# EM_idx = np.array([6,7])\n",
    "\n",
    "print('train data is loading ')\n",
    "Data = AS_Data_obs(cfg,left = 0,right = 1,window = T,pollution = pollution,EM_idx = EM_idx)\n",
    "trainloader = DataLoader(Data,batch_size=batch,shuffle=True)\n",
    "print(len(Data))\n",
    "print(Data.EM_idx)\n",
    "# print('test data is loading ')\n",
    "# test_Data = AS_Data_obs(cfg,left = 0.75,right = 0.98,window = 6)\n",
    "# testloader = DataLoader(test_Data,batch_size=1,shuffle=False)\n",
    "# print(len(test_Data))"
   ]
  },
  {
   "cell_type": "code",
   "execution_count": 3,
   "metadata": {},
   "outputs": [
    {
     "data": {
      "text/plain": [
       "<All keys matched successfully>"
      ]
     },
     "execution_count": 3,
     "metadata": {},
     "output_type": "execute_result"
    }
   ],
   "source": [
    "from model.res_model_LSTM import res8\n",
    "from model.unet_model_LSTM import UNet\n",
    "\n",
    "# test_model = res8(51+34,27,inplanes=64,layers = [2],T=24) #+5*16\n",
    "# name = 'res_2layer_correctdata'\n",
    "# test_model.load_state_dict(torch.load('model_save/res_2layer_9_epoch.t'))\n",
    "test_model = UNet(51+34,27,T=T,bilinear=False,pre_dim = len(pollution)) #+80\n",
    "t2p = Tensor_Parameter()\n",
    "\n",
    "name = 'unet2'\n",
    "\n",
    "test_model.to(device)\n",
    "t2p.to(device)\n",
    "criterion = torch.nn.L1Loss()\n",
    "# optimizer = torch.optim.Adam(test_model.parameters(),lr=1e-3)\n",
    "optimizer = torch.optim.Adam(t2p.parameters(),lr=1e-2)\n",
    "test_model.load_state_dict(torch.load('model_save/unet_LSTM_ALL_prelu_PM25_O3_NO2_SO2_best_epoch.t'))\n",
    "# test_model.load_state_dict(torch.load('model_save/o3_best_unet2_1month_65_epoch.t'))"
   ]
  },
  {
   "cell_type": "code",
   "execution_count": 4,
   "metadata": {},
   "outputs": [],
   "source": [
    "def score(model,loader,criterion= nn.L1Loss() ):\n",
    "    model.eval()\n",
    "    ls = []\n",
    "    for idx,i in enumerate(loader):\n",
    "        with torch.no_grad():\n",
    "            indexes,input,grid,yt_1,label,obs = i[0],i[1],i[2],i[3],i[4],i[5]\n",
    "            input,grid,yt_1,label,obs = input.to(device),grid.to(device),yt_1.to(device),label.to(device),obs.float().to(device)\n",
    "            input = t2p(input)\n",
    "            y_pred = model(input,grid,yt_1)\n",
    "            \n",
    "            Data.update_labels(indexes,y_pred)\n",
    "            if torch.sum(obs!=-999)==0:\n",
    "                continue\n",
    "            \n",
    "            cur_loss = []\n",
    "            for pollution in range(y_pred.shape[1]):\n",
    "                cur_pred = y_pred[:,pollution]\n",
    "                cur_obs = obs[:,pollution]\n",
    "                loss = criterion(cur_pred[cur_obs!=-999],cur_obs[cur_obs!=-999])\n",
    "                cur_loss.append(loss.cpu().data)\n",
    "            ls.append(cur_loss)\n",
    "        \n",
    "    return np.mean(np.array(ls),axis = 0)"
   ]
  },
  {
   "cell_type": "code",
   "execution_count": 5,
   "metadata": {},
   "outputs": [
    {
     "name": "stdout",
     "output_type": "stream",
     "text": [
      "/AS_data/finetune_input_prelu_PM25_O3_NO2_SO2/month_01_finetune_input.npy   is loading\n",
      "744\n"
     ]
    }
   ],
   "source": [
    "\n",
    "fine_inputs = []\n",
    "for filename in sorted(glob.glob('/AS_data/finetune_input_prelu_PM25_O3_NO2_SO2/month_01*')):\n",
    "    print(filename+'   is loading')\n",
    "    EM = np.load(filename)\n",
    "    tick,_,W,H = EM.shape\n",
    "    print(tick)\n",
    "    fine_inputs.append(EM[:].copy())"
   ]
  },
  {
   "cell_type": "code",
   "execution_count": null,
   "metadata": {},
   "outputs": [],
   "source": [
    "his_idx = np.array([1])\n",
    "his_value = Data.EM[0][:,his_idx].copy()\n",
    "\n",
    "Data.EM[0][:,his_idx] = his_value\n",
    "\n",
    "test_score_L1 = score(test_model,trainloader,criterion = nn.L1Loss()) \n",
    "logging.info('-------------cur test loss L1:  {}'.format(','.join([str(s) for s in test_score_L1])))\n",
    "print('-------------cur test loss L1:  {}'.format(test_score_L1))"
   ]
  },
  {
   "cell_type": "code",
   "execution_count": null,
   "metadata": {},
   "outputs": [],
   "source": [
    "import numpy as np\n",
    "# idx_search = list(range(51))\n",
    "idx_search = [ 0,  1,  2,  3,  4,  5,  6,  7,  8,  9, \\\n",
    "                     10, 11, 12, 13, 14, 15, 16,17, 18, 19, \\\n",
    "                     20, 21, 22, 23, 24, 25, 26, 27, 28, 29, \\\n",
    "                     30, 31, 32, 33,34, 35, 36, 37, 38, 39, \\\n",
    "                     42, 43, 44, 45, 46, 47, 48, 50]\n",
    "def combination(nums):\n",
    "    if len(nums) == 1:\n",
    "        return [[nums[0]],[]]\n",
    "    f1_end = combination(nums[1:])\n",
    "    return [[nums[0]]+i for i in f1_end]+f1_end\n",
    "\n",
    "\n",
    "combine_idx_search = [idx_search] + [idx_search[:i]+idx_search[i+1:] for i in range(len(idx_search))]\n",
    "# combine_idx_search = [np.array(i) for i in combination(idx_search)]\n"
   ]
  },
  {
   "cell_type": "code",
   "execution_count": null,
   "metadata": {},
   "outputs": [],
   "source": [
    "# logging.info('current search idx is {}'.format([str(i) for i in idx_search]))\n",
    "for idx in combine_idx_search:\n",
    "    Data.EM[0][:,his_idx] = his_value\n",
    "    his_idx = idx\n",
    "    his_value = Data.EM[0][:,his_idx].copy()\n",
    "    \n",
    "    Data.EM[0][:,idx] = fine_inputs[0][:,idx]\n",
    "    test_score_L1 = score(test_model,trainloader,criterion = nn.L1Loss()) \n",
    "    not_update = ','.join([str(p) for p in set(idx_search)-set(idx)])\n",
    "    \n",
    "    logging.info('-----EM not update is {},EM idx is {},cur test loss L1:  {}'.format(not_update,idx,','.join([str(s) for s in test_score_L1])))\n",
    "    print('-----EM not update is {},EM idx is {},cur test loss L1:  {}'.format(not_update,idx,','.join([str(s) for s in test_score_L1])))"
   ]
  },
  {
   "cell_type": "code",
   "execution_count": null,
   "metadata": {},
   "outputs": [],
   "source": []
  }
 ],
 "metadata": {
  "kernelspec": {
   "display_name": "Python 3",
   "language": "python",
   "name": "python3"
  },
  "language_info": {
   "codemirror_mode": {
    "name": "ipython",
    "version": 3
   },
   "file_extension": ".py",
   "mimetype": "text/x-python",
   "name": "python",
   "nbconvert_exporter": "python",
   "pygments_lexer": "ipython3",
   "version": "3.6.9"
  }
 },
 "nbformat": 4,
 "nbformat_minor": 4
}
