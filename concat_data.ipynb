{
 "cells": [
  {
   "cell_type": "code",
   "execution_count": 3,
   "metadata": {},
   "outputs": [
    {
     "name": "stdout",
     "output_type": "stream",
     "text": [
      "The autoreload extension is already loaded. To reload it, use:\n",
      "  %reload_ext autoreload\n"
     ]
    }
   ],
   "source": [
    "%load_ext autoreload\n",
    "%autoreload 2\n",
    "\n",
    "import glob\n",
    "import logging\n",
    "import numpy as np\n",
    "from importlib import reload  # Not needed in Python 2\n",
    "import torch\n",
    "from torch import nn\n",
    "import torch.nn.functional as F\n",
    "from torchvision.models import ResNet\n",
    "from torch.utils.data import DataLoader,Dataset\n",
    "\n",
    "\n",
    "from dataset.ASdataset import AS_Data\n",
    "from dataset.ASdataset_obs_train_input import AS_Data_obs\n",
    "\n",
    "device = torch.device(\"cuda\"  if torch.cuda.is_available() else \"cpu\")\n",
    "reload(logging)\n",
    "logging.basicConfig(level=logging.INFO,#控制台打印的日志级别\n",
    "                    filename='logging.txt',\n",
    "                    filemode='a',##模式，有w和a，w就是写模式，每次都会重新写日志，覆盖之前的日志\n",
    "                    #a是追加模式，默认如果不写的话，就是追加模式\n",
    "                    format=\n",
    "                    '%(asctime)s : %(message)s',\n",
    "                    )\n",
    "\n",
    "import matplotlib\n",
    "import matplotlib.pyplot as plt\n",
    "\n",
    "%matplotlib inline"
   ]
  },
  {
   "cell_type": "code",
   "execution_count": 2,
   "metadata": {},
   "outputs": [],
   "source": [
    "import sys\n",
    "sys.path.append( '/anaconda/envs/py37_pytorch/lib/python3.7')\n",
    "sys.path.append('/anaconda/envs/py37_pytorch/lib/python3.7/site-packages')"
   ]
  },
  {
   "cell_type": "code",
   "execution_count": 5,
   "metadata": {},
   "outputs": [],
   "source": [
    "voc = [0,2,3,4,8,9,10] + list(range(32,51))\n",
    "pm25 = list(range(10,30))\n",
    "rest = [1,5,30,31]\n",
    "no = [6,7]"
   ]
  },
  {
   "cell_type": "code",
   "execution_count": 6,
   "metadata": {},
   "outputs": [
    {
     "name": "stdout",
     "output_type": "stream",
     "text": [
      "/AS_data/Emis_with_foreign_npy/EM_2015_01_744_51_182_232.npy\n",
      "(744, 51, 182, 232)\n",
      "v shape:  (744, 1, 182, 232)\n",
      "p shape:  (744, 1, 182, 232)\n",
      "rest shape:  (744, 7, 182, 232)\n",
      "********************\n",
      "/AS_data/Emis_with_foreign_npy/EM_2015_02_672_51_182_232.npy\n",
      "(672, 51, 182, 232)\n",
      "v shape:  (672, 1, 182, 232)\n",
      "p shape:  (672, 1, 182, 232)\n",
      "rest shape:  (672, 7, 182, 232)\n",
      "********************\n",
      "/AS_data/Emis_with_foreign_npy/EM_2015_04_720_51_182_232.npy\n",
      "(720, 51, 182, 232)\n",
      "v shape:  (720, 1, 182, 232)\n",
      "p shape:  (720, 1, 182, 232)\n",
      "rest shape:  (720, 7, 182, 232)\n",
      "********************\n",
      "/AS_data/Emis_with_foreign_npy/EM_2015_07_744_51_182_232.npy\n",
      "(744, 51, 182, 232)\n",
      "v shape:  (744, 1, 182, 232)\n",
      "p shape:  (744, 1, 182, 232)\n",
      "rest shape:  (744, 7, 182, 232)\n",
      "********************\n",
      "/AS_data/Emis_with_foreign_npy/EM_2015_10_744_51_182_232.npy\n",
      "(744, 51, 182, 232)\n",
      "v shape:  (744, 1, 182, 232)\n",
      "p shape:  (744, 1, 182, 232)\n",
      "rest shape:  (744, 7, 182, 232)\n",
      "********************\n"
     ]
    }
   ],
   "source": [
    "'''\n",
    "0:CO 1:NH3 2:NO 3:NO2 4:SO2 5:SULF 6:voc_mean 7:p_mean \n",
    "0:CO 1:NH3 2:SO2 3:SULF 4:voc_mean 5:p_mean 6:NO_mean\n",
    "'''\n",
    "for filename in sorted(glob.glob('/AS_data/Emis_with_foreign_npy/*')):\n",
    "    print(filename)\n",
    "    data = np.load(filename)\n",
    "    print(data.shape)\n",
    "    voc_part = data[:,voc,:,:]\n",
    "    v = np.mean(voc_part,axis=1)\n",
    "    v = np.expand_dims(v,axis=1)\n",
    "    print('v shape: ',v.shape)\n",
    "    pm_part = data[:,pm25,:,:]\n",
    "    p = np.mean(pm_part,axis=1)\n",
    "    p = np.expand_dims(p,axis=1)\n",
    "    print('p shape: ',p.shape)\n",
    "    no_part = data[:,no,:,:]\n",
    "    n = np.mean(no_part,axis=1)\n",
    "    n = np.expand_dims(n,axis=1)\n",
    "    rest_data = np.concatenate((data[:,rest,:,:],v,p,n),axis=1)\n",
    "    print('rest shape: ',rest_data.shape)\n",
    "    with open('/AS_data/zeyuan_folder/concat_data/rest_'+filename.split('/')[-1].replace('51','07'),'wb') as f:\n",
    "        np.save(f,rest_data)\n",
    "    print('*'*20)"
   ]
  }
 ],
 "metadata": {
  "kernelspec": {
   "display_name": "Python 3",
   "language": "python",
   "name": "python3"
  },
  "language_info": {
   "codemirror_mode": {
    "name": "ipython",
    "version": 3
   },
   "file_extension": ".py",
   "mimetype": "text/x-python",
   "name": "python",
   "nbconvert_exporter": "python",
   "pygments_lexer": "ipython3",
   "version": "3.7.6"
  }
 },
 "nbformat": 4,
 "nbformat_minor": 2
}
