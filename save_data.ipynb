{
 "cells": [
  {
   "cell_type": "code",
   "execution_count": 1,
   "metadata": {},
   "outputs": [],
   "source": [
    "import numpy as np\n",
    "import netCDF4 as nc\n",
    "import glob\n",
    "from copy import deepcopy"
   ]
  },
  {
   "cell_type": "code",
   "execution_count": 2,
   "metadata": {},
   "outputs": [
    {
     "name": "stdout",
     "output_type": "stream",
     "text": [
      "31\n",
      "<class 'netCDF4._netCDF4.Dataset'>\n"
     ]
    }
   ],
   "source": [
    "data = []\n",
    "for i in range(274,305):\n",
    "    data.append(nc.Dataset('/scratch/tmp/EM_copy/EM_2015{}'.format(i), 'a'))\n",
    "# for i in range(100,121):\n",
    "#     data.append(nc.Dataset('/scratch/tmp/EM_copy/EM_2015{}'.format(i), 'a'))\n",
    "print(len(data))\n",
    "print(type(data[0]))"
   ]
  },
  {
   "cell_type": "code",
   "execution_count": 3,
   "metadata": {},
   "outputs": [
    {
     "name": "stdout",
     "output_type": "stream",
     "text": [
      "/AS_data/zeyuan_folder/reload_data/adjust_7EM_10_744_51_182_232.npy\n",
      "(744, 51, 182, 232)\n",
      "(744, 1, 51, 182, 232)\n"
     ]
    }
   ],
   "source": [
    "for filename in sorted(glob.glob('/AS_data/zeyuan_folder/reload_data/adjust_7EM_10_744_51_182_232.npy')):\n",
    "    print(filename)\n",
    "    final = np.load(filename)\n",
    "    print(final.shape)\n",
    "final = np.expand_dims(final,axis = 1)\n",
    "print(final.shape)"
   ]
  },
  {
   "cell_type": "code",
   "execution_count": 4,
   "metadata": {},
   "outputs": [
    {
     "name": "stdout",
     "output_type": "stream",
     "text": [
      "<class 'list'>\n",
      "['ALD2', 'CO', 'ETH', 'FORM', 'ISOP', 'NH3', 'NO', 'NO2', 'UNR', 'OLE', 'PAR', 'PEC', 'PMC', 'PMOTHR', 'PNO3', 'POC', 'PSO4', 'PCL', 'PNH4', 'PNA', 'PMG', 'PK', 'PCA', 'PNCOM', 'PFE', 'PAL', 'PSI', 'PTI', 'PMN', 'PH2O', 'SO2', 'SULF', 'TERP', 'TOL', 'XYL', 'MEOH', 'ETOH', 'ETHA', 'ALDX', 'IOLE', 'CH4', 'AACD', 'NAPH', 'NR', 'SOAALK', 'XYLMN', 'PRPA', 'BENZ', 'ETHY', 'ACET', 'KET']\n",
      "51\n"
     ]
    }
   ],
   "source": [
    "var_keys = [name for name in data[0].variables]\n",
    "var_keys = var_keys[1:]\n",
    "print(type(var_keys))\n",
    "print(var_keys)\n",
    "print(len(var_keys))"
   ]
  },
  {
   "cell_type": "code",
   "execution_count": 5,
   "metadata": {
    "scrolled": true
   },
   "outputs": [
    {
     "name": "stdout",
     "output_type": "stream",
     "text": [
      "Process 0/31\n",
      "Process 1/31\n",
      "Process 2/31\n",
      "Process 3/31\n",
      "Process 4/31\n",
      "Process 5/31\n",
      "Process 6/31\n",
      "Process 7/31\n",
      "Process 8/31\n",
      "Process 9/31\n",
      "Process 10/31\n",
      "Process 11/31\n",
      "Process 12/31\n",
      "Process 13/31\n",
      "Process 14/31\n",
      "Process 15/31\n",
      "Process 16/31\n",
      "Process 17/31\n",
      "Process 18/31\n",
      "Process 19/31\n",
      "Process 20/31\n",
      "Process 21/31\n",
      "Process 22/31\n",
      "Process 23/31\n",
      "Process 24/31\n",
      "Process 25/31\n",
      "Process 26/31\n",
      "Process 27/31\n",
      "Process 28/31\n",
      "Process 29/31\n",
      "Process 30/31\n"
     ]
    }
   ],
   "source": [
    "for i in range(len(data)): \n",
    "    variable = data[i].variables\n",
    "    for em in range(51):\n",
    "        em_data = deepcopy(variable[var_keys[em]][:-1])\n",
    "        final_em = final[i*24:i*24+24,:,em,:,:]\n",
    "        sum_em = np.sum(em_data, axis = 1, keepdims = True)\n",
    "        finetune_em = final_em * em_data  / sum_em\n",
    "        variable[var_keys[em]][:-1] = finetune_em\n",
    "    print('Process {}/{}'.format(i,len(data)))"
   ]
  }
 ],
 "metadata": {
  "kernelspec": {
   "display_name": "Python 3",
   "language": "python",
   "name": "python3"
  },
  "language_info": {
   "codemirror_mode": {
    "name": "ipython",
    "version": 3
   },
   "file_extension": ".py",
   "mimetype": "text/x-python",
   "name": "python",
   "nbconvert_exporter": "python",
   "pygments_lexer": "ipython3",
   "version": "3.7.6"
  }
 },
 "nbformat": 4,
 "nbformat_minor": 4
}
