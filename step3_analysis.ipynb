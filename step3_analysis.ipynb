{
 "cells": [
  {
   "cell_type": "code",
   "execution_count": null,
   "metadata": {},
   "outputs": [],
   "source": [
    "import glob\n",
    "import torch\n",
    "import pickle\n",
    "import numpy as np\n"
   ]
  },
  {
   "cell_type": "code",
   "execution_count": null,
   "metadata": {},
   "outputs": [],
   "source": [
    "obs_labels = []\n",
    "for filename in sorted(glob.glob('/AS_data/obs_npy/*.npy')):\n",
    "    print(filename+'   is loading')\n",
    "    obs_label = np.load(filename)\n",
    "    tick,_,W,H = obs_label.shape\n",
    "    obs_labels.append(obs_label[:,2].copy())\n",
    "    del obs_label\n",
    "\n",
    "fine_inputs = []\n",
    "for filename in sorted(glob.glob('/AS_data/finetune_input_npy/*.npy')):\n",
    "    print(filename+'   is loading')\n",
    "    EM = np.load(filename)\n",
    "    tick,_,W,H = EM.shape\n",
    "    print(tick)\n",
    "    fine_inputs.append(EM[:].copy())\n",
    "\n",
    "org_inputs = []\n",
    "for filename in sorted(glob.glob('/AS_data/Emis_npy/*.npy')):\n",
    "    print(filename+'   is loading')\n",
    "    EM = np.load(filename)\n",
    "    tick,_,W,H = EM.shape\n",
    "    print(tick)\n",
    "    org_inputs.append(EM[:].copy())"
   ]
  },
  {
   "cell_type": "code",
   "execution_count": null,
   "metadata": {},
   "outputs": [],
   "source": []
  },
  {
   "cell_type": "code",
   "execution_count": null,
   "metadata": {},
   "outputs": [],
   "source": [
    "for i in range(1): #len(fine_inputs)):\n",
    "    obs_label = obs_labels[i].copy()\n",
    "    obs_label[obs_label>0] = 1\n",
    "    obs_label[obs_label<=0] = 0\n",
    "    obs_label = np.mean(obs_label,axis = 0)\n",
    "    plt.imshow(obs_label[::-1],cmap=plt.cm.hot_r)\n",
    "    plt.title('observation')\n",
    "    plt.colorbar()\n",
    "    plt.show()\n",
    "    \n",
    "    for em_idx in range(51): #fine_inputs[0].shape[1]):\n",
    "        fine_input = fine_inputs[i][:,em_idx].copy()\n",
    "        org_input = org_inputs[i][:,em_idx].copy()\n",
    "        \n",
    "        fine_input = np.sum(fine_input,axis = 0)\n",
    "        org_input = np.sum(org_input,axis = 0)\n",
    "#         org_input[org_input == 0] = 1e-1\n",
    "        \n",
    "        a = fine_input/(org_input+1e-1)\n",
    "#         a[a>100] = 100\n",
    "#         a[a<-100] = -100\n",
    "        \n",
    "#         a[obs_label<=0.5] = np.min(a)\n",
    "        \n",
    "        plt.imshow(a[::-1],cmap=plt.cm.hot_r)\n",
    "        plt.title(dic[em_idx])\n",
    "        plt.colorbar()\n",
    "        plt.show()\n",
    "        \n",
    "        \n",
    "        a = fine_input - org_input\n",
    "        plt.imshow(a[::-1],cmap=plt.cm.hot_r)\n",
    "        plt.title('difference')\n",
    "        plt.colorbar()\n",
    "        plt.show()\n",
    "        \n",
    "        plt.figure(figsize=(15,5))\n",
    "        plt.imshow(np.concatenate([fine_input[::-1],org_input[::-1]],axis = 1),cmap=plt.cm.hot_r)\n",
    "        plt.title(dic[em_idx])\n",
    "        plt.colorbar()\n",
    "        plt.show()\n",
    "        \n",
    "        a = a[obs_label>0.5]\n",
    "        print(np.mean(np.abs(a[a!=0])))\n",
    "        plt.hist(a[a!=0].reshape(-1),bins = 100)\n",
    "        plt.title(dic[em_idx])\n",
    "        plt.show()"
   ]
  }
 ],
 "metadata": {
  "kernelspec": {
   "display_name": "Python 3",
   "language": "python",
   "name": "python3"
  },
  "language_info": {
   "codemirror_mode": {
    "name": "ipython",
    "version": 3
   },
   "file_extension": ".py",
   "mimetype": "text/x-python",
   "name": "python",
   "nbconvert_exporter": "python",
   "pygments_lexer": "ipython3",
   "version": "3.6.9"
  }
 },
 "nbformat": 4,
 "nbformat_minor": 4
}
