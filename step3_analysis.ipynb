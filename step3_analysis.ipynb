{
 "cells": [
  {
   "cell_type": "code",
   "execution_count": 1,
   "metadata": {},
   "outputs": [],
   "source": [
    "import glob\n",
    "import torch\n",
    "import codecs\n",
    "import pickle\n",
    "import numpy as np\n",
    "import matplotlib\n",
    "import matplotlib.pyplot as plt\n",
    "\n",
    "%matplotlib inline\n"
   ]
  },
  {
   "cell_type": "code",
   "execution_count": 3,
   "metadata": {},
   "outputs": [],
   "source": [
    "'''新疆：东经75°到东经95°;纬度:北纬35°到北纬50°\n",
    "东三省：经度为118°E-135°E,纬度为39-51\n",
    "河北：东经110-122.32,北纬32.6-40.62\n",
    "东南沿海:东经108.85-121.22,北纬22.6,32.73'''\n",
    "\n",
    "area_lat_lon = {'xibei':[74,97,28,50],\n",
    "      'dongsanshen':[119,135,39,51],\n",
    "      'hebei':[110,122.32,32.6,40.62],\n",
    "      'dongnan':[108.85,121.22,22.6,32.73],\n",
    "       'xinan':[98,108.85,22.6,32.73],\n",
    "      }\n",
    "\n",
    "node_distribution = {i:np.zeros((182,232)).astype(np.bool) for i in area_lat_lon}\n",
    "\n",
    "\n",
    "station2idx = {}\n",
    "with codecs.open(\"/AS_data/DATA/monitorij_cn27_prov.txt\",'r',\"utf-8\") as f:\n",
    "    for i in f.readlines():\n",
    "        line = i.rstrip().split('\\t')\n",
    "        east_west,north_south = float(line[4]),float(line[5])\n",
    "        station2idx[line[0]]=(int(line[-2]),int(line[-1]))\n",
    "        for area in area_lat_lon:\n",
    "            if area_lat_lon[area][0]<east_west<area_lat_lon[area][1] and area_lat_lon[area][2]<north_south<area_lat_lon[area][3]:\n",
    "                node_distribution[area][station2idx[line[0]][1],station2idx[line[0]][0]] += 1\n",
    "                \n",
    "# for i in node_distribution:\n",
    "#     print(i)\n",
    "#     plt.imshow(node_distribution[i][::-1])\n",
    "#     plt.show()"
   ]
  },
  {
   "cell_type": "code",
   "execution_count": 4,
   "metadata": {},
   "outputs": [
    {
     "name": "stdout",
     "output_type": "stream",
     "text": [
      "/AS_data/obs_npy/obs2015_01_744_6_182_232.npy   is loading\n",
      "/AS_data/finetune_input_prelu_VOCsame_PM25_O3_NO2_SO2/month_01_finetune_input.npy   is loading\n",
      "744\n",
      "/AS_data/Emis_with_foreign_npy/EM_2015_01_744_51_182_232.npy   is loading\n",
      "744\n"
     ]
    }
   ],
   "source": [
    "obs_labels = []\n",
    "for filename in sorted(glob.glob('/AS_data/obs_npy/obs2015_01*')):\n",
    "    print(filename+'   is loading')\n",
    "    obs_label = np.load(filename)\n",
    "    tick,_,W,H = obs_label.shape\n",
    "    obs_labels.append(obs_label[:,2].copy())\n",
    "    del obs_label\n",
    "\n",
    "fine_inputs = []\n",
    "for filename in sorted(glob.glob('/AS_data/finetune_input_prelu_VOCsame_PM25_O3_NO2_SO2/month_01*')):\n",
    "    print(filename+'   is loading')\n",
    "    EM = np.load(filename)\n",
    "    tick,_,W,H = EM.shape\n",
    "    print(tick)\n",
    "    fine_inputs.append(EM[:].copy())\n",
    "\n",
    "org_inputs = []\n",
    "for filename in sorted(glob.glob('/AS_data/Emis_with_foreign_npy/EM_2015_01*')):\n",
    "    print(filename+'   is loading')\n",
    "    EM = np.load(filename)\n",
    "    tick,_,W,H = EM.shape\n",
    "    print(tick)\n",
    "    org_inputs.append(EM[:].copy())"
   ]
  },
  {
   "cell_type": "code",
   "execution_count": 5,
   "metadata": {},
   "outputs": [],
   "source": [
    "dic = {0: 'ALD2', 1: 'CO', 2: 'ETH', 3: 'FORM', 4: 'ISOP', 5: 'NH3', 6: 'NO', 7: 'NO2', 8: 'UNR', 9: 'OLE', 10: 'PAR', 11: 'PEC', 12: 'PMC', 13: 'PMOTHR', 14: 'PNO3', 15: 'POC', 16: 'PSO4', 17: 'PCL', 18: 'PNH4', 19: 'PNA', 20: 'PMG', 21: 'PK', 22: 'PCA', 23: 'PNCOM', 24: 'PFE', 25: 'PAL', 26: 'PSI', 27: 'PTI', 28: 'PMN', 29: 'PH2O', 30: 'SO2', 31: 'SULF', 32: 'TERP', 33: 'TOL', 34: 'XYL', 35: 'MEOH', 36: 'ETOH', 37: 'ETHA', 38: 'ALDX', 39: 'IOLE', 40: 'CH4', 41: 'AACD', 42: 'NAPH', 43: 'NR', 44: 'SOAALK', 45: 'XYLMN', 46: 'PRPA', 47: 'BENZ', 48: 'ETHY', 49: 'ACET', 50: 'KET'}\n",
    "\n",
    "\n",
    "# import numpy as np\n",
    "# idx_search = [0,2,3,4,9,32, 34, 35, 36, 37, 39, 42, 43, 44, 46, 47,]\n",
    "# def combination(nums):\n",
    "#     if len(nums) == 1:\n",
    "#         return [[nums[0]],[]]\n",
    "#     f1_end = combination(nums[1:])\n",
    "#     return [[nums[0]]+i for i in f1_end]+f1_end\n",
    "\n",
    "\n",
    "# combine_idx_search = [idx_search[:i]+idx_search[i+1:] for i in range(len(idx_search))] + idx_search\n",
    "# len(combine_idx_search)\n",
    "# # combine_idx_search = [np.array(i) for i in combination(idx_search)]\n"
   ]
  },
  {
   "cell_type": "code",
   "execution_count": null,
   "metadata": {},
   "outputs": [],
   "source": [
    "for i in range(1): #len(fine_inputs)):\n",
    "    obs_label = obs_labels[i].copy()\n",
    "    obs_label[obs_label>0] = 1\n",
    "    obs_label[obs_label<=0] = 0\n",
    "    obs_label = np.mean(obs_label,axis = 0)\n",
    "    plt.imshow(obs_label[::-1],cmap=plt.cm.hot_r)\n",
    "    plt.title('observation')\n",
    "    plt.colorbar()\n",
    "    plt.show()\n",
    "    \n",
    "    for em_idx in range(51): #fine_inputs[0].shape[1]):\n",
    "        fine_input = fine_inputs[i][:,em_idx].copy()\n",
    "        org_input = org_inputs[i][:,em_idx].copy()\n",
    "        \n",
    "        fine_input = np.sum(fine_input,axis = 0)\n",
    "        org_input = np.sum(org_input,axis = 0)\n",
    "#         org_input[org_input == 0] = 1e-1\n",
    "        plt.figure(figsize=(15,5))    \n",
    "        plt.subplot(1,2,1)\n",
    "        a = fine_input/(org_input+1e-1)\n",
    "\n",
    "        plt.imshow(a[::-1],cmap=plt.cm.hot_r)\n",
    "        plt.title(dic[em_idx])\n",
    "        plt.colorbar()\n",
    "#         plt.show()\n",
    "\n",
    "        plt.subplot(1,2,2)\n",
    "        a = fine_input - org_input\n",
    "        plt.imshow(a[::-1],cmap=plt.cm.hot_r)\n",
    "        plt.title('difference')\n",
    "        plt.colorbar()\n",
    "        plt.show()\n",
    "        \n",
    "        plt.figure(figsize=(15,5))\n",
    "        plt.imshow(np.concatenate([fine_input[::-1],org_input[::-1]],axis = 1),cmap=plt.cm.hot_r)\n",
    "        plt.title(dic[em_idx])\n",
    "        plt.colorbar()\n",
    "        plt.show()\n",
    "        \n",
    "        a = a[obs_label>0.5]\n",
    "        print(np.mean(np.abs(a[a!=0])))\n",
    "        plt.hist(a[a!=0].reshape(-1),bins = 100)\n",
    "        plt.title(dic[em_idx])\n",
    "        plt.show()"
   ]
  },
  {
   "cell_type": "code",
   "execution_count": null,
   "metadata": {},
   "outputs": [],
   "source": [
    "for i in range(1): #len(fine_inputs)):\n",
    "    print('---------')\n",
    "    obs_label = obs_labels[i].copy()\n",
    "    obs_label[obs_label>0] = 1\n",
    "    obs_label[obs_label<=0] = 0\n",
    "    obs_label = np.mean(obs_label,axis = 0)\n",
    "    plt.imshow(obs_label[::-1],cmap=plt.cm.hot_r)\n",
    "    plt.title('observation')\n",
    "    plt.colorbar()\n",
    "    plt.show()\n",
    "    \n",
    "    for em_idx in range(51): #fine_inputs[0].shape[1]):\n",
    "        fine_input = fine_inputs[i][:,em_idx].copy()\n",
    "        org_input = org_inputs[i][:,em_idx].copy()\n",
    "        \n",
    "        plt.figure(figsize=(15,5))\n",
    "        for order,area in enumerate(node_distribution):\n",
    "            \n",
    "            area_fine_input = np.mean(fine_input[:,node_distribution[area]],axis = -1)\n",
    "            area_org_input = np.mean(org_input[:,node_distribution[area]],axis = -1)\n",
    "            \n",
    "            area_fine_input = area_fine_input.reshape(-1,24)\n",
    "            area_org_input = area_org_input.reshape(-1,24)\n",
    "            \n",
    "            area_fine_input = np.mean(area_fine_input,axis = 0)\n",
    "            area_org_input = np.mean(area_org_input,axis = 0)\n",
    "            \n",
    "            plt.subplot(1,len(node_distribution),order+1)\n",
    "            plt.plot(area_fine_input,'r')\n",
    "            plt.plot(area_org_input,'k')\n",
    "            plt.plot(area_fine_input-area_org_input,'b--')\n",
    "            plt.legend(['finetune','org','fine-org'])\n",
    "            plt.title(area+':'+dic[em_idx])\n",
    "        plt.show()\n",
    "        \n"
   ]
  },
  {
   "cell_type": "code",
   "execution_count": null,
   "metadata": {},
   "outputs": [],
   "source": [
    "em_idx"
   ]
  },
  {
   "cell_type": "code",
   "execution_count": null,
   "metadata": {},
   "outputs": [],
   "source": []
  },
  {
   "cell_type": "code",
   "execution_count": null,
   "metadata": {},
   "outputs": [],
   "source": []
  },
  {
   "cell_type": "code",
   "execution_count": null,
   "metadata": {},
   "outputs": [],
   "source": []
  },
  {
   "cell_type": "code",
   "execution_count": null,
   "metadata": {},
   "outputs": [],
   "source": []
  },
  {
   "cell_type": "code",
   "execution_count": null,
   "metadata": {},
   "outputs": [],
   "source": []
  },
  {
   "cell_type": "code",
   "execution_count": null,
   "metadata": {},
   "outputs": [],
   "source": [
    "node_distribution.keys()"
   ]
  },
  {
   "cell_type": "code",
   "execution_count": null,
   "metadata": {},
   "outputs": [],
   "source": []
  }
 ],
 "metadata": {
  "kernelspec": {
   "display_name": "Python 3",
   "language": "python",
   "name": "python3"
  },
  "language_info": {
   "codemirror_mode": {
    "name": "ipython",
    "version": 3
   },
   "file_extension": ".py",
   "mimetype": "text/x-python",
   "name": "python",
   "nbconvert_exporter": "python",
   "pygments_lexer": "ipython3",
   "version": "3.7.7"
  }
 },
 "nbformat": 4,
 "nbformat_minor": 4
}
