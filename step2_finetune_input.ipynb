{
 "cells": [
  {
   "cell_type": "code",
   "execution_count": 1,
   "metadata": {},
   "outputs": [],
   "source": [
    "%load_ext autoreload\n",
    "%autoreload 2\n",
    "\n",
    "import glob\n",
    "import logging\n",
    "import numpy as np\n",
    "from importlib import reload  # Not needed in Python 2\n",
    "\n",
    "import torch\n",
    "from torch import nn\n",
    "import torch.nn.functional as F\n",
    "from torchvision.models import ResNet\n",
    "from torch.utils.data import DataLoader,Dataset\n",
    "\n",
    "\n",
    "from dataset.ASdataset import AS_Data\n",
    "from dataset.ASdataset_obs_train_input import AS_Data_obs\n",
    "\n",
    "device = torch.device(\"cuda\"  if torch.cuda.is_available() else \"cpu\")\n",
    "reload(logging)\n",
    "logging.basicConfig(level=logging.INFO,#控制台打印的日志级别\n",
    "                    filename='logging.txt',\n",
    "                    filemode='a',##模式，有w和a，w就是写模式，每次都会重新写日志，覆盖之前的日志\n",
    "                    #a是追加模式，默认如果不写的话，就是追加模式\n",
    "                    format=\n",
    "                    '%(asctime)s : %(message)s',\n",
    "                    )\n",
    "\n",
    "import matplotlib\n",
    "import matplotlib.pyplot as plt\n",
    "\n",
    "%matplotlib inline\n",
    "\n",
    "def image_show(im,title = '',r=10,base=80):\n",
    "    im[:r,:r] = base\n",
    "    im[r,r] = 0\n",
    "    im[im>base] = base\n",
    "    plt.title(title)\n",
    "    plt.imshow(im[::-1])\n",
    "    plt.show()\n",
    "    \n",
    "# logging.info('\\n\\n\\n\\n\\n')\n",
    "# logging.info('with 3 conv grid to concat\\n')\n",
    "# logging.info('2res block, use simple feature: EM inventory simple,2d ALL,3d ALL\\n')\n",
    "\n",
    "class Tensor_Parameter(nn.Module):\n",
    "    def __init__(self,):\n",
    "        super(Tensor_Parameter,self).__init__()\n",
    "        self.Input = nn.Parameter(torch.zeros(1))\n",
    "    \n",
    "    def forward(self,x):\n",
    "        self.Input.data = x\n",
    "        return self.Input\n",
    "\n",
    "\n",
    "class Focal_loss_regression(nn.Module):\n",
    "    def __init__(self,max_update=10,_lambda=2,):\n",
    "        super(Focal_loss_regression,self).__init__()\n",
    "        self._lambda = _lambda\n",
    "        max_update = np.power(1/max_update,1/_lambda)\n",
    "        max_update = 1/max_update\n",
    "        max_update = 1/(max_update-1)\n",
    "        self.max_update = max_update\n",
    "        \n",
    "    def forward(self,pred,target):\n",
    "        diff_abs = torch.abs(pred-target)\n",
    "        diff_max = (1+self.max_update)*torch.max(diff_abs)\n",
    "#         diff_max.detach()\n",
    "        rate = torch.pow((1-1/diff_max*diff_abs)**self._lambda,-1)\n",
    "        diff_abs = rate*diff_abs\n",
    "        \n",
    "#         return diff_abs\n",
    "        return torch.mean(diff_abs)"
   ]
  },
  {
   "cell_type": "code",
   "execution_count": null,
   "metadata": {},
   "outputs": [
    {
     "name": "stdout",
     "output_type": "stream",
     "text": [
      "train data is loading \n",
      "/AS_data/Conc_npy/TOTAL_2015_01_NO2_SO2_O3_PM25_PM10_CO__744_6_182_232.npy   is loading\n",
      "/AS_data/Conc_npy/TOTAL_2015_02_NO2_SO2_O3_PM25_PM10_CO__672_6_182_232.npy   is loading\n",
      "/AS_data/Conc_npy/TOTAL_2015_04_NO2_SO2_O3_PM25_PM10_CO__720_6_182_232.npy   is loading\n",
      "/AS_data/Conc_npy/TOTAL_2015_07_NO2_SO2_O3_PM25_PM10_CO__744_6_182_232.npy   is loading\n",
      "/AS_data/Conc_npy/TOTAL_2015_10_NO2_SO2_O3_PM25_PM10_CO__744_6_182_232.npy   is loading\n",
      "/AS_data/Emis_with_foreign_npy/EM_2015_01_744_51_182_232.npy   is loading\n",
      "/AS_data/Emis_with_foreign_npy/EM_2015_02_672_51_182_232.npy   is loading\n",
      "/AS_data/Emis_with_foreign_npy/EM_2015_04_720_51_182_232.npy   is loading\n",
      "/AS_data/Emis_with_foreign_npy/EM_2015_07_744_51_182_232.npy   is loading\n",
      "/AS_data/Emis_with_foreign_npy/EM_2015_10_744_51_182_232.npy   is loading\n"
     ]
    }
   ],
   "source": [
    "T = 24\n",
    "batch = 1\n",
    "pollution = ['PM25','O3']\n",
    "cfg = {'EM':'/AS_data/Emis_with_foreign_npy/EM_2015_*',\n",
    "      'label':'/AS_data/Conc_npy/TOTAL_2015_*',\n",
    "      'grid':'/AS_data/Grid_npy/grid_27_182_232.npy',\n",
    "      'METCRO2D':'/AS_data/METCRO2D_npy/METCRO2D_2015_*',\n",
    "      'METCRO3D':'',\n",
    "      'METCRO3D_5height':'',\n",
    "      'obs_label':'/AS_data/obs_npy/obs2015_*'}\n",
    "\n",
    "# cfg = {'EM':'/AS_data/Emis_with_foreign_npy/EM_2015_01*',\n",
    "#         'label':'/AS_data/Conc_npy/TOTAL_2015_01*',\n",
    "#         'grid':'/AS_data/Grid_npy/grid_27_182_232.npy',\n",
    "#         'METCRO2D':'/AS_data/METCRO2D_npy/METCRO2D_2015_01*',\n",
    "#         'METCRO3D':'',\n",
    "#         'METCRO3D_5height':'',\n",
    "#         'obs_label':'/AS_data/obs_npy/obs2015_01_*'}\n",
    "\n",
    "### remove CH4,AACD,ACET\n",
    "EM_idx = np.array([ 0,  1,  2,  3,  4,  5,  6,  7,  8,  9, \\\n",
    "                     10, 11, 12, 13, 14, 15, 16,17, 18, 19, \\\n",
    "                     20, 21, 22, 23, 24, 25, 26, 27, 28, 29, \\\n",
    "                     30, 31, 32, 33,34, 35, 36, 37, 38, 39, \\\n",
    "                     42, 43, 44, 45, 46, 47, 48, 50])\n",
    "\n",
    "# EM_idx = np.array([0,2,3,4,8,9,10,32, 33, 34, 35, 36, 37, 38, 39, 40, 41, 42, 43, 44, 45, 46, 47, 48,49, 50])\n",
    "# EM_idx = np.array([6,7])\n",
    "\n",
    "print('train data is loading ')\n",
    "Data = AS_Data_obs(cfg,left = 0,right = 1,window = T,pollution = pollution,EM_idx = EM_idx)\n",
    "trainloader = DataLoader(Data,batch_size=batch,shuffle=True)\n",
    "print(len(Data))\n",
    "print(Data.EM_idx)\n",
    "# print('test data is loading ')\n",
    "# test_Data = AS_Data_obs(cfg,left = 0.75,right = 0.98,window = 6)\n",
    "# testloader = DataLoader(test_Data,batch_size=1,shuffle=False)\n",
    "# print(len(test_Data))"
   ]
  },
  {
   "cell_type": "code",
   "execution_count": null,
   "metadata": {},
   "outputs": [],
   "source": [
    "from model.res_model_LSTM import res8\n",
    "from model.unet_model_LSTM import UNet\n",
    "\n",
    "# test_model = res8(51+34,27,inplanes=64,layers = [2],T=24) #+5*16\n",
    "# name = 'res_2layer_correctdata'\n",
    "# test_model.load_state_dict(torch.load('model_save/res_2layer_9_epoch.t'))\n",
    "test_model = UNet(51+34,27,T=T,bilinear=False,pre_dim = len(pollution)) #+80\n",
    "t2p = Tensor_Parameter()\n",
    "\n",
    "name = 'unet2'\n",
    "\n",
    "test_model.to(device)\n",
    "t2p.to(device)\n",
    "criterion = torch.nn.L1Loss()\n",
    "# optimizer = torch.optim.Adam(test_model.parameters(),lr=1e-3)\n",
    "optimizer = torch.optim.Adam(t2p.parameters(),lr=1e-2)\n",
    "test_model.load_state_dict(torch.load('model_save/unet_LSTM_ALL_prelu_PM25_O3__best_epoch.t'))\n",
    "# test_model.load_state_dict(torch.load('model_save/o3_best_unet2_1month_65_epoch.t'))"
   ]
  },
  {
   "cell_type": "code",
   "execution_count": null,
   "metadata": {},
   "outputs": [],
   "source": [
    "def score(model,loader,criterion= nn.L1Loss() ):\n",
    "    model.eval()\n",
    "    ls = []\n",
    "    for idx,i in enumerate(loader):\n",
    "        with torch.no_grad():\n",
    "            indexes,input,grid,yt_1,label,obs = i[0],i[1],i[2],i[3],i[4],i[5]\n",
    "            input,grid,yt_1,label,obs = input.to(device),grid.to(device),yt_1.to(device),label.to(device),obs.float().to(device)\n",
    "            input = t2p(input)\n",
    "            y_pred = model(input,grid,yt_1)\n",
    "            \n",
    "            Data.update_labels(indexes,y_pred)\n",
    "            if torch.sum(obs!=-999)==0:\n",
    "                continue\n",
    "            \n",
    "            cur_loss = []\n",
    "            for pollution in range(y_pred.shape[1]):\n",
    "                cur_pred = y_pred[:,pollution]\n",
    "                cur_obs = obs[:,pollution]\n",
    "                loss = criterion(cur_pred[cur_obs!=-999],cur_obs[cur_obs!=-999])\n",
    "                cur_loss.append(loss.cpu().data)\n",
    "            ls.append(cur_loss)\n",
    "        \n",
    "    return np.mean(np.array(ls),axis = 0)"
   ]
  },
  {
   "cell_type": "code",
   "execution_count": null,
   "metadata": {},
   "outputs": [],
   "source": [
    "for epoch in range(25):\n",
    "    logging.info('-----------{}-----------'.format(epoch))\n",
    "    ls = []\n",
    "    \n",
    "    test_model.eval()\n",
    "    test_model.rnn.train()\n",
    "    for idx,i in enumerate(trainloader):\n",
    "        \n",
    "        indexes,input,grid,yt_1,label,obs = i[0],i[1],i[2],i[3],i[4],i[5]\n",
    "        input,grid,yt_1,label,obs = input.to(device),grid.to(device),yt_1.to(device),label.to(device),obs.to(device)\n",
    "        input = t2p(input)\n",
    "        y_pred = test_model(input,grid,yt_1)\n",
    "\n",
    "        if torch.sum(obs!=-999)==0:\n",
    "            continue\n",
    "        optimizer.zero_grad()\n",
    "        \n",
    "        loss = criterion(y_pred[obs!=-999],obs[obs!=-999])\n",
    "        loss.backward()\n",
    "        optimizer.step()\n",
    "        ls.append(loss.cpu().data)\n",
    "        \n",
    "        #udpate input parameter\n",
    "        Data.update(indexes,t2p.Input.data)\n",
    "\n",
    "#         Data.update_labels(indexes,y_pred)\n",
    "        if len(ls)%400==0:\n",
    "            logging.info('epoch {} cur loss {}'.format(epoch,np.mean(ls)))\n",
    "    print('epoch {} cur loss {}'.format(epoch,np.mean(ls)))\n",
    "    logging.info('epoch {} cur loss {}'.format(epoch,np.mean(ls)))\n",
    "\n",
    "    if epoch%3 == 0:\n",
    "        test_score_L1 = score(test_model,trainloader,criterion = nn.L1Loss()) \n",
    "        logging.info('-------------cur test loss L1:  {}'.format(','.join([str(s) for s in test_score_L1])))\n",
    "\n",
    "    if epoch%10 == 0:\n",
    "        for idx,month in enumerate(['01','02','04','07','10']):\n",
    "            np.save('/AS_data/finetune_input_prelu_PM25_O3/month_{}_finetune_input.npy'.format(month),Data.EM[idx])"
   ]
  },
  {
   "cell_type": "code",
   "execution_count": null,
   "metadata": {},
   "outputs": [],
   "source": []
  },
  {
   "cell_type": "code",
   "execution_count": 7,
   "metadata": {},
   "outputs": [
    {
     "name": "stdout",
     "output_type": "stream",
     "text": [
      "0\n",
      "1\n",
      "2\n",
      "3\n",
      "4\n"
     ]
    }
   ],
   "source": [
    "for idx,month in enumerate(['01','02','04','07','10']):\n",
    "    print(idx)\n",
    "    np.save('/AS_data/finetune_input_VOC_rm_CH4_npy/month_{}_finetune_input.npy'.format(month),Data.EM[idx])"
   ]
  },
  {
   "cell_type": "code",
   "execution_count": 5,
   "metadata": {},
   "outputs": [
    {
     "name": "stdout",
     "output_type": "stream",
     "text": [
      "/AS_data/finetune_input_VOC_rm_CH4_npy/month_01_finetune_input.npy   is loading\n",
      "744\n"
     ]
    }
   ],
   "source": [
    "fine_inputs = []\n",
    "for filename in sorted(glob.glob('/AS_data/finetune_input_VOC_rm_CH4_npy/month_01*')):\n",
    "    print(filename+'   is loading')\n",
    "    EM = np.load(filename)\n",
    "    tick,_,W,H = EM.shape\n",
    "    print(tick)\n",
    "    fine_inputs.append(EM[:].copy())"
   ]
  },
  {
   "cell_type": "code",
   "execution_count": 6,
   "metadata": {},
   "outputs": [],
   "source": [
    "his_idx = np.array([1])\n",
    "his_value = Data.EM[0][:,his_idx].copy()\n",
    "\n",
    "Data.EM[0][:,his_idx] = his_value\n",
    "\n",
    "# test_score_L1 = score(test_model,trainloader,criterion = nn.L1Loss()) \n",
    "# logging.info('-------------cur test loss L1:  {}'.format(test_score_L1))\n",
    "# print('-------------cur test loss L1:  {}'.format(test_score_L1))"
   ]
  },
  {
   "cell_type": "code",
   "execution_count": null,
   "metadata": {},
   "outputs": [],
   "source": [
    "import numpy as np\n",
    "# idx_search = list(range(51))\n",
    "idx_search = [0,2,3,4,8,9,10,32, 33, 34, 35, 36, 37, 38, 39, 42, 43, 44, 45, 46, 47, 48, 50]\n",
    "def combination(nums):\n",
    "    if len(nums) == 1:\n",
    "        return [[nums[0]],[]]\n",
    "    f1_end = combination(nums[1:])\n",
    "    return [[nums[0]]+i for i in f1_end]+f1_end\n",
    "\n",
    "\n",
    "combine_idx_search = [idx_search] + [idx_search[:i]+idx_search[i+1:] for i in range(len(idx_search))]\n",
    "# combine_idx_search = [np.array(i) for i in combination(idx_search)]\n",
    "\n",
    "\n",
    "for idx in combine_idx_search:\n",
    "    Data.EM[0][:,his_idx] = his_value\n",
    "    his_idx = idx\n",
    "    his_value = Data.EM[0][:,his_idx].copy()\n",
    "    \n",
    "    Data.EM[0][:,idx] = fine_inputs[0][:,idx]\n",
    "    test_score_L1 = score(test_model,trainloader,criterion = nn.L1Loss()) \n",
    "    logging.info('-------------EM idx is {},cur test loss L1:  {}'.format(idx,test_score_L1))\n",
    "    print('-------------EM idx is {},cur test loss L1:  {}'.format(idx,test_score_L1))"
   ]
  },
  {
   "cell_type": "code",
   "execution_count": 13,
   "metadata": {},
   "outputs": [
    {
     "data": {
      "text/plain": [
       "(744, 2, 182, 232)"
      ]
     },
     "execution_count": 13,
     "metadata": {},
     "output_type": "execute_result"
    }
   ],
   "source": [
    "Data.obs_label[0].shape"
   ]
  },
  {
   "cell_type": "code",
   "execution_count": null,
   "metadata": {},
   "outputs": [],
   "source": []
  },
  {
   "cell_type": "code",
   "execution_count": null,
   "metadata": {},
   "outputs": [],
   "source": []
  },
  {
   "cell_type": "code",
   "execution_count": null,
   "metadata": {},
   "outputs": [],
   "source": []
  },
  {
   "cell_type": "code",
   "execution_count": 18,
   "metadata": {},
   "outputs": [
    {
     "name": "stdout",
     "output_type": "stream",
     "text": [
      "0\n"
     ]
    },
    {
     "name": "stderr",
     "output_type": "stream",
     "text": [
      "/opt/conda/lib/python3.6/site-packages/numpy/core/fromnumeric.py:3257: RuntimeWarning: Mean of empty slice.\n",
      "  out=out, **kwargs)\n",
      "/opt/conda/lib/python3.6/site-packages/numpy/core/_methods.py:161: RuntimeWarning: invalid value encountered in true_divide\n",
      "  ret = ret.dtype.type(ret / rcount)\n"
     ]
    },
    {
     "name": "stdout",
     "output_type": "stream",
     "text": [
      "nan\n"
     ]
    },
    {
     "data": {
      "image/png": "[encoded data removed]",
      "text/plain": [
       "<Figure size 432x288 with 1 Axes>"
      ]
     },
     "metadata": {
      "needs_background": "light"
     },
     "output_type": "display_data"
    },
    {
     "name": "stdout",
     "output_type": "stream",
     "text": [
      "0.4014302\n"
     ]
    },
    {
     "data": {
      "image/png": "[encoded data removed]",
      "text/plain": [
       "<Figure size 432x288 with 1 Axes>"
      ]
     },
     "metadata": {
      "needs_background": "light"
     },
     "output_type": "display_data"
    },
    {
     "name": "stdout",
     "output_type": "stream",
     "text": [
      "0.4014302\n"
     ]
    },
    {
     "data": {
      "image/png": "[encoded data removed]",
      "text/plain": [
       "<Figure size 432x288 with 1 Axes>"
      ]
     },
     "metadata": {
      "needs_background": "light"
     },
     "output_type": "display_data"
    },
    {
     "name": "stdout",
     "output_type": "stream",
     "text": [
      "1\n",
      "nan\n"
     ]
    },
    {
     "data": {
      "image/png": "[encoded data removed]",
      "text/plain": [
       "<Figure size 432x288 with 1 Axes>"
      ]
     },
     "metadata": {
      "needs_background": "light"
     },
     "output_type": "display_data"
    },
    {
     "name": "stdout",
     "output_type": "stream",
     "text": [
      "0.3820005\n"
     ]
    },
    {
     "data": {
      "image/png": "[encoded data removed]",
      "text/plain": [
       "<Figure size 432x288 with 1 Axes>"
      ]
     },
     "metadata": {
      "needs_background": "light"
     },
     "output_type": "display_data"
    },
    {
     "name": "stdout",
     "output_type": "stream",
     "text": [
      "0.3820005\n"
     ]
    },
    {
     "data": {
      "image/png": "[encoded data removed]",
      "text/plain": [
       "<Figure size 432x288 with 1 Axes>"
      ]
     },
     "metadata": {
      "needs_background": "light"
     },
     "output_type": "display_data"
    }
   ],
   "source": [
    "for i in range(len(Data.obs_label)):\n",
    "    for pollution in range(len(Data.pollution_idx)):\n",
    "        print(pollution)\n",
    "        obs = Data.obs_label[i][:,pollution].copy()\n",
    "        fine_l = Data.finetune_label[i][:,pollution].copy()\n",
    "        ctm_l = Data.label[i][:,pollution].copy()\n",
    "\n",
    "        obs[Data.obs_label[i][:,pollution]==-999] = 0\n",
    "        fine_l[Data.obs_label[i][:,pollution]==-999] = 0\n",
    "        ctm_l[Data.obs_label[i][:,pollution]==-999] = 0\n",
    "\n",
    "        obs = np.sum(obs,axis = 0)\n",
    "        fine_l = np.sum(fine_l,axis = 0)\n",
    "        ctm_l = np.sum(ctm_l,axis = 0)\n",
    "        \n",
    "        a = (obs-fine_l)/(obs+1e-3)\n",
    "        b = (fine_l-ctm_l)/(obs+1e-3)\n",
    "        c = (obs-ctm_l)/(obs+1e-3)\n",
    "        \n",
    "        print(np.mean(np.abs(a[a!=0])))\n",
    "        plt.hist(a[a!=0].reshape(-1),range=(-1,1),bins = 100)\n",
    "        plt.title(i)\n",
    "        plt.show()\n",
    "\n",
    "        plt.hist(b[b!=0].reshape(-1),range=(-1,1),bins = 100)\n",
    "        print(np.mean(np.abs(b[b!=0])))\n",
    "        plt.title(i)\n",
    "        plt.show()\n",
    "\n",
    "        plt.hist(c[c!=0].reshape(-1),range=(-1,1),bins = 100)\n",
    "        print(np.mean(np.abs(c[c!=0])))\n",
    "        plt.title(i)\n",
    "        plt.show()"
   ]
  },
  {
   "cell_type": "code",
   "execution_count": 8,
   "metadata": {},
   "outputs": [
    {
     "name": "stdout",
     "output_type": "stream",
     "text": [
      "1\n"
     ]
    }
   ],
   "source": [
    "print(1)"
   ]
  },
  {
   "cell_type": "code",
   "execution_count": 31,
   "metadata": {},
   "outputs": [],
   "source": [
    "string = ''''''"
   ]
  },
  {
   "cell_type": "code",
   "execution_count": null,
   "metadata": {},
   "outputs": [],
   "source": [
    "ls = []\n",
    "for i in string.split('\\n'):\n",
    "    if 'test' in i:\n",
    "        ls.append(float(i.split(' ')[-1]))\n",
    "        print(ls[-1])"
   ]
  }
 ],
 "metadata": {
  "kernelspec": {
   "display_name": "Python 3",
   "language": "python",
   "name": "python3"
  },
  "language_info": {
   "codemirror_mode": {
    "name": "ipython",
    "version": 3
   },
   "file_extension": ".py",
   "mimetype": "text/x-python",
   "name": "python",
   "nbconvert_exporter": "python",
   "pygments_lexer": "ipython3",
   "version": "3.6.9"
  }
 },
 "nbformat": 4,
 "nbformat_minor": 4
}
