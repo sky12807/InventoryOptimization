{
 "cells": [
  {
   "cell_type": "code",
   "execution_count": 1,
   "metadata": {},
   "outputs": [],
   "source": [
    "%load_ext autoreload\n",
    "%autoreload 2\n",
    "\n",
    "import glob\n",
    "import logging\n",
    "import numpy as np\n",
    "from importlib import reload  # Not needed in Python 2\n",
    "\n",
    "import torch\n",
    "from torch import nn\n",
    "import torch.nn.functional as F\n",
    "from torchvision.models import ResNet\n",
    "from torch.utils.data import DataLoader,Dataset\n",
    "\n",
    "\n",
    "from dataset.ASdataset import AS_Data\n",
    "from dataset.ASdataset_obs_train_input import AS_Data_obs\n",
    "\n",
    "from model import res8,UNet,UNet_Res\n",
    "\n",
    "device = torch.device(\"cuda\"  if torch.cuda.is_available() else \"cpu\")\n",
    "reload(logging)\n",
    "logging.basicConfig(level=logging.INFO,#控制台打印的日志级别\n",
    "                    filename='logging.txt',\n",
    "                    filemode='a',##模式，有w和a，w就是写模式，每次都会重新写日志，覆盖之前的日志\n",
    "                    #a是追加模式，默认如果不写的话，就是追加模式\n",
    "                    format=\n",
    "                    '%(asctime)s : %(message)s',\n",
    "                    )\n",
    "\n",
    "import matplotlib\n",
    "import matplotlib.pyplot as plt\n",
    "\n",
    "%matplotlib inline\n",
    "\n",
    "def image_show(im,title = '',r=10,base=80):\n",
    "    im[:r,:r] = base\n",
    "    im[r,r] = 0\n",
    "    im[im>base] = base\n",
    "    plt.title(title)\n",
    "    plt.imshow(im[::-1])\n",
    "    plt.show()\n",
    "    \n",
    "# logging.info('\\n\\n\\n\\n\\n')\n",
    "# logging.info('with 3 conv grid to concat\\n')\n",
    "# logging.info('2res block, use simple feature: EM inventory simple,2d ALL,3d ALL\\n')\n",
    "\n",
    "class Tensor_Parameter(nn.Module):\n",
    "    def __init__(self,):\n",
    "        super(Tensor_Parameter,self).__init__()\n",
    "        self.Input = nn.Parameter(torch.zeros(1))\n",
    "    \n",
    "    def forward(self,x):\n",
    "        self.Input.data = x\n",
    "        return self.Input\n",
    "\n",
    "\n",
    "class Focal_loss_regression(nn.Module):\n",
    "    def __init__(self,max_update=10,_lambda=2,):\n",
    "        super(Focal_loss_regression,self).__init__()\n",
    "        self._lambda = _lambda\n",
    "        max_update = np.power(1/max_update,1/_lambda)\n",
    "        max_update = 1/max_update\n",
    "        max_update = 1/(max_update-1)\n",
    "        self.max_update = max_update\n",
    "        \n",
    "    def forward(self,pred,target):\n",
    "        diff_abs = torch.abs(pred-target)\n",
    "        diff_max = (1+self.max_update)*torch.max(diff_abs)\n",
    "#         diff_max.detach()\n",
    "        rate = torch.pow((1-1/diff_max*diff_abs)**self._lambda,-1)\n",
    "        diff_abs = rate*diff_abs\n",
    "        \n",
    "#         return diff_abs\n",
    "        return torch.mean(diff_abs)"
   ]
  },
  {
   "cell_type": "code",
   "execution_count": 2,
   "metadata": {},
   "outputs": [
    {
     "name": "stdout",
     "output_type": "stream",
     "text": [
      "train data is loading \n",
      "/AS_data/Conc_npy/O3_2015_01_744_182_232.npy   is loading\n",
      "/AS_data/Emis_with_foreign_npy/EM_2015_01_744_51_182_232.npy   is loading\n",
      "/AS_data/METCRO2D_npy/METCRO2D_2015_01_744_34_182_232.npy   is loading\n",
      "/AS_data/obs_npy/obs2015_01_744_6_182_232.npy   is loading\n",
      "738\n",
      "[ 0  2  3  4  8  9 10 32 33 34 35 36 37 38 39 42 43 44 45 46 47 48 50]\n"
     ]
    }
   ],
   "source": [
    "\n",
    "# cfg = {'EM':'/AS_data/Emis_with_foreign_npy/EM_2015_*',\n",
    "#       'label':'/AS_data/Conc_npy/O3_2015_*',\n",
    "#       'grid':'/AS_data/Grid_npy/grid_27_182_232.npy',\n",
    "#       'METCRO2D':'/AS_data/METCRO2D_npy/METCRO2D_2015_*',\n",
    "#       'METCRO3D':'',\n",
    "#       'METCRO3D_5height':'',\n",
    "#       'obs_label':'/AS_data/obs_npy/obs2015_*'}\n",
    "cfg = {'EM':'/AS_data/Emis_with_foreign_npy/EM_2015_01*',\n",
    "        'label':'/AS_data/Conc_npy/O3_2015_01*',\n",
    "        'grid':'/AS_data/Grid_npy/grid_27_182_232.npy',\n",
    "        'METCRO2D':'/AS_data/METCRO2D_npy/METCRO2D_2015_01*',\n",
    "        'METCRO3D':'',\n",
    "        'METCRO3D_5height':'',\n",
    "        'obs_label':'/AS_data/obs_npy/obs2015_01_*'}\n",
    "\n",
    "### remove CH4,AACD,ACET\n",
    "EM_idx = np.array([0,2,3,4,8,9,10,32, 33, 34, 35, 36, 37, 38, 39, 42, 43, 44, 45, 46, 47, 48, 50])\n",
    "\n",
    "# EM_idx = np.array([0,2,3,4,8,9,10,32, 33, 34, 35, 36, 37, 38, 39, 40, 41, 42, 43, 44, 45, 46, 47, 48,49, 50])\n",
    "# EM_idx = np.array([6,7])\n",
    "\n",
    "print('train data is loading ')\n",
    "Data = AS_Data_obs(cfg,left = 0,right = 1,window = 6,EM_idx = EM_idx)\n",
    "trainloader = DataLoader(Data,batch_size=1,shuffle=True)\n",
    "print(len(Data))\n",
    "print(Data.EM_idx)\n",
    "# print('test data is loading ')\n",
    "# test_Data = AS_Data_obs(cfg,left = 0.75,right = 0.98,window = 6)\n",
    "# testloader = DataLoader(test_Data,batch_size=1,shuffle=False)\n",
    "# print(len(test_Data))"
   ]
  },
  {
   "cell_type": "code",
   "execution_count": null,
   "metadata": {},
   "outputs": [],
   "source": []
  },
  {
   "cell_type": "code",
   "execution_count": 3,
   "metadata": {},
   "outputs": [
    {
     "data": {
      "text/plain": [
       "<All keys matched successfully>"
      ]
     },
     "execution_count": 3,
     "metadata": {},
     "output_type": "execute_result"
    }
   ],
   "source": [
    "# test_model = res8(51+34,27,inplanes=64,layers = [2],T=24) #+5*16\n",
    "# name = 'res_2layer_correctdata'\n",
    "# test_model.load_state_dict(torch.load('model_save/res_2layer_9_epoch.t'))\n",
    "test_model = UNet(51+34,27,T=6,bilinear=False) #+80\n",
    "t2p = Tensor_Parameter()\n",
    "\n",
    "name = 'unet2'\n",
    "\n",
    "test_model.to(device)\n",
    "t2p.to(device)\n",
    "criterion = torch.nn.L1Loss()\n",
    "# optimizer = torch.optim.Adam(test_model.parameters(),lr=1e-3)\n",
    "optimizer = torch.optim.Adam(t2p.parameters(),lr=1e-2)\n",
    "test_model.load_state_dict(torch.load('model_save/o3_with_foreign_unet2_5month_10_epoch.t'))\n",
    "# test_model.load_state_dict(torch.load('model_save/o3_best_unet2_1month_65_epoch.t'))"
   ]
  },
  {
   "cell_type": "code",
   "execution_count": 4,
   "metadata": {},
   "outputs": [],
   "source": [
    "def score(model,loader,criterion= nn.L1Loss() ):\n",
    "    model.eval()\n",
    "    ls = []\n",
    "    for idx,i in enumerate(loader):\n",
    "        with torch.no_grad():\n",
    "            indexes,input,grid,yt_1,label,obs = i[0],i[1],i[2],i[3],i[4],i[5]\n",
    "            yt_1 = torch.unsqueeze(yt_1,1)\n",
    "            input,grid,yt_1,label,obs = input.to(device),grid.to(device),yt_1.to(device),label.to(device),obs.float().to(device)\n",
    "            input = t2p(input)\n",
    "            y_pred = model(input,grid,yt_1)\n",
    "            y_pred = torch.squeeze(y_pred) #,dim = 2)\n",
    "            y_pred = y_pred.view(label.shape)\n",
    "            \n",
    "            Data.update_labels(indexes,y_pred)\n",
    "            if torch.sum(obs!=-999)==0:\n",
    "                continue\n",
    "\n",
    "            \n",
    "            loss = criterion(y_pred[obs!=-999],obs[obs!=-999])\n",
    "            ls.append(loss.cpu().data)\n",
    "        \n",
    "    return np.mean(np.array(ls))"
   ]
  },
  {
   "cell_type": "code",
   "execution_count": null,
   "metadata": {},
   "outputs": [
    {
     "name": "stdout",
     "output_type": "stream",
     "text": [
      "epoch 0 cur loss 29.41399574279785\n",
      "epoch 1 cur loss 24.86199188232422\n"
     ]
    }
   ],
   "source": [
    "for epoch in range(25):\n",
    "    logging.info('-----------{}-----------'.format(epoch))\n",
    "    ls = []\n",
    "    \n",
    "    test_model.eval()\n",
    "    test_model.rnn.train()\n",
    "    for idx,i in enumerate(trainloader):\n",
    "        \n",
    "        indexes,input,grid,yt_1,label,obs = i[0],i[1],i[2],i[3],i[4],i[5]\n",
    "        yt_1 = torch.unsqueeze(yt_1,1)\n",
    "        input,grid,yt_1,label,obs = input.to(device),grid.to(device),yt_1.to(device),label.to(device),obs.to(device)\n",
    "        input = t2p(input)\n",
    "        y_pred = test_model(input,grid,yt_1)\n",
    "\n",
    "        y_pred = torch.squeeze(y_pred) #,dim = 2)\n",
    "        if torch.sum(obs!=-999)==0:\n",
    "            continue\n",
    "        optimizer.zero_grad()\n",
    "        \n",
    "        y_pred = y_pred.view(label.shape)\n",
    "        loss = criterion(y_pred[obs!=-999],obs[obs!=-999])\n",
    "        loss.backward()\n",
    "        optimizer.step()\n",
    "        ls.append(loss.cpu().data)\n",
    "        \n",
    "        #udpate input parameter\n",
    "        Data.update(indexes,t2p.Input.data)\n",
    "\n",
    "#         Data.update_labels(indexes,y_pred)\n",
    "#         if len(ls)%400==0:\n",
    "#             logging.info('epoch {} cur loss {}'.format(epoch,np.mean(ls)))\n",
    "    print('epoch {} cur loss {}'.format(epoch,np.mean(ls)))\n",
    "    logging.info('epoch {} cur loss {}'.format(epoch,np.mean(ls)))\n",
    "    test_score_L1 = score(test_model,trainloader,criterion = nn.L1Loss()) \n",
    "    logging.info('-------------cur test loss L1:  {}'.format(test_score_L1))\n",
    "    \n",
    "#     if epoch%5 == 0:\n",
    "#         torch.save(test_model.cpu().state_dict(),'model_save/finetune_input_{}_{}_epoch.t'.format(name,epoch))\n",
    "#         test_model.to(device)\n",
    "    if epoch%10 == 0:\n",
    "        for idx,month in enumerate(['01','02','04','07','10']):\n",
    "            np.save('/AS_data/finetune_input_VOC_rm_CH4_npy/month_{}_finetune_input.npy'.format(month),Data.EM[idx])"
   ]
  },
  {
   "cell_type": "code",
   "execution_count": 7,
   "metadata": {},
   "outputs": [
    {
     "name": "stdout",
     "output_type": "stream",
     "text": [
      "0\n",
      "1\n",
      "2\n",
      "3\n",
      "4\n"
     ]
    }
   ],
   "source": [
    "for idx,month in enumerate(['01','02','04','07','10']):\n",
    "    print(idx)\n",
    "    np.save('/AS_data/finetune_input_VOC_rm_CH4_npy/month_{}_finetune_input.npy'.format(month),Data.EM[idx])"
   ]
  },
  {
   "cell_type": "code",
   "execution_count": 5,
   "metadata": {},
   "outputs": [
    {
     "name": "stdout",
     "output_type": "stream",
     "text": [
      "/AS_data/finetune_input_VOC_rm_CH4_npy/month_01_finetune_input.npy   is loading\n",
      "744\n"
     ]
    }
   ],
   "source": [
    "fine_inputs = []\n",
    "for filename in sorted(glob.glob('/AS_data/finetune_input_VOC_rm_CH4_npy/month_01*')):\n",
    "    print(filename+'   is loading')\n",
    "    EM = np.load(filename)\n",
    "    tick,_,W,H = EM.shape\n",
    "    print(tick)\n",
    "    fine_inputs.append(EM[:].copy())"
   ]
  },
  {
   "cell_type": "code",
   "execution_count": 6,
   "metadata": {},
   "outputs": [],
   "source": [
    "his_idx = np.array([1])\n",
    "his_value = Data.EM[0][:,his_idx].copy()\n",
    "\n",
    "Data.EM[0][:,his_idx] = his_value\n",
    "\n",
    "# test_score_L1 = score(test_model,trainloader,criterion = nn.L1Loss()) \n",
    "# logging.info('-------------cur test loss L1:  {}'.format(test_score_L1))\n",
    "# print('-------------cur test loss L1:  {}'.format(test_score_L1))"
   ]
  },
  {
   "cell_type": "code",
   "execution_count": 7,
   "metadata": {},
   "outputs": [
    {
     "name": "stdout",
     "output_type": "stream",
     "text": [
      "-------------EM idx is [0, 2, 3, 4, 8, 9, 10, 32, 33, 34, 35, 36, 37, 38, 39, 42, 43, 44, 45, 46, 47, 48, 50],cur test loss L1:  8.618678092956543\n",
      "-------------EM idx is [2, 3, 4, 8, 9, 10, 32, 33, 34, 35, 36, 37, 38, 39, 42, 43, 44, 45, 46, 47, 48, 50],cur test loss L1:  8.691277503967285\n",
      "-------------EM idx is [0, 3, 4, 8, 9, 10, 32, 33, 34, 35, 36, 37, 38, 39, 42, 43, 44, 45, 46, 47, 48, 50],cur test loss L1:  8.656288146972656\n",
      "-------------EM idx is [0, 2, 4, 8, 9, 10, 32, 33, 34, 35, 36, 37, 38, 39, 42, 43, 44, 45, 46, 47, 48, 50],cur test loss L1:  8.667903900146484\n",
      "-------------EM idx is [0, 2, 3, 8, 9, 10, 32, 33, 34, 35, 36, 37, 38, 39, 42, 43, 44, 45, 46, 47, 48, 50],cur test loss L1:  15.679267883300781\n",
      "-------------EM idx is [0, 2, 3, 4, 9, 10, 32, 33, 34, 35, 36, 37, 38, 39, 42, 43, 44, 45, 46, 47, 48, 50],cur test loss L1:  8.627066612243652\n",
      "-------------EM idx is [0, 2, 3, 4, 8, 10, 32, 33, 34, 35, 36, 37, 38, 39, 42, 43, 44, 45, 46, 47, 48, 50],cur test loss L1:  8.635053634643555\n",
      "-------------EM idx is [0, 2, 3, 4, 8, 9, 32, 33, 34, 35, 36, 37, 38, 39, 42, 43, 44, 45, 46, 47, 48, 50],cur test loss L1:  8.620353698730469\n",
      "-------------EM idx is [0, 2, 3, 4, 8, 9, 10, 33, 34, 35, 36, 37, 38, 39, 42, 43, 44, 45, 46, 47, 48, 50],cur test loss L1:  10.40632152557373\n",
      "-------------EM idx is [0, 2, 3, 4, 8, 9, 10, 32, 34, 35, 36, 37, 38, 39, 42, 43, 44, 45, 46, 47, 48, 50],cur test loss L1:  8.663104057312012\n",
      "-------------EM idx is [0, 2, 3, 4, 8, 9, 10, 32, 33, 35, 36, 37, 38, 39, 42, 43, 44, 45, 46, 47, 48, 50],cur test loss L1:  8.640981674194336\n",
      "-------------EM idx is [0, 2, 3, 4, 8, 9, 10, 32, 33, 34, 36, 37, 38, 39, 42, 43, 44, 45, 46, 47, 48, 50],cur test loss L1:  9.146880149841309\n",
      "-------------EM idx is [0, 2, 3, 4, 8, 9, 10, 32, 33, 34, 35, 37, 38, 39, 42, 43, 44, 45, 46, 47, 48, 50],cur test loss L1:  8.816283226013184\n",
      "-------------EM idx is [0, 2, 3, 4, 8, 9, 10, 32, 33, 34, 35, 36, 38, 39, 42, 43, 44, 45, 46, 47, 48, 50],cur test loss L1:  8.631476402282715\n",
      "-------------EM idx is [0, 2, 3, 4, 8, 9, 10, 32, 33, 34, 35, 36, 37, 39, 42, 43, 44, 45, 46, 47, 48, 50],cur test loss L1:  8.735456466674805\n",
      "-------------EM idx is [0, 2, 3, 4, 8, 9, 10, 32, 33, 34, 35, 36, 37, 38, 42, 43, 44, 45, 46, 47, 48, 50],cur test loss L1:  8.773184776306152\n",
      "-------------EM idx is [0, 2, 3, 4, 8, 9, 10, 32, 33, 34, 35, 36, 37, 38, 39, 43, 44, 45, 46, 47, 48, 50],cur test loss L1:  9.856392860412598\n",
      "-------------EM idx is [0, 2, 3, 4, 8, 9, 10, 32, 33, 34, 35, 36, 37, 38, 39, 42, 44, 45, 46, 47, 48, 50],cur test loss L1:  8.638519287109375\n",
      "-------------EM idx is [0, 2, 3, 4, 8, 9, 10, 32, 33, 34, 35, 36, 37, 38, 39, 42, 43, 45, 46, 47, 48, 50],cur test loss L1:  9.268586158752441\n",
      "-------------EM idx is [0, 2, 3, 4, 8, 9, 10, 32, 33, 34, 35, 36, 37, 38, 39, 42, 43, 44, 46, 47, 48, 50],cur test loss L1:  8.62868595123291\n",
      "-------------EM idx is [0, 2, 3, 4, 8, 9, 10, 32, 33, 34, 35, 36, 37, 38, 39, 42, 43, 44, 45, 47, 48, 50],cur test loss L1:  8.660327911376953\n",
      "-------------EM idx is [0, 2, 3, 4, 8, 9, 10, 32, 33, 34, 35, 36, 37, 38, 39, 42, 43, 44, 45, 46, 48, 50],cur test loss L1:  8.638980865478516\n",
      "-------------EM idx is [0, 2, 3, 4, 8, 9, 10, 32, 33, 34, 35, 36, 37, 38, 39, 42, 43, 44, 45, 46, 47, 50],cur test loss L1:  8.721802711486816\n",
      "-------------EM idx is [0, 2, 3, 4, 8, 9, 10, 32, 33, 34, 35, 36, 37, 38, 39, 42, 43, 44, 45, 46, 47, 48],cur test loss L1:  8.683382987976074\n"
     ]
    }
   ],
   "source": [
    "import numpy as np\n",
    "# idx_search = list(range(51))\n",
    "idx_search = [0,2,3,4,8,9,10,32, 33, 34, 35, 36, 37, 38, 39, 42, 43, 44, 45, 46, 47, 48, 50]\n",
    "def combination(nums):\n",
    "    if len(nums) == 1:\n",
    "        return [[nums[0]],[]]\n",
    "    f1_end = combination(nums[1:])\n",
    "    return [[nums[0]]+i for i in f1_end]+f1_end\n",
    "\n",
    "\n",
    "combine_idx_search = [idx_search] + [idx_search[:i]+idx_search[i+1:] for i in range(len(idx_search))]\n",
    "# combine_idx_search = [np.array(i) for i in combination(idx_search)]\n",
    "\n",
    "\n",
    "for idx in combine_idx_search:\n",
    "    Data.EM[0][:,his_idx] = his_value\n",
    "    his_idx = idx\n",
    "    his_value = Data.EM[0][:,his_idx].copy()\n",
    "    \n",
    "    Data.EM[0][:,idx] = fine_inputs[0][:,idx]\n",
    "    test_score_L1 = score(test_model,trainloader,criterion = nn.L1Loss()) \n",
    "    logging.info('-------------EM idx is {},cur test loss L1:  {}'.format(idx,test_score_L1))\n",
    "    print('-------------EM idx is {},cur test loss L1:  {}'.format(idx,test_score_L1))"
   ]
  },
  {
   "cell_type": "code",
   "execution_count": null,
   "metadata": {},
   "outputs": [],
   "source": []
  },
  {
   "cell_type": "code",
   "execution_count": null,
   "metadata": {},
   "outputs": [],
   "source": []
  },
  {
   "cell_type": "code",
   "execution_count": 10,
   "metadata": {},
   "outputs": [
    {
     "name": "stdout",
     "output_type": "stream",
     "text": [
      "0.14539652\n"
     ]
    },
    {
     "data": {
      "image/png": "[encoded data removed]",
      "text/plain": [
       "<Figure size 432x288 with 1 Axes>"
      ]
     },
     "metadata": {
      "needs_background": "light"
     },
     "output_type": "display_data"
    },
    {
     "name": "stdout",
     "output_type": "stream",
     "text": [
      "0.29184833\n"
     ]
    },
    {
     "data": {
      "image/png": "[encoded data removed]",
      "text/plain": [
       "<Figure size 432x288 with 1 Axes>"
      ]
     },
     "metadata": {
      "needs_background": "light"
     },
     "output_type": "display_data"
    },
    {
     "name": "stdout",
     "output_type": "stream",
     "text": [
      "0.3820005\n"
     ]
    },
    {
     "data": {
      "image/png": "[encoded data removed]",
      "text/plain": [
       "<Figure size 432x288 with 1 Axes>"
      ]
     },
     "metadata": {
      "needs_background": "light"
     },
     "output_type": "display_data"
    },
    {
     "name": "stdout",
     "output_type": "stream",
     "text": [
      "0.13251483\n"
     ]
    },
    {
     "data": {
      "image/png": "[encoded data removed]",
      "text/plain": [
       "<Figure size 432x288 with 1 Axes>"
      ]
     },
     "metadata": {
      "needs_background": "light"
     },
     "output_type": "display_data"
    },
    {
     "name": "stdout",
     "output_type": "stream",
     "text": [
      "0.3099303\n"
     ]
    },
    {
     "data": {
      "image/png": "[encoded data removed]",
      "text/plain": [
       "<Figure size 432x288 with 1 Axes>"
      ]
     },
     "metadata": {
      "needs_background": "light"
     },
     "output_type": "display_data"
    },
    {
     "name": "stdout",
     "output_type": "stream",
     "text": [
      "0.38553756\n"
     ]
    },
    {
     "data": {
      "image/png": "[encoded data removed]",
      "text/plain": [
       "<Figure size 432x288 with 1 Axes>"
      ]
     },
     "metadata": {
      "needs_background": "light"
     },
     "output_type": "display_data"
    },
    {
     "name": "stdout",
     "output_type": "stream",
     "text": [
      "0.14255239\n"
     ]
    },
    {
     "data": {
      "image/png": "[encoded data removed]",
      "text/plain": [
       "<Figure size 432x288 with 1 Axes>"
      ]
     },
     "metadata": {
      "needs_background": "light"
     },
     "output_type": "display_data"
    },
    {
     "name": "stdout",
     "output_type": "stream",
     "text": [
      "0.32258847\n"
     ]
    },
    {
     "data": {
      "image/png": "[encoded data removed]",
      "text/plain": [
       "<Figure size 432x288 with 1 Axes>"
      ]
     },
     "metadata": {
      "needs_background": "light"
     },
     "output_type": "display_data"
    },
    {
     "name": "stdout",
     "output_type": "stream",
     "text": [
      "0.42805904\n"
     ]
    },
    {
     "data": {
      "image/png": "[encoded data removed]",
      "text/plain": [
       "<Figure size 432x288 with 1 Axes>"
      ]
     },
     "metadata": {
      "needs_background": "light"
     },
     "output_type": "display_data"
    },
    {
     "name": "stdout",
     "output_type": "stream",
     "text": [
      "0.15378994\n"
     ]
    },
    {
     "data": {
      "image/png": "[encoded data removed]",
      "text/plain": [
       "<Figure size 432x288 with 1 Axes>"
      ]
     },
     "metadata": {
      "needs_background": "light"
     },
     "output_type": "display_data"
    },
    {
     "name": "stdout",
     "output_type": "stream",
     "text": [
      "0.37214836\n"
     ]
    },
    {
     "data": {
      "image/png": "[encoded data removed]",
      "text/plain": [
       "<Figure size 432x288 with 1 Axes>"
      ]
     },
     "metadata": {
      "needs_background": "light"
     },
     "output_type": "display_data"
    },
    {
     "name": "stdout",
     "output_type": "stream",
     "text": [
      "0.49729133\n"
     ]
    },
    {
     "data": {
      "image/png": "[encoded data removed]",
      "text/plain": [
       "<Figure size 432x288 with 1 Axes>"
      ]
     },
     "metadata": {
      "needs_background": "light"
     },
     "output_type": "display_data"
    },
    {
     "name": "stdout",
     "output_type": "stream",
     "text": [
      "0.11916\n"
     ]
    },
    {
     "data": {
      "image/png": "[encoded data removed]",
      "text/plain": [
       "<Figure size 432x288 with 1 Axes>"
      ]
     },
     "metadata": {
      "needs_background": "light"
     },
     "output_type": "display_data"
    },
    {
     "name": "stdout",
     "output_type": "stream",
     "text": [
      "0.30959007\n"
     ]
    },
    {
     "data": {
      "image/png": "[encoded data removed]",
      "text/plain": [
       "<Figure size 432x288 with 1 Axes>"
      ]
     },
     "metadata": {
      "needs_background": "light"
     },
     "output_type": "display_data"
    },
    {
     "name": "stdout",
     "output_type": "stream",
     "text": [
      "0.39431167\n"
     ]
    },
    {
     "data": {
      "image/png": "[encoded data removed]",
      "text/plain": [
       "<Figure size 432x288 with 1 Axes>"
      ]
     },
     "metadata": {
      "needs_background": "light"
     },
     "output_type": "display_data"
    }
   ],
   "source": [
    "for i in range(len(Data.obs_label)):\n",
    "    obs = Data.obs_label[i].copy()\n",
    "    fine_l = Data.finetune_label[i].copy()\n",
    "    ctm_l = Data.label[i].copy()\n",
    "    \n",
    "    obs[Data.obs_label[i]==-999] = 0\n",
    "    fine_l[Data.obs_label[i]==-999] = 0\n",
    "    ctm_l[Data.obs_label[i]==-999] = 0\n",
    "    \n",
    "    obs = np.sum(obs,axis = 0)\n",
    "    fine_l = np.sum(fine_l,axis = 0)\n",
    "    ctm_l = np.sum(ctm_l,axis = 0)\n",
    "\n",
    "    a = (obs-fine_l)/(obs+1e-3)\n",
    "    b = (fine_l-ctm_l)/(obs+1e-3)\n",
    "    c = (obs-ctm_l)/(obs+1e-3)\n",
    "    \n",
    "    print(np.mean(np.abs(a[a!=0])))\n",
    "    plt.hist(a[a!=0].reshape(-1),range=(-1,1),bins = 100)\n",
    "    plt.title(i)\n",
    "    plt.show()\n",
    "    \n",
    "    plt.hist(b[b!=0].reshape(-1),range=(-1,1),bins = 100)\n",
    "    print(np.mean(np.abs(b[b!=0])))\n",
    "    plt.title(i)\n",
    "    plt.show()\n",
    "    \n",
    "    plt.hist(c[c!=0].reshape(-1),range=(-1,1),bins = 100)\n",
    "    print(np.mean(np.abs(c[c!=0])))\n",
    "    plt.title(i)\n",
    "    plt.show()"
   ]
  },
  {
   "cell_type": "code",
   "execution_count": 8,
   "metadata": {},
   "outputs": [
    {
     "name": "stdout",
     "output_type": "stream",
     "text": [
      "1\n"
     ]
    }
   ],
   "source": [
    "print(1)"
   ]
  },
  {
   "cell_type": "code",
   "execution_count": 31,
   "metadata": {},
   "outputs": [],
   "source": [
    "string = '''2020-01-09 02:00:19,619 : -----------85-----------\n",
    "2020-02-10 04:17:14,195 : -----------1-----------\n",
    "2020-02-10 04:18:52,588 : -----------1-----------\n",
    "2020-02-10 04:21:09,552 : epoch 1 cur loss 6.208492279052734\n",
    "2020-02-10 04:23:26,934 : epoch 1 cur loss 5.018283843994141\n",
    "2020-02-10 04:25:44,031 : epoch 1 cur loss 4.533339023590088\n",
    "2020-02-10 04:26:33,225 : epoch 1 cur loss 4.42041540145874\n",
    "2020-02-10 04:28:31,398 : -------------cur test loss L1:  3.358869791030884\n",
    "2020-02-10 04:28:31,398 : -----------2-----------\n",
    "2020-02-10 04:30:48,267 : epoch 2 cur loss 3.3837618827819824\n",
    "2020-02-10 04:33:05,177 : epoch 2 cur loss 3.3419721126556396\n",
    "2020-02-10 04:35:22,245 : epoch 2 cur loss 3.308359384536743\n",
    "2020-02-10 04:36:11,396 : epoch 2 cur loss 3.2946958541870117\n",
    "2020-02-10 04:38:09,414 : -------------cur test loss L1:  3.2966396808624268\n",
    "2020-02-10 04:38:09,414 : -----------3-----------\n",
    "2020-02-10 04:40:26,662 : epoch 3 cur loss 3.1640567779541016\n",
    "2020-02-10 04:42:43,721 : epoch 3 cur loss 3.152400016784668\n",
    "2020-02-10 04:45:00,661 : epoch 3 cur loss 3.130884885787964\n",
    "2020-02-10 04:45:50,022 : epoch 3 cur loss 3.1161270141601562\n",
    "2020-02-10 04:47:47,946 : -------------cur test loss L1:  3.025149345397949\n",
    "2020-02-10 04:47:47,947 : -----------4-----------\n",
    "2020-02-10 04:50:05,065 : epoch 4 cur loss 3.0001003742218018\n",
    "2020-02-10 04:52:22,085 : epoch 4 cur loss 2.977891445159912\n",
    "2020-02-10 04:54:39,224 : epoch 4 cur loss 2.9724903106689453\n",
    "2020-02-10 04:55:28,425 : epoch 4 cur loss 2.96563720703125\n",
    "2020-02-10 04:57:25,574 : -------------cur test loss L1:  3.0188703536987305\n",
    "2020-02-10 04:57:25,574 : -----------5-----------\n",
    "2020-02-10 04:59:42,483 : epoch 5 cur loss 2.916017532348633\n",
    "2020-02-10 05:01:59,757 : epoch 5 cur loss 2.904031276702881\n",
    "2020-02-10 05:04:16,881 : epoch 5 cur loss 2.900691032409668\n",
    "2020-02-10 05:05:06,234 : epoch 5 cur loss 2.89338755607605\n",
    "2020-02-10 05:07:04,660 : -------------cur test loss L1:  2.931881904602051\n",
    "2020-02-10 05:07:04,728 : -----------6-----------\n",
    "2020-02-10 05:09:21,965 : epoch 6 cur loss 2.8397815227508545\n",
    "2020-02-10 05:11:39,008 : epoch 6 cur loss 2.8042197227478027\n",
    "2020-02-10 05:13:56,236 : epoch 6 cur loss 2.79805850982666\n",
    "2020-02-10 05:14:45,555 : epoch 6 cur loss 2.799067974090576\n",
    "2020-02-10 05:16:43,173 : -------------cur test loss L1:  2.928449869155884\n",
    "2020-02-10 05:16:43,173 : -----------7-----------\n",
    "2020-02-10 05:19:00,045 : epoch 7 cur loss 2.750631093978882\n",
    "2020-02-10 05:21:17,042 : epoch 7 cur loss 2.749678373336792\n",
    "2020-02-10 05:23:34,170 : epoch 7 cur loss 2.727116584777832\n",
    "2020-02-10 05:24:23,452 : epoch 7 cur loss 2.7199630737304688\n",
    "2020-02-10 05:26:21,141 : -------------cur test loss L1:  2.784907102584839\n",
    "2020-02-10 05:26:21,141 : -----------8-----------\n",
    "2020-02-10 05:28:38,119 : epoch 8 cur loss 2.68583607673645\n",
    "2020-02-10 05:30:55,111 : epoch 8 cur loss 2.6832475662231445\n",
    "2020-02-10 05:33:12,056 : epoch 8 cur loss 2.6641533374786377\n",
    "2020-02-10 05:34:01,346 : epoch 8 cur loss 2.6629064083099365\n",
    "2020-02-10 05:35:58,790 : -------------cur test loss L1:  2.7607438564300537\n",
    "2020-02-10 05:35:58,790 : -----------9-----------\n",
    "2020-02-10 05:38:15,578 : epoch 9 cur loss 2.6248886585235596\n",
    "2020-02-10 05:40:32,528 : epoch 9 cur loss 2.628173828125\n",
    "2020-02-10 05:42:49,383 : epoch 9 cur loss 2.6198368072509766\n",
    "2020-02-10 05:43:38,717 : epoch 9 cur loss 2.6176486015319824\n",
    "2020-02-10 05:45:36,609 : -------------cur test loss L1:  2.827610731124878\n",
    "2020-02-10 05:45:36,609 : -----------10-----------\n",
    "2020-02-10 05:47:53,396 : epoch 10 cur loss 2.5582282543182373\n",
    "2020-02-10 05:50:10,413 : epoch 10 cur loss 2.5617969036102295\n",
    "2020-02-10 05:52:27,243 : epoch 10 cur loss 2.545816659927368\n",
    "2020-02-10 05:53:16,371 : epoch 10 cur loss 2.54058837890625\n",
    "2020-02-10 05:55:13,393 : -------------cur test loss L1:  2.6743078231811523\n",
    "2020-02-10 05:55:13,413 : -----------11-----------\n",
    "2020-02-10 05:57:30,375 : epoch 11 cur loss 2.5282132625579834\n",
    "2020-02-10 05:59:47,236 : epoch 11 cur loss 2.5155887603759766\n",
    "2020-02-10 06:02:04,301 : epoch 11 cur loss 2.497243642807007\n",
    "2020-02-10 06:02:53,418 : epoch 11 cur loss 2.499302864074707\n",
    "2020-02-10 06:04:51,094 : -------------cur test loss L1:  2.6435916423797607\n",
    "2020-02-10 06:04:51,094 : -----------12-----------\n",
    "2020-02-10 06:07:07,970 : epoch 12 cur loss 2.4518704414367676\n",
    "2020-02-10 06:09:24,821 : epoch 12 cur loss 2.4353270530700684\n",
    "2020-02-10 06:11:41,830 : epoch 12 cur loss 2.4240331649780273\n",
    "2020-02-10 06:12:30,982 : epoch 12 cur loss 2.4230477809906006\n",
    "2020-02-10 06:14:28,537 : -------------cur test loss L1:  2.6226983070373535\n",
    "2020-02-10 06:14:28,538 : -----------13-----------\n",
    "2020-02-10 06:16:45,588 : epoch 13 cur loss 2.4317808151245117\n",
    "2020-02-10 06:19:02,697 : epoch 13 cur loss 2.407217502593994\n",
    "2020-02-10 06:21:19,470 : epoch 13 cur loss 2.400853157043457\n",
    "2020-02-10 06:22:08,630 : epoch 13 cur loss 2.398366928100586\n",
    "2020-02-10 06:24:06,022 : -------------cur test loss L1:  2.5793890953063965\n",
    "2020-02-10 06:24:06,022 : -----------14-----------\n",
    "2020-02-10 06:26:23,434 : epoch 14 cur loss 2.344460964202881\n",
    "2020-02-10 06:28:40,754 : epoch 14 cur loss 2.3582048416137695\n",
    "2020-02-10 06:30:57,831 : epoch 14 cur loss 2.3544328212738037\n",
    "2020-02-10 06:31:47,053 : epoch 14 cur loss 2.3501644134521484\n",
    "2020-02-10 06:33:44,722 : -------------cur test loss L1:  2.5039620399475098\n",
    "2020-02-10 06:33:44,722 : -----------15-----------\n",
    "2020-02-10 06:36:01,727 : epoch 15 cur loss 2.3140180110931396\n",
    "2020-02-10 06:38:18,869 : epoch 15 cur loss 2.317276954650879\n",
    "2020-02-10 06:40:35,786 : epoch 15 cur loss 2.3079004287719727\n",
    "2020-02-10 06:41:24,884 : epoch 15 cur loss 2.310889720916748\n",
    "2020-02-10 06:43:22,193 : -------------cur test loss L1:  2.566239595413208\n",
    "2020-02-10 06:43:22,212 : -----------16-----------\n",
    "2020-02-10 06:45:39,174 : epoch 16 cur loss 2.3023874759674072\n",
    "2020-02-10 06:47:56,293 : epoch 16 cur loss 2.298218011856079\n",
    "2020-02-10 06:50:13,659 : epoch 16 cur loss 2.2899227142333984\n",
    "2020-02-10 06:51:02,717 : epoch 16 cur loss 2.287020683288574\n",
    "2020-02-10 06:53:00,576 : -------------cur test loss L1:  2.5853404998779297\n",
    "2020-02-10 06:53:00,577 : -----------17-----------\n",
    "2020-02-10 06:55:17,651 : epoch 17 cur loss 2.249863386154175\n",
    "2020-02-10 06:57:34,569 : epoch 17 cur loss 2.258232355117798\n",
    "2020-02-10 06:59:51,316 : epoch 17 cur loss 2.253901481628418\n",
    "2020-02-10 07:00:40,595 : epoch 17 cur loss 2.2485663890838623\n",
    "2020-02-10 07:02:38,011 : -------------cur test loss L1:  2.4710710048675537\n",
    "2020-02-10 07:02:38,012 : -----------18-----------\n",
    "2020-02-10 07:04:55,065 : epoch 18 cur loss 2.2233235836029053\n",
    "2020-02-10 07:07:12,072 : epoch 18 cur loss 2.2104384899139404\n",
    "2020-02-10 07:09:28,807 : epoch 18 cur loss 2.218118190765381\n",
    "2020-02-10 07:10:17,929 : epoch 18 cur loss 2.2185752391815186\n",
    "2020-02-10 07:12:15,106 : -------------cur test loss L1:  2.4650511741638184\n",
    "2020-02-10 07:12:15,106 : -----------19-----------\n",
    "2020-02-10 07:14:32,081 : epoch 19 cur loss 2.200848340988159\n",
    "2020-02-10 07:16:49,067 : epoch 19 cur loss 2.1992275714874268\n",
    "2020-02-10 07:19:05,806 : epoch 19 cur loss 2.190901756286621\n",
    "2020-02-10 07:19:54,935 : epoch 19 cur loss 2.1963016986846924\n",
    "2020-02-10 07:21:52,209 : -------------cur test loss L1:  2.459066867828369\n",
    "2020-02-10 07:21:52,209 : -----------20-----------\n",
    "2020-02-10 07:24:09,081 : epoch 20 cur loss 2.152768135070801\n",
    "2020-02-10 07:26:26,171 : epoch 20 cur loss 2.1532444953918457\n",
    "2020-02-10 07:28:42,905 : epoch 20 cur loss 2.160585641860962\n",
    "2020-02-10 07:29:32,077 : epoch 20 cur loss 2.1634647846221924\n",
    "2020-02-10 07:31:29,196 : -------------cur test loss L1:  2.491321086883545\n",
    "2020-02-10 07:31:29,216 : -----------21-----------\n",
    "2020-02-10 07:33:45,950 : epoch 21 cur loss 2.1310009956359863\n",
    "2020-02-10 07:36:02,940 : epoch 21 cur loss 2.1367156505584717\n",
    "2020-02-10 07:38:19,627 : epoch 21 cur loss 2.134702444076538\n",
    "2020-02-10 07:39:08,643 : epoch 21 cur loss 2.139465808868408\n",
    "2020-02-10 07:41:05,748 : -------------cur test loss L1:  2.438997268676758\n",
    "2020-02-10 07:41:05,748 : -----------22-----------\n",
    "2020-02-10 07:43:22,948 : epoch 22 cur loss 2.1402242183685303\n",
    "2020-02-10 07:45:40,025 : epoch 22 cur loss 2.136044502258301\n",
    "2020-02-10 07:47:57,030 : epoch 22 cur loss 2.125871181488037\n",
    "2020-02-10 07:48:46,124 : epoch 22 cur loss 2.1248672008514404\n",
    "2020-02-10 07:50:43,396 : -------------cur test loss L1:  2.4444873332977295\n",
    "2020-02-10 07:50:43,396 : -----------23-----------\n",
    "2020-02-10 07:53:00,516 : epoch 23 cur loss 2.1149110794067383\n",
    "2020-02-10 07:55:17,798 : epoch 23 cur loss 2.109031915664673\n",
    "2020-02-10 07:57:34,612 : epoch 23 cur loss 2.1043665409088135\n",
    "2020-02-10 07:58:23,630 : epoch 23 cur loss 2.101576328277588\n",
    "2020-02-10 08:00:21,106 : -------------cur test loss L1:  2.4032392501831055\n",
    "2020-02-10 08:00:21,106 : -----------24-----------\n",
    "2020-02-10 08:02:38,093 : epoch 24 cur loss 2.068479537963867\n",
    "2020-02-10 08:04:55,422 : epoch 24 cur loss 2.071687698364258\n",
    "2020-02-10 08:07:12,420 : epoch 24 cur loss 2.075469970703125\n",
    "2020-02-10 08:08:01,441 : epoch 24 cur loss 2.081498861312866\n",
    "2020-02-10 08:09:59,397 : -------------cur test loss L1:  2.415404796600342\n",
    "2020-02-10 08:09:59,397 : -----------25-----------\n",
    "2020-02-10 08:12:16,678 : epoch 25 cur loss 2.047368049621582\n",
    "2020-02-10 08:14:33,709 : epoch 25 cur loss 2.050459384918213\n",
    "2020-02-10 08:16:50,718 : epoch 25 cur loss 2.057363748550415\n",
    "2020-02-10 08:17:39,899 : epoch 25 cur loss 2.058741331100464\n",
    "2020-02-10 08:19:37,821 : -------------cur test loss L1:  2.401548385620117\n",
    "2020-02-10 08:19:37,841 : -----------26-----------\n",
    "2020-02-10 08:21:54,993 : epoch 26 cur loss 2.0381553173065186\n",
    "2020-02-10 08:24:12,161 : epoch 26 cur loss 2.0414774417877197\n",
    "2020-02-10 08:26:29,293 : epoch 26 cur loss 2.0448873043060303\n",
    "2020-02-10 08:27:18,382 : epoch 26 cur loss 2.042546272277832\n",
    "2020-02-10 08:29:15,930 : -------------cur test loss L1:  2.4352848529815674\n",
    "2020-02-10 08:29:15,931 : -----------27-----------\n",
    "2020-02-10 08:31:32,826 : epoch 27 cur loss 2.009843349456787\n",
    "2020-02-10 08:33:49,805 : epoch 27 cur loss 2.022012233734131\n",
    "2020-02-10 08:36:06,751 : epoch 27 cur loss 2.021984100341797\n",
    "2020-02-10 08:36:55,994 : epoch 27 cur loss 2.017699718475342\n",
    "2020-02-10 08:38:53,882 : -------------cur test loss L1:  2.36053466796875\n",
    "2020-02-10 08:38:53,882 : -----------28-----------\n",
    "2020-02-10 08:41:10,753 : epoch 28 cur loss 2.0010550022125244\n",
    "2020-02-10 08:43:27,583 : epoch 28 cur loss 2.0167768001556396\n",
    "2020-02-10 08:45:44,445 : epoch 28 cur loss 2.0054092407226562\n",
    "2020-02-10 08:46:33,641 : epoch 28 cur loss 2.005178689956665\n",
    "2020-02-10 08:48:31,049 : -------------cur test loss L1:  2.6486196517944336\n",
    "2020-02-10 08:48:31,049 : -----------29-----------\n",
    "2020-02-10 08:50:47,746 : epoch 29 cur loss 2.0149786472320557\n",
    "2020-02-10 08:53:04,731 : epoch 29 cur loss 1.997225284576416\n",
    "2020-02-10 08:55:21,903 : epoch 29 cur loss 1.9882129430770874\n",
    "2020-02-10 08:56:11,139 : epoch 29 cur loss 1.9900494813919067\n",
    "2020-02-10 08:58:08,531 : -------------cur test loss L1:  2.485868215560913\n",
    "2020-02-10 08:58:08,531 : -----------30-----------\n",
    "2020-02-10 09:00:25,571 : epoch 30 cur loss 1.9587271213531494\n",
    "2020-02-10 09:02:42,551 : epoch 30 cur loss 1.9656665325164795\n",
    "2020-02-10 09:04:59,375 : epoch 30 cur loss 1.9654052257537842\n",
    "2020-02-10 09:05:48,555 : epoch 30 cur loss 1.970384120941162\n",
    "2020-02-10 09:07:47,144 : -------------cur test loss L1:  2.367539882659912\n",
    "2020-02-10 09:07:47,167 : -----------31-----------\n",
    "2020-02-10 09:10:04,221 : epoch 31 cur loss 1.9989782571792603\n",
    "2020-02-10 09:12:21,855 : epoch 31 cur loss 1.9760931730270386\n",
    "2020-02-10 09:14:38,962 : epoch 31 cur loss 1.9661327600479126\n",
    "2020-02-10 09:15:28,163 : epoch 31 cur loss 1.9584728479385376\n",
    "2020-02-10 09:17:25,523 : -------------cur test loss L1:  2.3164544105529785\n",
    "2020-02-10 09:17:25,523 : -----------32-----------\n",
    "2020-02-10 09:19:42,921 : epoch 32 cur loss 1.938979148864746\n",
    "2020-02-10 09:21:59,922 : epoch 32 cur loss 1.9454118013381958\n",
    "2020-02-10 09:24:17,197 : epoch 32 cur loss 1.9489994049072266\n",
    "2020-02-10 09:25:06,370 : epoch 32 cur loss 1.9474467039108276\n",
    "2020-02-10 09:27:03,802 : -------------cur test loss L1:  2.321881055831909\n",
    "2020-02-10 09:27:03,802 : -----------33-----------\n",
    "2020-02-10 09:29:21,122 : epoch 33 cur loss 1.9105900526046753\n",
    "2020-02-10 09:31:38,074 : epoch 33 cur loss 1.9193655252456665\n",
    "2020-02-10 09:33:54,811 : epoch 33 cur loss 1.927404761314392\n",
    "2020-02-10 09:34:44,177 : epoch 33 cur loss 1.9226833581924438\n",
    "2020-02-10 09:36:41,649 : -------------cur test loss L1:  2.418095350265503\n",
    "2020-02-10 09:36:41,649 : -----------34-----------\n",
    "2020-02-10 09:38:58,710 : epoch 34 cur loss 1.9100419282913208\n",
    "2020-02-10 09:41:15,940 : epoch 34 cur loss 1.914334774017334\n",
    "2020-02-10 09:43:33,129 : epoch 34 cur loss 1.9134244918823242\n",
    "2020-02-10 09:44:22,192 : epoch 34 cur loss 1.9106428623199463\n",
    "2020-02-10 09:46:19,602 : -------------cur test loss L1:  2.3189117908477783\n",
    "2020-02-10 09:46:19,602 : -----------35-----------\n",
    "2020-02-10 09:48:36,879 : epoch 35 cur loss 1.9105840921401978\n",
    "2020-02-10 09:50:54,001 : epoch 35 cur loss 1.9069732427597046\n",
    "2020-02-10 09:53:11,206 : epoch 35 cur loss 1.9086681604385376\n",
    "2020-02-10 09:54:00,457 : epoch 35 cur loss 1.9061696529388428\n",
    "2020-02-10 09:55:58,252 : -------------cur test loss L1:  2.30329966545105\n",
    "2020-02-10 09:55:58,271 : -----------36-----------\n",
    "2020-02-10 09:58:15,558 : epoch 36 cur loss 1.8993327617645264\n",
    "2020-02-10 10:00:33,127 : epoch 36 cur loss 1.9033796787261963\n",
    "2020-02-10 10:02:49,977 : epoch 36 cur loss 1.8999910354614258\n",
    "2020-02-10 10:03:39,104 : epoch 36 cur loss 1.900201678276062\n",
    "2020-02-10 10:05:37,075 : -------------cur test loss L1:  2.3864121437072754\n",
    "2020-02-10 10:05:37,075 : -----------37-----------\n",
    "2020-02-10 10:07:54,257 : epoch 37 cur loss 1.8952994346618652\n",
    "2020-02-10 10:10:11,676 : epoch 37 cur loss 1.8936212062835693\n",
    "2020-02-10 10:12:28,865 : epoch 37 cur loss 1.8851847648620605\n",
    "2020-02-10 10:13:18,269 : epoch 37 cur loss 1.8824081420898438\n",
    "2020-02-10 10:15:15,862 : -------------cur test loss L1:  2.329357624053955\n",
    "2020-02-10 10:15:15,862 : -----------38-----------\n",
    "2020-02-10 10:17:33,035 : epoch 38 cur loss 1.8611884117126465\n",
    "2020-02-10 10:19:50,491 : epoch 38 cur loss 1.8714724779129028\n",
    "2020-02-10 10:22:07,747 : epoch 38 cur loss 1.8740499019622803\n",
    "2020-02-10 10:22:56,767 : epoch 38 cur loss 1.8719373941421509\n",
    "2020-02-10 10:24:54,670 : -------------cur test loss L1:  2.2631757259368896\n",
    "2020-02-10 10:24:54,670 : -----------39-----------\n",
    "2020-02-10 10:27:11,979 : epoch 39 cur loss 1.8606665134429932\n",
    "2020-02-10 10:29:29,301 : epoch 39 cur loss 1.8554108142852783\n",
    "2020-02-10 10:31:46,528 : epoch 39 cur loss 1.859748125076294\n",
    "2020-02-10 10:32:35,630 : epoch 39 cur loss 1.862998604774475\n",
    "2020-02-10 10:34:32,567 : -------------cur test loss L1:  2.3131749629974365\n",
    "2020-02-10 10:34:32,567 : -----------40-----------\n",
    "2020-02-10 10:36:50,024 : epoch 40 cur loss 1.8574395179748535\n",
    "2020-02-10 10:39:06,679 : epoch 40 cur loss 1.8489162921905518\n",
    "2020-02-10 10:41:23,706 : epoch 40 cur loss 1.8410860300064087\n",
    "2020-02-10 10:42:12,899 : epoch 40 cur loss 1.8458040952682495\n",
    "2020-02-10 10:44:11,190 : -------------cur test loss L1:  2.3471016883850098\n",
    "2020-02-10 10:44:11,210 : -----------41-----------\n",
    "2020-02-10 10:46:28,403 : epoch 41 cur loss 1.8487253189086914\n",
    "2020-02-10 10:48:45,584 : epoch 41 cur loss 1.845090389251709\n",
    "2020-02-10 10:51:02,596 : epoch 41 cur loss 1.844969630241394\n",
    "2020-02-10 10:51:52,019 : epoch 41 cur loss 1.8464215993881226\n",
    "2020-02-10 10:53:49,757 : -------------cur test loss L1:  2.2688100337982178\n",
    "2020-02-10 10:53:49,757 : -----------42-----------\n",
    "2020-02-10 10:56:06,783 : epoch 42 cur loss 1.8181289434432983\n",
    "2020-02-10 10:58:24,182 : epoch 42 cur loss 1.8371641635894775\n",
    "2020-02-10 11:00:42,138 : epoch 42 cur loss 1.830586552619934\n",
    "2020-02-10 11:01:31,429 : epoch 42 cur loss 1.8336392641067505\n",
    "2020-02-10 11:03:28,928 : -------------cur test loss L1:  2.3922510147094727\n",
    "2020-02-10 11:03:28,928 : -----------43-----------\n",
    "2020-02-10 11:05:46,197 : epoch 43 cur loss 1.8051873445510864\n",
    "2020-02-10 11:08:03,330 : epoch 43 cur loss 1.8091682195663452\n",
    "2020-02-10 11:10:20,291 : epoch 43 cur loss 1.8148771524429321\n",
    "2020-02-10 11:11:09,622 : epoch 43 cur loss 1.8179070949554443\n",
    "2020-02-10 11:13:07,098 : -------------cur test loss L1:  2.25634503364563\n",
    "2020-02-10 11:13:07,098 : -----------44-----------\n",
    "2020-02-10 11:15:24,053 : epoch 44 cur loss 1.827639102935791\n",
    "2020-02-10 11:17:40,791 : epoch 44 cur loss 1.8291414976119995\n",
    "2020-02-10 11:19:57,778 : epoch 44 cur loss 1.8253473043441772\n",
    "2020-02-10 11:20:47,048 : epoch 44 cur loss 1.8199968338012695\n",
    "2020-02-10 11:22:44,025 : -------------cur test loss L1:  2.3205642700195312\n",
    "2020-02-10 11:22:44,025 : -----------45-----------\n",
    "2020-02-10 11:25:00,942 : epoch 45 cur loss 1.8152008056640625\n",
    "2020-02-10 11:27:17,883 : epoch 45 cur loss 1.808278203010559\n",
    "2020-02-10 11:29:34,764 : epoch 45 cur loss 1.8149574995040894\n",
    "2020-02-10 11:30:23,725 : epoch 45 cur loss 1.8137106895446777\n",
    "2020-02-10 11:32:21,278 : -------------cur test loss L1:  2.2540180683135986\n",
    "2020-02-10 11:32:21,298 : -----------46-----------\n",
    "2020-02-10 11:34:38,584 : epoch 46 cur loss 1.786289930343628\n",
    "2020-02-10 11:36:55,656 : epoch 46 cur loss 1.7996701002120972\n",
    "2020-02-10 11:39:13,273 : epoch 46 cur loss 1.800093173980713\n",
    "2020-02-10 11:40:02,559 : epoch 46 cur loss 1.8039519786834717\n",
    "2020-02-10 11:42:00,287 : -------------cur test loss L1:  2.271350145339966\n",
    "2020-02-10 11:42:00,287 : -----------47-----------\n",
    "2020-02-10 11:44:17,064 : epoch 47 cur loss 1.7876200675964355\n",
    "2020-02-10 11:46:34,088 : epoch 47 cur loss 1.787520408630371\n",
    "2020-02-10 11:48:50,918 : epoch 47 cur loss 1.7875994443893433\n",
    "2020-02-10 11:49:39,983 : epoch 47 cur loss 1.7866472005844116\n",
    "2020-02-10 11:51:37,355 : -------------cur test loss L1:  2.2845497131347656\n",
    "2020-02-10 11:51:37,355 : -----------48-----------\n",
    "2020-02-10 11:53:54,420 : epoch 48 cur loss 1.7741702795028687\n",
    "2020-02-10 11:56:11,457 : epoch 48 cur loss 1.7731918096542358\n",
    "2020-02-10 11:58:28,265 : epoch 48 cur loss 1.7773860692977905\n",
    "2020-02-10 11:59:17,454 : epoch 48 cur loss 1.7782586812973022\n",
    "2020-02-10 12:01:15,079 : -------------cur test loss L1:  2.3905398845672607\n",
    "2020-02-10 12:01:15,079 : -----------49-----------\n",
    "2020-02-10 12:03:31,957 : epoch 49 cur loss 1.7850124835968018\n",
    "2020-02-10 12:05:48,533 : epoch 49 cur loss 1.7792282104492188\n",
    "2020-02-10 12:08:05,327 : epoch 49 cur loss 1.7799057960510254\n",
    "2020-02-10 12:08:54,474 : epoch 49 cur loss 1.7776923179626465\n",
    "2020-02-10 12:10:52,633 : -------------cur test loss L1:  2.2875843048095703\n",
    "2020-02-10 12:10:52,633 : -----------50-----------\n",
    "2020-02-10 12:13:09,861 : epoch 50 cur loss 1.7704930305480957\n",
    "2020-02-10 12:15:26,657 : epoch 50 cur loss 1.7757998704910278\n",
    "2020-02-10 12:17:43,766 : epoch 50 cur loss 1.7747066020965576\n",
    "2020-02-10 12:18:32,937 : epoch 50 cur loss 1.7751599550247192\n",
    "2020-02-10 12:20:30,425 : -------------cur test loss L1:  2.283651828765869\n",
    "2020-02-10 12:20:30,444 : -----------51-----------\n",
    "2020-02-10 12:22:47,336 : epoch 51 cur loss 1.756553292274475\n",
    "2020-02-10 12:25:04,309 : epoch 51 cur loss 1.7563714981079102\n",
    "2020-02-10 12:27:21,448 : epoch 51 cur loss 1.7604784965515137\n",
    "2020-02-10 12:28:10,557 : epoch 51 cur loss 1.7591711282730103\n",
    "2020-02-10 12:30:08,495 : -------------cur test loss L1:  2.2477455139160156\n",
    "2020-02-10 12:30:08,496 : -----------52-----------\n",
    "2020-02-10 12:32:25,881 : epoch 52 cur loss 1.760977029800415\n",
    "2020-02-10 12:34:42,852 : epoch 52 cur loss 1.7607454061508179\n",
    "2020-02-10 12:36:59,736 : epoch 52 cur loss 1.757812261581421\n",
    "2020-02-10 12:37:48,892 : epoch 52 cur loss 1.7632391452789307\n",
    "2020-02-10 12:39:45,845 : -------------cur test loss L1:  2.3888490200042725\n",
    "2020-02-10 12:39:45,845 : -----------53-----------\n",
    "2020-02-10 12:42:02,944 : epoch 53 cur loss 1.7359713315963745\n",
    "2020-02-10 12:44:20,036 : epoch 53 cur loss 1.7396091222763062\n",
    "2020-02-10 12:46:37,286 : epoch 53 cur loss 1.7480826377868652\n",
    "2020-02-10 12:47:26,663 : epoch 53 cur loss 1.7499128580093384\n",
    "2020-02-10 12:49:24,460 : -------------cur test loss L1:  2.2772650718688965\n",
    "2020-02-10 12:49:24,460 : -----------54-----------\n",
    "2020-02-10 12:51:41,391 : epoch 54 cur loss 1.7390943765640259\n",
    "2020-02-10 12:53:58,595 : epoch 54 cur loss 1.7520835399627686\n",
    "2020-02-10 12:56:15,503 : epoch 54 cur loss 1.7539422512054443\n",
    "2020-02-10 12:57:04,726 : epoch 54 cur loss 1.7514114379882812\n",
    "2020-02-10 12:59:02,074 : -------------cur test loss L1:  2.35649037361145\n",
    "2020-02-10 12:59:02,074 : -----------55-----------\n",
    "2020-02-10 13:01:19,235 : epoch 55 cur loss 1.7385519742965698\n",
    "2020-02-10 13:03:36,122 : epoch 55 cur loss 1.7420501708984375\n",
    "2020-02-10 13:05:52,802 : epoch 55 cur loss 1.7426449060440063\n",
    "2020-02-10 13:06:41,954 : epoch 55 cur loss 1.739978551864624\n",
    "2020-02-10 13:08:39,112 : -------------cur test loss L1:  2.2969696521759033\n",
    "2020-02-10 13:08:39,131 : -----------56-----------\n",
    "2020-02-10 13:10:55,927 : epoch 56 cur loss 1.7278337478637695\n",
    "2020-02-10 13:13:13,010 : epoch 56 cur loss 1.7271740436553955\n",
    "2020-02-10 13:15:34,058 : epoch 56 cur loss 1.731726884841919\n",
    "2020-02-10 13:16:28,425 : epoch 56 cur loss 1.734013557434082\n",
    "2020-02-10 13:18:55,736 : -------------cur test loss L1:  2.3524258136749268\n",
    "2020-02-10 13:18:55,736 : -----------57-----------\n",
    "2020-02-10 13:21:33,118 : epoch 57 cur loss 1.7199581861495972\n",
    "2020-02-10 13:24:10,247 : epoch 57 cur loss 1.7343612909317017\n",
    "2020-02-10 13:26:47,535 : epoch 57 cur loss 1.7253490686416626\n",
    "2020-02-10 13:27:43,835 : epoch 57 cur loss 1.7246578931808472\n",
    "2020-02-10 13:30:10,958 : -------------cur test loss L1:  2.3049380779266357\n",
    "2020-02-10 13:30:10,958 : -----------58-----------\n",
    "2020-02-10 13:32:47,774 : epoch 58 cur loss 1.7485854625701904\n",
    "2020-02-10 13:35:25,005 : epoch 58 cur loss 1.734582543373108\n",
    "2020-02-10 13:38:01,510 : epoch 58 cur loss 1.7237422466278076\n",
    "2020-02-10 13:38:57,632 : epoch 58 cur loss 1.7237979173660278\n",
    "2020-02-10 13:41:24,861 : -------------cur test loss L1:  2.2721948623657227\n",
    "2020-02-10 13:41:24,861 : -----------59-----------\n",
    "2020-02-10 13:44:01,617 : epoch 59 cur loss 1.7567657232284546\n",
    "2020-02-10 13:46:38,293 : epoch 59 cur loss 1.7381786108016968\n",
    "2020-02-10 13:49:14,894 : epoch 59 cur loss 1.7285152673721313\n",
    "2020-02-10 13:50:11,167 : epoch 59 cur loss 1.7253590822219849\n",
    "2020-02-10 13:52:39,418 : -------------cur test loss L1:  2.2755866050720215\n",
    "2020-02-10 13:52:39,419 : -----------60-----------\n",
    "2020-02-10 13:55:16,276 : epoch 60 cur loss 1.7199985980987549\n",
    "2020-02-10 13:57:53,156 : epoch 60 cur loss 1.715675950050354\n",
    "2020-02-10 14:00:30,264 : epoch 60 cur loss 1.713341474533081\n",
    "2020-02-10 14:01:26,505 : epoch 60 cur loss 1.7138334512710571\n",
    "2020-02-10 14:03:53,774 : -------------cur test loss L1:  2.2383229732513428\n",
    "2020-02-10 14:03:53,793 : -----------61-----------\n",
    "2020-02-10 14:06:31,408 : epoch 61 cur loss 1.6959537267684937\n",
    "2020-02-10 14:09:07,957 : epoch 61 cur loss 1.7038748264312744\n",
    "2020-02-10 14:11:43,636 : epoch 61 cur loss 1.708001732826233\n",
    "2020-02-10 14:12:39,535 : epoch 61 cur loss 1.709688425064087\n",
    "2020-02-10 14:15:04,195 : -------------cur test loss L1:  2.4405484199523926\n",
    "2020-02-10 14:15:04,195 : -----------62-----------\n",
    "2020-02-10 14:17:37,749 : epoch 62 cur loss 1.7020138502120972\n",
    "2020-02-10 14:20:11,514 : epoch 62 cur loss 1.6967930793762207\n",
    "2020-02-10 14:22:45,056 : epoch 62 cur loss 1.7050060033798218\n",
    "2020-02-10 14:23:40,482 : epoch 62 cur loss 1.704362392425537\n",
    "2020-02-10 14:26:03,271 : -------------cur test loss L1:  2.2285404205322266\n",
    "2020-02-10 14:26:03,272 : -----------63-----------\n",
    "2020-02-10 14:28:36,506 : epoch 63 cur loss 1.6854901313781738\n",
    "2020-02-10 14:31:09,899 : epoch 63 cur loss 1.6959118843078613\n",
    "2020-02-10 14:33:43,123 : epoch 63 cur loss 1.6926610469818115\n",
    "2020-02-10 14:34:38,542 : epoch 63 cur loss 1.6922380924224854\n",
    "2020-02-10 14:37:01,976 : -------------cur test loss L1:  2.274634838104248\n",
    "2020-02-10 14:37:01,976 : -----------64-----------\n",
    "2020-02-10 14:39:34,917 : epoch 64 cur loss 1.6996705532073975\n",
    "2020-02-10 14:42:08,137 : epoch 64 cur loss 1.6828579902648926\n",
    "2020-02-10 14:44:41,551 : epoch 64 cur loss 1.6908257007598877\n",
    "2020-02-10 14:45:36,466 : epoch 64 cur loss 1.6926110982894897\n",
    "2020-02-10 14:47:58,188 : -------------cur test loss L1:  2.24908185005188\n",
    "2020-02-10 14:47:58,188 : -----------65-----------\n",
    "2020-02-10 14:50:30,731 : epoch 65 cur loss 1.6768969297409058\n",
    "2020-02-10 14:53:03,711 : epoch 65 cur loss 1.6892200708389282\n",
    "2020-02-10 14:55:35,858 : epoch 65 cur loss 1.690019130706787\n",
    "2020-02-10 14:56:30,315 : epoch 65 cur loss 1.6909509897232056\n",
    "2020-02-10 14:58:51,045 : -------------cur test loss L1:  2.268073797225952\n",
    "2020-02-10 14:58:51,065 : -----------66-----------\n",
    "2020-02-10 15:01:22,570 : epoch 66 cur loss 1.676979422569275\n",
    "2020-02-10 15:03:53,225 : epoch 66 cur loss 1.6874090433120728\n",
    "2020-02-10 15:06:23,750 : epoch 66 cur loss 1.6823437213897705\n",
    "2020-02-10 15:07:18,084 : epoch 66 cur loss 1.6810073852539062\n",
    "2020-02-10 15:09:38,104 : -------------cur test loss L1:  2.2411890029907227\n",
    "2020-02-10 15:09:38,105 : -----------67-----------\n",
    "2020-02-10 15:12:08,921 : epoch 67 cur loss 1.6613038778305054\n",
    "2020-02-10 15:14:39,020 : epoch 67 cur loss 1.670607566833496\n",
    "2020-02-10 15:17:09,295 : epoch 67 cur loss 1.675531029701233\n",
    "2020-02-10 15:18:03,365 : epoch 67 cur loss 1.6757115125656128\n",
    "2020-02-10 15:20:22,488 : -------------cur test loss L1:  2.22057843208313\n",
    "2020-02-10 15:20:22,488 : -----------68-----------\n",
    "2020-02-10 15:22:52,493 : epoch 68 cur loss 1.6565523147583008\n",
    "2020-02-10 15:25:22,608 : epoch 68 cur loss 1.6620419025421143\n",
    "2020-02-10 15:27:52,424 : epoch 68 cur loss 1.6713703870773315\n",
    "2020-02-10 15:28:46,343 : epoch 68 cur loss 1.6709345579147339\n",
    "2020-02-10 15:31:04,799 : -------------cur test loss L1:  2.2479894161224365\n",
    "2020-02-10 15:31:04,799 : -----------69-----------\n",
    "2020-02-10 15:33:35,242 : epoch 69 cur loss 1.657281756401062\n",
    "2020-02-10 15:36:05,753 : epoch 69 cur loss 1.665230393409729\n",
    "2020-02-10 15:38:36,114 : epoch 69 cur loss 1.6636321544647217\n",
    "2020-02-10 15:39:30,002 : epoch 69 cur loss 1.6660176515579224\n",
    "2020-02-10 15:41:48,409 : -------------cur test loss L1:  2.2371609210968018\n",
    "2020-02-10 15:41:48,409 : -----------70-----------\n",
    "2020-02-10 15:44:18,478 : epoch 70 cur loss 1.6668912172317505\n",
    "2020-02-10 15:46:48,549 : epoch 70 cur loss 1.6665006875991821\n",
    "2020-02-10 15:49:18,910 : epoch 70 cur loss 1.6807063817977905\n",
    "2020-02-10 15:50:13,183 : epoch 70 cur loss 1.6830124855041504\n",
    "2020-02-10 15:52:33,374 : -------------cur test loss L1:  2.3314669132232666\n",
    "2020-02-10 15:52:33,394 : -----------71-----------\n",
    "2020-02-10 15:55:03,817 : epoch 71 cur loss 1.6478763818740845\n",
    "2020-02-10 15:57:34,177 : epoch 71 cur loss 1.6503982543945312\n",
    "2020-02-10 16:00:04,649 : epoch 71 cur loss 1.6524183750152588\n",
    "2020-02-10 16:00:58,373 : epoch 71 cur loss 1.6512627601623535\n",
    "2020-02-10 16:03:16,374 : -------------cur test loss L1:  2.42930269241333\n",
    "2020-02-10 16:03:16,374 : -----------72-----------\n",
    "2020-02-10 16:05:45,741 : epoch 72 cur loss 1.6968886852264404\n",
    "2020-02-10 16:08:15,673 : epoch 72 cur loss 1.6631536483764648\n",
    "2020-02-10 16:10:44,922 : epoch 72 cur loss 1.6620714664459229\n",
    "2020-02-10 16:11:39,096 : epoch 72 cur loss 1.6646982431411743\n",
    "2020-02-10 16:13:57,928 : -------------cur test loss L1:  2.2512283325195312\n",
    "2020-02-10 16:13:57,928 : -----------73-----------\n",
    "2020-02-10 16:16:27,158 : epoch 73 cur loss 1.6700979471206665\n",
    "2020-02-10 16:18:56,929 : epoch 73 cur loss 1.6623749732971191\n",
    "2020-02-10 16:21:26,650 : epoch 73 cur loss 1.656535029411316\n",
    "2020-02-10 16:22:20,152 : epoch 73 cur loss 1.660093069076538\n",
    "2020-02-10 16:24:38,666 : -------------cur test loss L1:  2.2293009757995605\n",
    "2020-02-10 16:24:38,666 : -----------74-----------\n",
    "2020-02-10 16:27:07,768 : epoch 74 cur loss 1.6337761878967285\n",
    "2020-02-10 16:29:36,556 : epoch 74 cur loss 1.6401605606079102\n",
    "2020-02-10 16:32:05,372 : epoch 74 cur loss 1.643517017364502\n",
    "2020-02-10 16:32:59,001 : epoch 74 cur loss 1.6448026895523071\n",
    "2020-02-10 16:35:16,544 : -------------cur test loss L1:  2.256566286087036\n",
    "2020-02-10 16:35:16,545 : -----------75-----------\n",
    "2020-02-10 16:37:46,142 : epoch 75 cur loss 1.6284756660461426\n",
    "2020-02-10 16:40:15,249 : epoch 75 cur loss 1.6456656455993652\n",
    "2020-02-10 16:42:44,213 : epoch 75 cur loss 1.6562786102294922\n",
    "2020-02-10 16:43:37,615 : epoch 75 cur loss 1.6527308225631714\n",
    "2020-02-10 16:45:54,907 : -------------cur test loss L1:  2.2178144454956055\n",
    "2020-02-10 16:45:54,927 : -----------76-----------\n",
    "2020-02-10 16:48:23,934 : epoch 76 cur loss 1.6345559358596802\n",
    "2020-02-10 16:50:53,327 : epoch 76 cur loss 1.6395303010940552\n",
    "2020-02-10 16:53:22,396 : epoch 76 cur loss 1.6361838579177856\n",
    "2020-02-10 16:54:15,690 : epoch 76 cur loss 1.6335816383361816\n",
    "2020-02-10 16:56:32,651 : -------------cur test loss L1:  2.225776195526123\n",
    "2020-02-10 16:56:32,651 : -----------77-----------\n",
    "2020-02-10 16:59:01,458 : epoch 77 cur loss 1.647711992263794\n",
    "2020-02-10 17:01:29,232 : epoch 77 cur loss 1.6496871709823608\n",
    "2020-02-10 17:03:58,383 : epoch 77 cur loss 1.6474096775054932\n",
    "2020-02-10 17:04:51,647 : epoch 77 cur loss 1.6475229263305664\n",
    "2020-02-10 17:07:08,905 : -------------cur test loss L1:  2.2781612873077393\n",
    "2020-02-10 17:07:08,905 : -----------78-----------\n",
    "2020-02-10 17:09:37,637 : epoch 78 cur loss 1.6368298530578613\n",
    "2020-02-10 17:12:06,224 : epoch 78 cur loss 1.6347538232803345\n",
    "2020-02-10 17:14:35,680 : epoch 78 cur loss 1.6425797939300537\n",
    "2020-02-10 17:15:28,952 : epoch 78 cur loss 1.640289306640625\n",
    "2020-02-10 17:17:47,206 : -------------cur test loss L1:  2.234590530395508\n",
    "2020-02-10 17:17:47,206 : -----------79-----------\n",
    "2020-02-10 17:20:15,625 : epoch 79 cur loss 1.6372158527374268\n",
    "2020-02-10 17:22:44,222 : epoch 79 cur loss 1.6350973844528198\n",
    "2020-02-10 17:25:13,218 : epoch 79 cur loss 1.6274691820144653\n",
    "2020-02-10 17:26:06,291 : epoch 79 cur loss 1.628686785697937\n",
    "2020-02-10 17:28:23,453 : -------------cur test loss L1:  2.253873825073242\n",
    "2020-02-10 17:28:23,453 : -----------80-----------\n",
    "2020-02-10 17:30:52,313 : epoch 80 cur loss 1.626171588897705\n",
    "2020-02-10 17:33:20,804 : epoch 80 cur loss 1.6264625787734985\n",
    "2020-02-10 17:35:49,201 : epoch 80 cur loss 1.6305307149887085\n",
    "2020-02-10 17:36:42,466 : epoch 80 cur loss 1.6297868490219116\n",
    "2020-02-10 17:39:01,095 : -------------cur test loss L1:  2.293283224105835\n",
    "2020-02-10 17:39:01,118 : -----------81-----------\n",
    "2020-02-10 17:41:29,452 : epoch 81 cur loss 1.6088402271270752\n",
    "2020-02-10 17:43:57,895 : epoch 81 cur loss 1.6136664152145386\n",
    "2020-02-10 17:46:26,256 : epoch 81 cur loss 1.6203159093856812\n",
    "2020-02-10 17:47:19,653 : epoch 81 cur loss 1.6205291748046875\n",
    "2020-02-10 17:49:37,119 : -------------cur test loss L1:  2.2616147994995117\n",
    "2020-02-10 17:49:37,120 : -----------82-----------\n",
    "2020-02-10 17:52:05,243 : epoch 82 cur loss 1.6118574142456055\n",
    "2020-02-10 17:54:32,972 : epoch 82 cur loss 1.618959903717041\n",
    "2020-02-10 17:57:00,734 : epoch 82 cur loss 1.6286120414733887\n",
    "2020-02-10 17:57:53,694 : epoch 82 cur loss 1.6286001205444336\n",
    "2020-02-10 18:00:10,611 : -------------cur test loss L1:  2.217036724090576\n",
    "2020-02-10 18:00:10,611 : -----------83-----------\n",
    "2020-02-10 18:02:38,658 : epoch 83 cur loss 1.6173397302627563\n",
    "2020-02-10 18:05:06,512 : epoch 83 cur loss 1.617582082748413\n",
    "2020-02-10 18:07:34,062 : epoch 83 cur loss 1.6136643886566162\n",
    "2020-02-10 18:08:27,421 : epoch 83 cur loss 1.613489031791687\n",
    "2020-02-10 18:10:43,572 : -------------cur test loss L1:  2.2157161235809326\n",
    "2020-02-10 18:10:43,573 : -----------84-----------\n",
    "2020-02-10 18:13:10,575 : epoch 84 cur loss 1.6006531715393066\n",
    "2020-02-10 18:15:38,199 : epoch 84 cur loss 1.6220535039901733\n",
    "2020-02-10 18:18:05,099 : epoch 84 cur loss 1.621269941329956\n",
    "2020-02-10 18:18:57,791 : epoch 84 cur loss 1.6204897165298462\n",
    "2020-02-10 18:21:15,014 : -------------cur test loss L1:  2.341822862625122\n",
    "2020-02-10 18:21:15,014 : -----------85-----------\n",
    "2020-02-10 18:23:42,282 : epoch 85 cur loss 1.6288402080535889\n",
    "2020-02-10 18:26:09,365 : epoch 85 cur loss 1.6120721101760864\n",
    "2020-02-10 18:28:36,001 : epoch 85 cur loss 1.610091209411621\n",
    "2020-02-10 18:29:28,651 : epoch 85 cur loss 1.6133617162704468\n",
    "2020-02-10 18:31:44,627 : -------------cur test loss L1:  2.2638680934906006\n",
    "2020-02-10 18:31:44,646 : -----------86-----------\n",
    "2020-02-10 18:34:11,521 : epoch 86 cur loss 1.6128568649291992\n",
    "2020-02-10 18:36:37,953 : epoch 86 cur loss 1.609166145324707\n",
    "2020-02-10 18:39:04,328 : epoch 86 cur loss 1.609102725982666\n",
    "2020-02-10 18:39:56,856 : epoch 86 cur loss 1.6086658239364624\n",
    "2020-02-10 18:42:12,611 : -------------cur test loss L1:  2.2163541316986084\n",
    "2020-02-10 18:42:12,611 : -----------87-----------\n",
    "2020-02-10 18:44:39,283 : epoch 87 cur loss 1.6023831367492676\n",
    "2020-02-10 18:47:06,263 : epoch 87 cur loss 1.610475778579712\n",
    "2020-02-10 18:49:32,969 : epoch 87 cur loss 1.6087992191314697\n",
    "2020-02-10 18:50:25,331 : epoch 87 cur loss 1.6051712036132812\n",
    "2020-02-10 18:52:41,399 : -------------cur test loss L1:  2.2391021251678467\n",
    "2020-02-10 18:52:41,400 : -----------88-----------\n",
    "2020-02-10 18:55:09,067 : epoch 88 cur loss 1.5890088081359863\n",
    "2020-02-10 18:57:36,179 : epoch 88 cur loss 1.593882441520691\n",
    "2020-02-10 19:00:03,714 : epoch 88 cur loss 1.6002447605133057\n",
    "2020-02-10 19:00:56,214 : epoch 88 cur loss 1.6011247634887695\n",
    "2020-02-10 19:03:12,600 : -------------cur test loss L1:  2.2310354709625244\n",
    "2020-02-10 19:03:12,600 : -----------89-----------\n",
    "2020-02-10 19:05:38,968 : epoch 89 cur loss 1.5866450071334839\n",
    "2020-02-10 19:08:04,767 : epoch 89 cur loss 1.6020699739456177\n",
    "2020-02-10 19:10:30,596 : epoch 89 cur loss 1.5985469818115234\n",
    "2020-02-10 19:11:23,367 : epoch 89 cur loss 1.6007919311523438\n",
    "2020-02-10 19:13:37,450 : -------------cur test loss L1:  2.296271324157715\n",
    "2020-02-10 19:13:37,450 : -----------90-----------\n",
    "2020-02-10 19:16:01,398 : epoch 90 cur loss 1.6106685400009155\n",
    "2020-02-10 19:18:25,305 : epoch 90 cur loss 1.6018811464309692\n",
    "2020-02-10 19:20:49,386 : epoch 90 cur loss 1.5985971689224243\n",
    "2020-02-10 19:21:41,161 : epoch 90 cur loss 1.6012979745864868\n",
    "2020-02-10 19:23:53,451 : -------------cur test loss L1:  2.2486252784729004\n",
    "2020-02-10 19:23:53,478 : -----------91-----------\n",
    "2020-02-10 19:26:17,722 : epoch 91 cur loss 1.5922435522079468\n",
    "2020-02-10 19:28:42,233 : epoch 91 cur loss 1.5907678604125977\n",
    "2020-02-10 19:31:06,533 : epoch 91 cur loss 1.5940940380096436\n",
    "2020-02-10 19:31:58,531 : epoch 91 cur loss 1.5924208164215088\n",
    "2020-02-10 19:34:10,498 : -------------cur test loss L1:  2.2266244888305664\n",
    "2020-02-10 19:34:10,499 : -----------92-----------\n",
    "2020-02-10 19:36:33,337 : epoch 92 cur loss 1.5966026782989502\n",
    "2020-02-10 19:38:56,296 : epoch 92 cur loss 1.591331124305725\n",
    "2020-02-10 19:41:19,527 : epoch 92 cur loss 1.5948981046676636\n",
    "2020-02-10 19:42:10,890 : epoch 92 cur loss 1.5954877138137817\n",
    "2020-02-10 19:44:24,224 : -------------cur test loss L1:  2.2178399562835693\n",
    "2020-02-10 19:44:24,224 : -----------93-----------\n",
    "2020-02-10 19:46:47,463 : epoch 93 cur loss 1.574155330657959\n",
    "2020-02-10 19:49:10,810 : epoch 93 cur loss 1.5859079360961914\n",
    "2020-02-10 19:51:34,033 : epoch 93 cur loss 1.5863468647003174\n",
    "2020-02-10 19:52:25,173 : epoch 93 cur loss 1.5848236083984375\n",
    "2020-02-10 19:54:36,866 : -------------cur test loss L1:  2.2386534214019775\n",
    "2020-02-10 19:54:36,866 : -----------94-----------\n",
    "2020-02-10 19:57:00,869 : epoch 94 cur loss 1.5922106504440308\n",
    "2020-02-10 19:59:23,901 : epoch 94 cur loss 1.599766492843628\n",
    "2020-02-10 20:01:47,188 : epoch 94 cur loss 1.6007882356643677\n",
    "2020-02-10 20:02:38,655 : epoch 94 cur loss 1.5973118543624878\n",
    "2020-02-10 20:04:51,451 : -------------cur test loss L1:  2.2197484970092773\n",
    "2020-02-10 20:04:51,451 : -----------95-----------\n",
    "2020-02-10 20:07:15,694 : epoch 95 cur loss 1.5620614290237427\n",
    "2020-02-10 20:09:39,130 : epoch 95 cur loss 1.5707095861434937\n",
    "2020-02-10 20:12:02,649 : epoch 95 cur loss 1.5822721719741821\n",
    "2020-02-10 20:12:54,302 : epoch 95 cur loss 1.5807589292526245\n",
    "2020-02-10 20:15:07,580 : -------------cur test loss L1:  2.2198970317840576\n",
    "2020-02-10 20:15:07,601 : -----------96-----------\n",
    "2020-02-10 20:17:31,179 : epoch 96 cur loss 1.58295476436615\n",
    "2020-02-10 20:19:54,414 : epoch 96 cur loss 1.577884316444397\n",
    "2020-02-10 20:22:16,860 : epoch 96 cur loss 1.5726438760757446\n",
    "2020-02-10 20:23:08,334 : epoch 96 cur loss 1.5792163610458374\n",
    "2020-02-10 20:25:21,110 : -------------cur test loss L1:  2.330627202987671\n",
    "2020-02-10 20:25:21,110 : -----------97-----------\n",
    "2020-02-10 20:27:44,712 : epoch 97 cur loss 1.5758652687072754\n",
    "2020-02-10 20:30:08,435 : epoch 97 cur loss 1.5804319381713867\n",
    "2020-02-10 20:32:32,883 : epoch 97 cur loss 1.580934762954712\n",
    "2020-02-10 20:33:24,594 : epoch 97 cur loss 1.578460693359375\n",
    "2020-02-10 20:35:37,719 : -------------cur test loss L1:  2.2361197471618652\n",
    "2020-02-10 20:35:37,719 : -----------98-----------\n",
    "2020-02-10 20:38:01,197 : epoch 98 cur loss 1.5783909559249878\n",
    "2020-02-10 20:40:24,807 : epoch 98 cur loss 1.576765775680542\n",
    "2020-02-10 20:42:48,893 : epoch 98 cur loss 1.5746248960494995\n",
    "2020-02-10 20:43:40,106 : epoch 98 cur loss 1.5760318040847778\n",
    "2020-02-10 20:45:51,849 : -------------cur test loss L1:  2.205594062805176\n",
    "2020-02-10 20:45:51,849 : -----------99-----------\n",
    "2020-02-10 20:48:14,555 : epoch 99 cur loss 1.5827889442443848\n",
    "2020-02-10 20:50:37,545 : epoch 99 cur loss 1.575514316558838\n",
    "2020-02-10 20:53:00,780 : epoch 99 cur loss 1.5818374156951904\n",
    "2020-02-10 20:53:51,652 : epoch 99 cur loss 1.581648349761963\n",
    "2020-02-10 20:56:02,889 : -------------cur test loss L1:  2.22588849067688\n",
    "2020-02-10 20:56:02,889 : -----------100-----------\n",
    "2020-02-10 20:58:25,210 : epoch 100 cur loss 1.5670192241668701\n",
    "2020-02-10 21:00:48,523 : epoch 100 cur loss 1.5689873695373535\n",
    "2020-02-10 21:03:12,050 : epoch 100 cur loss 1.5787010192871094\n",
    "2020-02-10 21:04:03,499 : epoch 100 cur loss 1.5776429176330566\n",
    "2020-02-10 21:06:17,113 : -------------cur test loss L1:  2.3545138835906982\n",
    "2020-02-10 21:06:17,133 : -----------101-----------\n",
    "2020-02-10 21:08:40,771 : epoch 101 cur loss 1.5553550720214844\n",
    "2020-02-10 21:11:04,066 : epoch 101 cur loss 1.558327317237854\n",
    "2020-02-10 21:13:26,345 : epoch 101 cur loss 1.5640963315963745\n",
    "2020-02-10 21:14:17,666 : epoch 101 cur loss 1.5624327659606934\n",
    "2020-02-10 21:16:27,169 : -------------cur test loss L1:  2.2638628482818604'''"
   ]
  },
  {
   "cell_type": "code",
   "execution_count": null,
   "metadata": {},
   "outputs": [],
   "source": [
    "ls = []\n",
    "for i in string.split('\\n'):\n",
    "    if 'test' in i:\n",
    "        ls.append(float(i.split(' ')[-1]))\n",
    "        print(ls[-1])"
   ]
  }
 ],
 "metadata": {
  "kernelspec": {
   "display_name": "Python 3",
   "language": "python",
   "name": "python3"
  },
  "language_info": {
   "codemirror_mode": {
    "name": "ipython",
    "version": 3
   },
   "file_extension": ".py",
   "mimetype": "text/x-python",
   "name": "python",
   "nbconvert_exporter": "python",
   "pygments_lexer": "ipython3",
   "version": "3.6.9"
  }
 },
 "nbformat": 4,
 "nbformat_minor": 4
}
