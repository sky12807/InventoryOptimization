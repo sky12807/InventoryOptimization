{
 "cells": [
  {
   "cell_type": "code",
   "execution_count": 1,
   "metadata": {},
   "outputs": [],
   "source": [
    "import netCDF4 as nc\n",
    "import matplotlib\n",
    "import matplotlib.pyplot as plt\n",
    "\n",
    "%matplotlib inline\n",
    "import numpy,sys,os\n",
    "import numpy as np"
   ]
  },
  {
   "cell_type": "code",
   "execution_count": 10,
   "metadata": {},
   "outputs": [],
   "source": []
  },
  {
   "cell_type": "code",
   "execution_count": 11,
   "metadata": {},
   "outputs": [],
   "source": [
    "np.save('/AS_data/Conc_npy/{}_2015_{}_{}.npy'.format(sha,sha),stack)\n"
   ]
  },
  {
   "cell_type": "code",
   "execution_count": null,
   "metadata": {},
   "outputs": [],
   "source": []
  },
  {
   "cell_type": "code",
   "execution_count": null,
   "metadata": {},
   "outputs": [],
   "source": []
  },
  {
   "cell_type": "code",
   "execution_count": null,
   "metadata": {},
   "outputs": [],
   "source": []
  },
  {
   "cell_type": "code",
   "execution_count": null,
   "metadata": {},
   "outputs": [],
   "source": [
    "\n",
    "print(sha)\n",
    "np.save('/AS_data/Conc_npy/CO_2015_10_{}.npy'.format(sha),CO)\n",
    "np.save('/AS_data/Conc_npy/O3_2015_10_{}.npy'.format(sha),O3)\n",
    "np.save('/AS_data/Conc_npy/PM25_2015_10_{}.npy'.format(sha),PM25)"
   ]
  },
  {
   "cell_type": "code",
   "execution_count": null,
   "metadata": {},
   "outputs": [],
   "source": []
  },
  {
   "cell_type": "code",
   "execution_count": null,
   "metadata": {},
   "outputs": [],
   "source": []
  },
  {
   "cell_type": "code",
   "execution_count": 5,
   "metadata": {},
   "outputs": [],
   "source": []
  },
  {
   "cell_type": "code",
   "execution_count": 3,
   "metadata": {},
   "outputs": [],
   "source": [
    "dic = {'ALD2': 0, 'CO': 1, 'ETH': 2, 'FORM': 3, 'ISOP': 4, 'NH3': 5, 'NO': 6, 'NO2': 7, 'UNR': 8, 'OLE': 9, 'PAR': 10, 'PEC': 11, 'PMC': 12, 'PMOTHR': 13, 'PNO3': 14, 'POC': 15, 'PSO4': 16, 'PCL': 17, 'PNH4': 18, 'PNA': 19, 'PMG': 20, 'PK': 21, 'PCA': 22, 'PNCOM': 23, 'PFE': 24, 'PAL': 25, 'PSI': 26, 'PTI': 27, 'PMN': 28, 'PH2O': 29, 'SO2': 30, 'SULF': 31, 'TERP': 32, 'TOL': 33, 'XYL': 34, 'MEOH': 35, 'ETOH': 36, 'ETHA': 37, 'ALDX': 38, 'IOLE': 39, 'CH4': 40, 'AACD': 41, 'NAPH': 42, 'NR': 43, 'SOAALK': 44, 'XYLMN': 45, 'PRPA': 46, 'BENZ': 47, 'ETHY': 48, 'ACET': 49, 'KET': 50}"
   ]
  },
  {
   "cell_type": "code",
   "execution_count": 6,
   "metadata": {},
   "outputs": [
    {
     "name": "stdout",
     "output_type": "stream",
     "text": [
      "/AS_data/cn27_cb05/OT_2015182\n",
      "/AS_data/Emis_with_foreign_npy/EM_2015_07_744_51_182_232.npy\n",
      "/AS_data/Emis_npy/EM_2015_07_744_51_182_232.npy\n",
      "31\n",
      "1 ALD2 0 (25, 14, 182, 232)\n",
      "2 CO 1 (25, 14, 182, 232)\n",
      "3 ETH 2 (25, 14, 182, 232)\n",
      "4 FORM 3 (25, 14, 182, 232)\n",
      "5 ISOP 4 (25, 14, 182, 232)\n",
      "6 NH3 5 (25, 14, 182, 232)\n",
      "7 NO 6 (25, 14, 182, 232)\n",
      "8 NO2 7 (25, 14, 182, 232)\n",
      "9 UNR 8 (25, 14, 182, 232)\n",
      "10 OLE 9 (25, 14, 182, 232)\n",
      "11 PAR 10 (25, 14, 182, 232)\n",
      "12 PEC 11 (25, 14, 182, 232)\n",
      "13 PMC 12 (25, 14, 182, 232)\n",
      "14 PMOTHR 13 (25, 14, 182, 232)\n",
      "15 PNO3 14 (25, 14, 182, 232)\n",
      "16 POC 15 (25, 14, 182, 232)\n",
      "17 PSO4 16 (25, 14, 182, 232)\n",
      "18 PCL 17 (25, 14, 182, 232)\n",
      "19 PNH4 18 (25, 14, 182, 232)\n",
      "20 PNA 19 (25, 14, 182, 232)\n",
      "21 PMG 20 (25, 14, 182, 232)\n",
      "22 PK 21 (25, 14, 182, 232)\n",
      "23 PCA 22 (25, 14, 182, 232)\n",
      "24 PNCOM 23 (25, 14, 182, 232)\n",
      "25 PFE 24 (25, 14, 182, 232)\n",
      "26 PAL 25 (25, 14, 182, 232)\n",
      "27 PSI 26 (25, 14, 182, 232)\n",
      "28 PTI 27 (25, 14, 182, 232)\n",
      "29 PMN 28 (25, 14, 182, 232)\n",
      "30 PH2O 29 (25, 14, 182, 232)\n",
      "31 SO2 30 (25, 14, 182, 232)\n",
      "32 SULF 31 (25, 14, 182, 232)\n",
      "33 TERP 32 (25, 14, 182, 232)\n",
      "34 TOL 33 (25, 14, 182, 232)\n",
      "35 XYL 34 (25, 14, 182, 232)\n",
      "36 MEOH 35 (25, 14, 182, 232)\n",
      "37 ETOH 36 (25, 14, 182, 232)\n",
      "38 ETHA 37 (25, 14, 182, 232)\n",
      "39 ALDX 38 (25, 14, 182, 232)\n",
      "40 IOLE 39 (25, 14, 182, 232)\n",
      "41 CH4 40 (25, 14, 182, 232)\n",
      "42 AACD 41 (25, 14, 182, 232)\n",
      "save successfull\n",
      "/AS_data/cn27_cb05/OT_2015274\n",
      "/AS_data/Emis_with_foreign_npy/EM_2015_10_744_51_182_232.npy\n",
      "/AS_data/Emis_npy/EM_2015_10_744_51_182_232.npy\n",
      "31\n",
      "1 ALD2 0 (25, 14, 182, 232)\n",
      "2 CO 1 (25, 14, 182, 232)\n",
      "3 ETH 2 (25, 14, 182, 232)\n",
      "4 FORM 3 (25, 14, 182, 232)\n",
      "5 ISOP 4 (25, 14, 182, 232)\n",
      "6 NH3 5 (25, 14, 182, 232)\n",
      "7 NO 6 (25, 14, 182, 232)\n",
      "8 NO2 7 (25, 14, 182, 232)\n",
      "9 UNR 8 (25, 14, 182, 232)\n",
      "10 OLE 9 (25, 14, 182, 232)\n",
      "11 PAR 10 (25, 14, 182, 232)\n",
      "12 PEC 11 (25, 14, 182, 232)\n",
      "13 PMC 12 (25, 14, 182, 232)\n",
      "14 PMOTHR 13 (25, 14, 182, 232)\n",
      "15 PNO3 14 (25, 14, 182, 232)\n",
      "16 POC 15 (25, 14, 182, 232)\n",
      "17 PSO4 16 (25, 14, 182, 232)\n",
      "18 PCL 17 (25, 14, 182, 232)\n",
      "19 PNH4 18 (25, 14, 182, 232)\n",
      "20 PNA 19 (25, 14, 182, 232)\n",
      "21 PMG 20 (25, 14, 182, 232)\n",
      "22 PK 21 (25, 14, 182, 232)\n",
      "23 PCA 22 (25, 14, 182, 232)\n",
      "24 PNCOM 23 (25, 14, 182, 232)\n",
      "25 PFE 24 (25, 14, 182, 232)\n",
      "26 PAL 25 (25, 14, 182, 232)\n",
      "27 PSI 26 (25, 14, 182, 232)\n",
      "28 PTI 27 (25, 14, 182, 232)\n",
      "29 PMN 28 (25, 14, 182, 232)\n",
      "30 PH2O 29 (25, 14, 182, 232)\n",
      "31 SO2 30 (25, 14, 182, 232)\n",
      "32 SULF 31 (25, 14, 182, 232)\n",
      "33 TERP 32 (25, 14, 182, 232)\n",
      "34 TOL 33 (25, 14, 182, 232)\n",
      "35 XYL 34 (25, 14, 182, 232)\n",
      "36 MEOH 35 (25, 14, 182, 232)\n",
      "37 ETOH 36 (25, 14, 182, 232)\n",
      "38 ETHA 37 (25, 14, 182, 232)\n",
      "39 ALDX 38 (25, 14, 182, 232)\n",
      "40 IOLE 39 (25, 14, 182, 232)\n",
      "41 CH4 40 (25, 14, 182, 232)\n",
      "42 AACD 41 (25, 14, 182, 232)\n",
      "save successfull\n"
     ]
    }
   ],
   "source": [
    "for i in range(3,len(filenames)):\n",
    "    filename = filenames[i]\n",
    "    out_filename = out_filenames[i]\n",
    "    emis_filename = emis_filenames[i]\n",
    "    day = days[i]\n",
    "    print(filename)\n",
    "    print(out_filename)\n",
    "    print(emis_filename)\n",
    "    print(day)\n",
    "    \n",
    "    ##load data\n",
    "    data = nc.Dataset(filename)\n",
    "    \n",
    "    foreign = np.zeros((1,24,51,182,232))\n",
    "    for idx,i in enumerate(data.variables):\n",
    "        if idx==0:continue\n",
    "\n",
    "        print(idx,i,dic[i],data.variables[i][:].shape)\n",
    "\n",
    "        a = np.sum(data.variables[i][:],axis = 1)\n",
    "        a = a[:24]\n",
    "        foreign[:,:,dic[i]] = a[:]\n",
    "\n",
    "    emis = np.load(emis_filename)\n",
    "    \n",
    "    emis = emis.reshape(day,24,51,182,232)\n",
    "    emis = emis + foreign\n",
    "    emis = emis.reshape(day*24,51,182,232)\n",
    "    \n",
    "    np.save(out_filename,emis)\n",
    "    print('save successfull')"
   ]
  },
  {
   "cell_type": "code",
   "execution_count": 72,
   "metadata": {},
   "outputs": [
    {
     "ename": "MemoryError",
     "evalue": "",
     "output_type": "error",
     "traceback": [
      "\u001b[0;31m---------------------------------------------------------------------------\u001b[0m",
      "\u001b[0;31mMemoryError\u001b[0m                               Traceback (most recent call last)",
      "\u001b[0;32m<ipython-input-72-71f4206f8dcf>\u001b[0m in \u001b[0;36m<module>\u001b[0;34m\u001b[0m\n\u001b[0;32m----> 1\u001b[0;31m \u001b[0;34m(\u001b[0m\u001b[0mforeign\u001b[0m\u001b[0;34m+\u001b[0m\u001b[0memis\u001b[0m\u001b[0;34m)\u001b[0m\u001b[0;34m.\u001b[0m\u001b[0mshape\u001b[0m\u001b[0;34m\u001b[0m\u001b[0;34m\u001b[0m\u001b[0m\n\u001b[0m",
      "\u001b[0;31mMemoryError\u001b[0m: "
     ]
    }
   ],
   "source": [
    "(foreign+emis).shape"
   ]
  },
  {
   "cell_type": "code",
   "execution_count": 60,
   "metadata": {},
   "outputs": [],
   "source": []
  },
  {
   "cell_type": "code",
   "execution_count": 53,
   "metadata": {},
   "outputs": [],
   "source": []
  },
  {
   "cell_type": "code",
   "execution_count": 61,
   "metadata": {},
   "outputs": [],
   "source": []
  },
  {
   "cell_type": "code",
   "execution_count": 54,
   "metadata": {},
   "outputs": [
    {
     "data": {
      "text/plain": [
       "(744, 51, 182, 232)"
      ]
     },
     "execution_count": 54,
     "metadata": {},
     "output_type": "execute_result"
    }
   ],
   "source": [
    "emis.shape"
   ]
  },
  {
   "cell_type": "code",
   "execution_count": null,
   "metadata": {},
   "outputs": [],
   "source": []
  },
  {
   "cell_type": "code",
   "execution_count": 2,
   "metadata": {
    "collapsed": true,
    "jupyter": {
     "outputs_hidden": true
    }
   },
   "outputs": [
    {
     "name": "stdout",
     "output_type": "stream",
     "text": [
      "TFLAG (1, 27, 2)\n",
      "LAT (1, 1, 182, 232)\n",
      "LON (1, 1, 182, 232)\n",
      "MSFX2 (1, 1, 182, 232)\n",
      "HT (1, 1, 182, 232)\n",
      "DLUSE (1, 1, 182, 232)\n",
      "LWMASK (1, 1, 182, 232)\n",
      "PURB (1, 1, 182, 232)\n",
      "LUFRAC_01 (1, 1, 182, 232)\n",
      "LUFRAC_02 (1, 1, 182, 232)\n",
      "LUFRAC_03 (1, 1, 182, 232)\n",
      "LUFRAC_04 (1, 1, 182, 232)\n",
      "LUFRAC_05 (1, 1, 182, 232)\n",
      "LUFRAC_06 (1, 1, 182, 232)\n",
      "LUFRAC_07 (1, 1, 182, 232)\n",
      "LUFRAC_08 (1, 1, 182, 232)\n",
      "LUFRAC_09 (1, 1, 182, 232)\n",
      "LUFRAC_10 (1, 1, 182, 232)\n",
      "LUFRAC_11 (1, 1, 182, 232)\n",
      "LUFRAC_12 (1, 1, 182, 232)\n",
      "LUFRAC_13 (1, 1, 182, 232)\n",
      "LUFRAC_14 (1, 1, 182, 232)\n",
      "LUFRAC_15 (1, 1, 182, 232)\n",
      "LUFRAC_16 (1, 1, 182, 232)\n",
      "LUFRAC_17 (1, 1, 182, 232)\n",
      "LUFRAC_18 (1, 1, 182, 232)\n",
      "LUFRAC_19 (1, 1, 182, 232)\n",
      "LUFRAC_20 (1, 1, 182, 232)\n"
     ]
    }
   ],
   "source": [
    "data = Nio.open_file(\"/AS_data/Grid/GRIDCRO2D_cn27_2015001.nc\",\"r\")\n",
    "for i in data.variables:\n",
    "    print(i,data.variables[i][:].shape)\n",
    "    \n",
    "#important"
   ]
  },
  {
   "cell_type": "code",
   "execution_count": 8,
   "metadata": {},
   "outputs": [
    {
     "ename": "NameError",
     "evalue": "name 'Nio' is not defined",
     "output_type": "error",
     "traceback": [
      "\u001b[0;31m---------------------------------------------------------------------------\u001b[0m",
      "\u001b[0;31mNameError\u001b[0m                                 Traceback (most recent call last)",
      "\u001b[0;32m<ipython-input-8-9b30661851be>\u001b[0m in \u001b[0;36m<module>\u001b[0;34m\u001b[0m\n\u001b[0;32m----> 1\u001b[0;31m \u001b[0mdata\u001b[0m \u001b[0;34m=\u001b[0m \u001b[0mNio\u001b[0m\u001b[0;34m.\u001b[0m\u001b[0mopen_file\u001b[0m\u001b[0;34m(\u001b[0m\u001b[0;34m\"/AS_data/Grid/GRIDDOT2D_cn27_2015001.nc\"\u001b[0m\u001b[0;34m,\u001b[0m\u001b[0;34m\"r\"\u001b[0m\u001b[0;34m)\u001b[0m\u001b[0;34m\u001b[0m\u001b[0;34m\u001b[0m\u001b[0m\n\u001b[0m\u001b[1;32m      2\u001b[0m \u001b[0;32mfor\u001b[0m \u001b[0mi\u001b[0m \u001b[0;32min\u001b[0m \u001b[0mdata\u001b[0m\u001b[0;34m.\u001b[0m\u001b[0mvariables\u001b[0m\u001b[0;34m:\u001b[0m\u001b[0;34m\u001b[0m\u001b[0;34m\u001b[0m\u001b[0m\n\u001b[1;32m      3\u001b[0m     \u001b[0mprint\u001b[0m\u001b[0;34m(\u001b[0m\u001b[0mi\u001b[0m\u001b[0;34m,\u001b[0m\u001b[0mdata\u001b[0m\u001b[0;34m.\u001b[0m\u001b[0mvariables\u001b[0m\u001b[0;34m[\u001b[0m\u001b[0mi\u001b[0m\u001b[0;34m]\u001b[0m\u001b[0;34m.\u001b[0m\u001b[0mshape\u001b[0m\u001b[0;34m)\u001b[0m\u001b[0;34m\u001b[0m\u001b[0;34m\u001b[0m\u001b[0m\n\u001b[1;32m      4\u001b[0m \u001b[0;31m#### no t\u001b[0m\u001b[0;34m\u001b[0m\u001b[0;34m\u001b[0m\u001b[0;34m\u001b[0m\u001b[0m\n",
      "\u001b[0;31mNameError\u001b[0m: name 'Nio' is not defined"
     ]
    }
   ],
   "source": [
    "data = Nio.open_file(\"/AS_data/Grid/GRIDDOT2D_cn27_2015001.nc\",\"r\")\n",
    "for i in data.variables:\n",
    "    print(i,data.variables[i].shape)\n",
    "#### no t"
   ]
  },
  {
   "cell_type": "code",
   "execution_count": 5,
   "metadata": {},
   "outputs": [],
   "source": [
    "import numpy as np"
   ]
  },
  {
   "cell_type": "code",
   "execution_count": 6,
   "metadata": {},
   "outputs": [
    {
     "data": {
      "text/plain": [
       "0.32589999999999997"
      ]
     },
     "execution_count": 6,
     "metadata": {},
     "output_type": "execute_result"
    }
   ],
   "source": [
    "np.mean([0.2704,0.3031,0.3194,0.3287,0.3302,0.3356,0.3603,0.3595])"
   ]
  },
  {
   "cell_type": "code",
   "execution_count": null,
   "metadata": {},
   "outputs": [],
   "source": []
  },
  {
   "cell_type": "code",
   "execution_count": null,
   "metadata": {},
   "outputs": [],
   "source": [
    "data = Nio.open_file(\"/AS_data/Grid/GRIDBDY2D_cn27_2015001.nc\",\"r\")\n",
    "for i in data.variables:\n",
    "    print(i,data.variables[i].shape)\n",
    "# not  which is bound"
   ]
  },
  {
   "cell_type": "code",
   "execution_count": 4,
   "metadata": {},
   "outputs": [
    {
     "name": "stdout",
     "output_type": "stream",
     "text": [
      "-1 TFLAG (25, 51, 2)\n",
      "0 ALD2 (25, 14, 182, 232)\n",
      "1 CO (25, 14, 182, 232)\n",
      "2 ETH (25, 14, 182, 232)\n",
      "3 FORM (25, 14, 182, 232)\n",
      "4 ISOP (25, 14, 182, 232)\n",
      "5 NH3 (25, 14, 182, 232)\n",
      "6 NO (25, 14, 182, 232)\n",
      "7 NO2 (25, 14, 182, 232)\n",
      "8 UNR (25, 14, 182, 232)\n",
      "9 OLE (25, 14, 182, 232)\n",
      "10 PAR (25, 14, 182, 232)\n",
      "11 PEC (25, 14, 182, 232)\n",
      "12 PMC (25, 14, 182, 232)\n",
      "13 PMOTHR (25, 14, 182, 232)\n",
      "14 PNO3 (25, 14, 182, 232)\n",
      "15 POC (25, 14, 182, 232)\n",
      "16 PSO4 (25, 14, 182, 232)\n",
      "17 PCL (25, 14, 182, 232)\n",
      "18 PNH4 (25, 14, 182, 232)\n",
      "19 PNA (25, 14, 182, 232)\n",
      "20 PMG (25, 14, 182, 232)\n",
      "21 PK (25, 14, 182, 232)\n",
      "22 PCA (25, 14, 182, 232)\n",
      "23 PNCOM (25, 14, 182, 232)\n",
      "24 PFE (25, 14, 182, 232)\n",
      "25 PAL (25, 14, 182, 232)\n",
      "26 PSI (25, 14, 182, 232)\n",
      "27 PTI (25, 14, 182, 232)\n",
      "28 PMN (25, 14, 182, 232)\n",
      "29 PH2O (25, 14, 182, 232)\n",
      "30 SO2 (25, 14, 182, 232)\n",
      "31 SULF (25, 14, 182, 232)\n",
      "32 TERP (25, 14, 182, 232)\n",
      "33 TOL (25, 14, 182, 232)\n",
      "34 XYL (25, 14, 182, 232)\n",
      "35 MEOH (25, 14, 182, 232)\n",
      "36 ETOH (25, 14, 182, 232)\n",
      "37 ETHA (25, 14, 182, 232)\n",
      "38 ALDX (25, 14, 182, 232)\n",
      "39 IOLE (25, 14, 182, 232)\n",
      "40 CH4 (25, 14, 182, 232)\n",
      "41 AACD (25, 14, 182, 232)\n",
      "42 NAPH (25, 14, 182, 232)\n",
      "43 NR (25, 14, 182, 232)\n",
      "44 SOAALK (25, 14, 182, 232)\n",
      "45 XYLMN (25, 14, 182, 232)\n",
      "46 PRPA (25, 14, 182, 232)\n",
      "47 BENZ (25, 14, 182, 232)\n",
      "48 ETHY (25, 14, 182, 232)\n",
      "49 ACET (25, 14, 182, 232)\n",
      "50 KET (25, 14, 182, 232)\n"
     ]
    }
   ],
   "source": [
    "data = Nio.open_file(\"/AS_data/Emission/EM_2015008.nc\",\"r\")\n",
    "for idx,i in enumerate(data.variables):\n",
    "    print(idx-1,i,data.variables[i].shape)\n",
    "# not  which is bound"
   ]
  },
  {
   "cell_type": "code",
   "execution_count": null,
   "metadata": {},
   "outputs": [],
   "source": [
    "data = Nio.open_file(\"/AS_data/Grid/METCRO2D_cn27_2015001.nc\",\"r\")\n",
    "for idx,i in enumerate(data.variables):\n",
    "    print(idx-1,i,data.variables[i].shape)"
   ]
  },
  {
   "cell_type": "code",
   "execution_count": null,
   "metadata": {},
   "outputs": [],
   "source": [
    "data = Nio.open_file(\"/AS_data/Grid/METCRO3D_cn27_2015001.nc\",\"r\")\n",
    "for i in data.variables:\n",
    "    print(i,data.variables[i].shape)"
   ]
  },
  {
   "cell_type": "code",
   "execution_count": null,
   "metadata": {},
   "outputs": [],
   "source": []
  },
  {
   "cell_type": "code",
   "execution_count": 13,
   "metadata": {},
   "outputs": [],
   "source": [
    "CO_label = None\n",
    "O3_label = None\n",
    "PM25_label = None\n",
    "data = Nio.open_file(\"/AS_data/Conc_tshift/CCTM_cb6r3_ae6.COMBINE_ACONC_v52_cn27_201502.tshift\",\"r\")\n",
    "\n",
    "CO = data.variables['CO'][8:].reshape(-1,182,232)\n",
    "O3 = data.variables['O3'][8:].reshape(-1,182,232)\n",
    "PM25 = data.variables['PM25_TOT'][8:].reshape(-1,182,232)\n",
    "sha = '_'.join([str(i) for i in CO.shape])\n"
   ]
  },
  {
   "cell_type": "code",
   "execution_count": null,
   "metadata": {},
   "outputs": [],
   "source": [
    "\n",
    "print(sha)\n",
    "np.save('/AS_data/Conc_npy/CO_2015_10_{}.npy'.format(sha),CO)\n",
    "np.save('/AS_data/Conc_npy/O3_2015_10_{}.npy'.format(sha),O3)\n",
    "np.save('/AS_data/Conc_npy/PM25_2015_10_{}.npy'.format(sha),PM25)"
   ]
  },
  {
   "cell_type": "code",
   "execution_count": null,
   "metadata": {},
   "outputs": [],
   "source": []
  },
  {
   "cell_type": "code",
   "execution_count": null,
   "metadata": {},
   "outputs": [],
   "source": []
  },
  {
   "cell_type": "code",
   "execution_count": null,
   "metadata": {},
   "outputs": [],
   "source": [
    "data = Nio.open_file(\"/AS_data/Grid/METCRO2D_cn27_2015001.nc\",\"r\")\n",
    "\n",
    "for i in data.variables:\n",
    "    if i == 'TFLAG':continue\n",
    "    print(i,data.variables[i][:].shape)"
   ]
  },
  {
   "cell_type": "code",
   "execution_count": 17,
   "metadata": {},
   "outputs": [
    {
     "name": "stdout",
     "output_type": "stream",
     "text": [
      "091\n",
      "092\n",
      "093\n",
      "094\n",
      "095\n",
      "096\n",
      "097\n",
      "098\n",
      "099\n",
      "100\n",
      "101\n",
      "102\n",
      "103\n",
      "104\n",
      "105\n",
      "106\n",
      "107\n",
      "108\n",
      "109\n",
      "110\n",
      "111\n",
      "112\n",
      "113\n",
      "114\n",
      "115\n",
      "116\n",
      "117\n",
      "118\n",
      "119\n",
      "120\n",
      "(30, 24, 16, 5, 182, 232)\n",
      "720_80_182_232\n"
     ]
    }
   ],
   "source": [
    "all_data = []\n",
    "month = '04'\n",
    "for day in range(91,121):\n",
    "    day = str(day)\n",
    "    if len(day)==1:day = '00'+day\n",
    "    if len(day)==2:day = '0'+day\n",
    "    print(day)\n",
    "    data_input = []\n",
    "    data = Nio.open_file(\"/AS_data/Grid/METCRO3D_cn27_2015{}.nc\".format(day),\"r\")\n",
    "    for i in data.variables:\n",
    "        if i == 'TFLAG':continue\n",
    "        now = data.variables[i][:]\n",
    "        data_input.append(now)\n",
    "\n",
    "    data_input = np.stack(data_input)\n",
    "#     data_input = np.sum(data_input,axis = 2)\n",
    "    data_input = data_input[:,:,:5]\n",
    "    data_input = np.transpose(data_input, (1, 0,2,3,4))\n",
    "    all_data.append(data_input)\n",
    "a = np.stack(all_data)\n",
    "\n",
    "\n",
    "a = a[:,:24]\n",
    "print(a.shape)\n",
    "T = a.shape[0]*a.shape[1]\n",
    "a = a.reshape(T,-1,182,232)\n",
    "\n",
    "s = '_'.join([str(i) for i in a.shape])\n",
    "print(s)\n",
    "\n",
    "np.save('/AS_data/METCRO3D_5height_npy/METCRO3D_2015_{}_{}.npy'.format(month,s),a)"
   ]
  },
  {
   "cell_type": "code",
   "execution_count": 21,
   "metadata": {},
   "outputs": [
    {
     "name": "stdout",
     "output_type": "stream",
     "text": [
      "032\n",
      "033\n",
      "034\n",
      "035\n",
      "036\n",
      "037\n",
      "038\n",
      "039\n",
      "040\n",
      "041\n",
      "042\n",
      "043\n",
      "044\n",
      "045\n",
      "046\n",
      "047\n",
      "048\n",
      "049\n",
      "050\n",
      "051\n",
      "052\n",
      "053\n",
      "054\n",
      "055\n",
      "056\n",
      "057\n",
      "058\n",
      "059\n",
      "(28, 24, 16, 5, 182, 232)\n",
      "672_80_182_232\n"
     ]
    }
   ],
   "source": [
    "all_data = []\n",
    "month = '02'\n",
    "for day in range(32,60):\n",
    "    day = str(day)\n",
    "    if len(day)==1:day = '00'+day\n",
    "    if len(day)==2:day = '0'+day\n",
    "    print(day)\n",
    "    data_input = []\n",
    "    data = Nio.open_file(\"/AS_data/Grid/METCRO3D_cn27_2015{}.nc\".format(day),\"r\")\n",
    "    for i in data.variables:\n",
    "        if i == 'TFLAG':continue\n",
    "        now = data.variables[i][:]\n",
    "        data_input.append(now)\n",
    "\n",
    "    data_input = np.stack(data_input)\n",
    "#     data_input = np.sum(data_input,axis = 2)\n",
    "    data_input = data_input[:,:,:5]\n",
    "    data_input = np.transpose(data_input, (1, 0,2,3,4))\n",
    "    all_data.append(data_input)\n",
    "a = np.stack(all_data)\n",
    "\n",
    "\n",
    "a = a[:,:24]\n",
    "print(a.shape)\n",
    "T = a.shape[0]*a.shape[1]\n",
    "a = a.reshape(T,-1,182,232)\n",
    "\n",
    "s = '_'.join([str(i) for i in a.shape])\n",
    "print(s)\n",
    "\n",
    "np.save('/AS_data/METCRO3D_5height_npy/METCRO3D_2015_{}_{}.npy'.format(month,s),a)"
   ]
  },
  {
   "cell_type": "code",
   "execution_count": 22,
   "metadata": {},
   "outputs": [
    {
     "name": "stdout",
     "output_type": "stream",
     "text": [
      "032\n",
      "033\n",
      "034\n",
      "035\n",
      "036\n",
      "037\n",
      "038\n",
      "039\n",
      "040\n",
      "041\n",
      "042\n",
      "043\n",
      "044\n",
      "045\n",
      "046\n",
      "047\n",
      "048\n",
      "049\n",
      "050\n",
      "051\n",
      "052\n",
      "053\n",
      "054\n",
      "055\n",
      "056\n",
      "057\n",
      "058\n",
      "059\n",
      "(28, 24, 16, 182, 232)\n",
      "672_16_182_232\n"
     ]
    }
   ],
   "source": [
    "all_data = []\n",
    "month = '02'\n",
    "for day in range(32,60):\n",
    "    day = str(day)\n",
    "    if len(day)==1:day = '00'+day\n",
    "    if len(day)==2:day = '0'+day\n",
    "    print(day)\n",
    "    data_input = []\n",
    "    data = Nio.open_file(\"/AS_data/Grid/METCRO3D_cn27_2015{}.nc\".format(day),\"r\")\n",
    "    for i in data.variables:\n",
    "        if i == 'TFLAG':continue\n",
    "        now = data.variables[i][:]\n",
    "        data_input.append(now)\n",
    "\n",
    "    data_input = np.stack(data_input)\n",
    "    data_input = np.sum(data_input,axis = 2)\n",
    "    data_input = np.transpose(data_input, (1, 0,2,3))\n",
    "    all_data.append(data_input)\n",
    "a = np.stack(all_data)\n",
    "\n",
    "\n",
    "a = a[:,:24]\n",
    "print(a.shape)\n",
    "T = a.shape[0]*a.shape[1]\n",
    "a = a.reshape(T,-1,182,232)\n",
    "\n",
    "s = '_'.join([str(i) for i in a.shape])\n",
    "print(s)\n",
    "\n",
    "np.save('/AS_data/METCRO3D_npy/METCRO3D_2015_{}_{}.npy'.format(month,s),a)"
   ]
  },
  {
   "cell_type": "code",
   "execution_count": 23,
   "metadata": {},
   "outputs": [
    {
     "name": "stdout",
     "output_type": "stream",
     "text": [
      "32\n",
      "33\n",
      "34\n",
      "35\n",
      "36\n",
      "37\n",
      "38\n",
      "39\n",
      "40\n",
      "41\n",
      "42\n",
      "43\n",
      "44\n",
      "45\n",
      "46\n",
      "47\n",
      "48\n",
      "49\n",
      "50\n",
      "51\n",
      "52\n",
      "53\n",
      "54\n",
      "55\n",
      "56\n",
      "57\n",
      "58\n",
      "59\n",
      "(28, 24, 34, 182, 232)\n",
      "672_34_182_232\n"
     ]
    }
   ],
   "source": [
    "#process METBDY2D\n",
    "month = '02'\n",
    "all_data = []\n",
    "for day in range(32,60):\n",
    "    day = str(day)    \n",
    "    if len(day)==1:day = '0'+day\n",
    "    print(day)\n",
    "    data = Nio.open_file(\"/AS_data/Grid/METCRO2D_cn27_20150{}.nc\".format(day),\"r\")\n",
    "    data_input = []\n",
    "    for i in data.variables:\n",
    "        if i == 'TFLAG':continue\n",
    "        now = data.variables[i][:]\n",
    "        data_input.append(now)\n",
    "    data_input = np.concatenate(data_input,axis = 1)\n",
    "    data_input = np.expand_dims(data_input, axis=0)\n",
    "\n",
    "    all_data.append(data_input)\n",
    "    \n",
    "a = np.concatenate(all_data,axis = 0)\n",
    "a = a[:,:24]\n",
    "\n",
    "print(a.shape)\n",
    "T = a.shape[0]*a.shape[1]\n",
    "a = a.reshape(T,-1,182,232)\n",
    "\n",
    "s = '_'.join([str(i) for i in a.shape])\n",
    "print(s)\n",
    "np.save('/AS_data/METCRO2D_npy/METCRO2D_2015_{}_{}.npy'.format(month,s),a)"
   ]
  },
  {
   "cell_type": "code",
   "execution_count": 26,
   "metadata": {},
   "outputs": [
    {
     "name": "stdout",
     "output_type": "stream",
     "text": [
      "672_182_232\n"
     ]
    }
   ],
   "source": [
    "CO_label = None\n",
    "O3_label = None\n",
    "PM25_label = None\n",
    "month = '02'\n",
    "data = Nio.open_file(\"/AS_data/Conc_tshift/CCTM_cb6r3_ae6.COMBINE_ACONC_v52_cn27_201502.tshift\",\"r\")\n",
    "\n",
    "CO = data.variables['CO'][8:].reshape(-1,182,232)\n",
    "O3 = data.variables['O3'][8:].reshape(-1,182,232)\n",
    "PM25 = data.variables['PM25_TOT'][8:].reshape(-1,182,232)\n",
    "sha = '_'.join([str(i) for i in CO.shape])\n",
    "\n",
    "print(sha)\n",
    "np.save('/AS_data/Conc_npy/CO_2015_{}_{}.npy'.format(month,sha),CO)\n",
    "np.save('/AS_data/Conc_npy/O3_2015_{}_{}.npy'.format(month,sha),O3)\n",
    "np.save('/AS_data/Conc_npy/PM25_2015_{}_{}.npy'.format(month,sha),PM25)"
   ]
  },
  {
   "cell_type": "code",
   "execution_count": null,
   "metadata": {},
   "outputs": [],
   "source": []
  },
  {
   "cell_type": "code",
   "execution_count": 20,
   "metadata": {},
   "outputs": [
    {
     "name": "stdout",
     "output_type": "stream",
     "text": [
      "032\n",
      "033\n",
      "034\n",
      "035\n",
      "036\n",
      "037\n",
      "038\n",
      "039\n",
      "040\n",
      "041\n",
      "042\n",
      "043\n",
      "044\n",
      "045\n",
      "046\n",
      "047\n",
      "048\n",
      "049\n",
      "050\n",
      "051\n",
      "052\n",
      "053\n",
      "054\n",
      "055\n",
      "056\n",
      "057\n",
      "058\n",
      "059\n",
      "(28, 24, 51, 182, 232)\n",
      "672_51_182_232\n"
     ]
    }
   ],
   "source": [
    "month = '02'\n",
    "data_meaning = []\n",
    "\n",
    "data = Nio.open_file(\"/AS_data/Emission/EM_2015001.nc\",\"r\")\n",
    "for i in data.variables:\n",
    "    if i == 'TFLAG':continue\n",
    "    data_meaning.append(i)\n",
    "\n",
    "with open('data/data_input.txt','w') as f:\n",
    "    for i in data_meaning:\n",
    "        f.write(i+'\\n')\n",
    "\n",
    "all_data = []\n",
    "for day in range(32,60):\n",
    "    day = str(day)\n",
    "    if len(day)==1:day = '00'+day\n",
    "    if len(day)==2:day = '0'+day\n",
    "    print(day)\n",
    "    data_input = []\n",
    "    data = Nio.open_file(\"/AS_data/Emission/EM_2015{}.nc\".format(day),\"r\")\n",
    "    for i in data_meaning:\n",
    "        now = data.variables[i][:]  #[np.newaxis,:,:,:,:]\n",
    "        data_input.append(now)\n",
    "\n",
    "    data_input = np.stack(data_input)\n",
    "    \n",
    "    data_input = np.sum(data_input,axis = 2)\n",
    "    data_input = np.transpose(data_input, (1, 0,2,3))\n",
    "    all_data.append(data_input)\n",
    "\n",
    "a =  np.stack(all_data)\n",
    "a = a[:,:24]\n",
    "print(a.shape)\n",
    "T = a.shape[0]*a.shape[1]\n",
    "a = a.reshape(T,-1,182,232)\n",
    "\n",
    "s = '_'.join([str(i) for i in a.shape])\n",
    "print(s)\n",
    "np.save('/AS_data/Emis_npy/EM_2015_{}_{}.npy'.format(month,s),a)"
   ]
  },
  {
   "cell_type": "code",
   "execution_count": null,
   "metadata": {},
   "outputs": [],
   "source": []
  }
 ],
 "metadata": {
  "kernelspec": {
   "display_name": "Python 3",
   "language": "python",
   "name": "python3"
  },
  "language_info": {
   "codemirror_mode": {
    "name": "ipython",
    "version": 3
   },
   "file_extension": ".py",
   "mimetype": "text/x-python",
   "name": "python",
   "nbconvert_exporter": "python",
   "pygments_lexer": "ipython3",
   "version": "3.7.9"
  }
 },
 "nbformat": 4,
 "nbformat_minor": 4
}
