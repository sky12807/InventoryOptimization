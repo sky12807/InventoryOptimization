{
 "cells": [
  {
   "cell_type": "code",
   "execution_count": 1,
   "metadata": {},
   "outputs": [],
   "source": [
    "import sys\n",
    "sys.path.append( '/anaconda/envs/py37_pytorch/lib/python3.7')\n",
    "sys.path.append('/anaconda/envs/py37_pytorch/lib/python3.7/site-packages')"
   ]
  },
  {
   "cell_type": "code",
   "execution_count": 2,
   "metadata": {},
   "outputs": [],
   "source": [
    "%load_ext autoreload\n",
    "%autoreload 2\n",
    "\n",
    "import glob\n",
    "import logging\n",
    "import numpy as np\n",
    "from importlib import reload  # Not needed in Python 2\n",
    "import torch\n",
    "from torch import nn\n",
    "import torch.nn.functional as F\n",
    "from torchvision.models import ResNet\n",
    "from torch.utils.data import DataLoader,Dataset\n",
    "\n",
    "\n",
    "from dataset.ASdataset import AS_Data\n",
    "from dataset.ASdataset_obs_train_input import AS_Data_obs\n",
    "\n",
    "device = torch.device(\"cuda\"  if torch.cuda.is_available() else \"cpu\")\n",
    "reload(logging)\n",
    "logging.basicConfig(level=logging.INFO,#控制台打印的日志级别\n",
    "                    filename='logging.txt',\n",
    "                    filemode='a',##模式，有w和a，w就是写模式，每次都会重新写日志，覆盖之前的日志\n",
    "                    #a是追加模式，默认如果不写的话，就是追加模式\n",
    "                    format=\n",
    "                    '%(asctime)s : %(message)s',\n",
    "                    )\n",
    "\n",
    "import matplotlib\n",
    "import matplotlib.pyplot as plt\n",
    "\n",
    "%matplotlib inline"
   ]
  },
  {
   "cell_type": "code",
   "execution_count": 3,
   "metadata": {},
   "outputs": [
    {
     "name": "stdout",
     "output_type": "stream",
     "text": [
      "/AS_data/zeyuan_folder/concat_data/NORM_rest_EM_2015_01_744_07_182_232.npy\n",
      "(744, 7, 182, 232)\n",
      "(744, 21, 182, 232)\n",
      "/AS_data/zeyuan_folder/concat_data/NORM_rest_EM_2015_04_720_07_182_232.npy\n",
      "(720, 7, 182, 232)\n",
      "(720, 21, 182, 232)\n",
      "/AS_data/zeyuan_folder/concat_data/NORM_rest_EM_2015_07_744_07_182_232.npy\n",
      "(744, 7, 182, 232)\n",
      "(744, 21, 182, 232)\n",
      "/AS_data/zeyuan_folder/concat_data/NORM_rest_EM_2015_10_744_07_182_232.npy\n",
      "(744, 7, 182, 232)\n",
      "(744, 21, 182, 232)\n"
     ]
    }
   ],
   "source": [
    "'''\n",
    "0:CO 1:NH3 2:SO2 3:SULF 4:voc_mean 5:p_mean 6:NO_mean\n",
    "7:voc^2 8:voc^3 9:NO^2 10:NO^3 11:NO^4 12:NO^5 13:NO*voc 14:NO*voc^3 15:NO^2*voc 16:NO^4*voc 17:NO^5*voc 18:NO*NH3\n",
    "19 NH3^2 20 NH3^3\n",
    "'''\n",
    "for filename in sorted(glob.glob('/AS_data/zeyuan_folder/concat_data/NORM_rest_EM_2015_*.npy')):\n",
    "    print(filename)\n",
    "    data = np.load(filename)\n",
    "    print(data.shape)\n",
    "    nh3 = data[:,1:2,:,:]\n",
    "    voc = data[:,4:5,:,:]\n",
    "    no = data[:,6:7,:,:]\n",
    "    new_data = np.concatenate([data,voc*voc,voc*voc*voc,no*no,no*no*no,no*no*no*no,no*no*no*no*no,no*voc,\n",
    "                              no*voc*voc*voc,no*no*voc,no*no*no*no*voc,no*no*no*no*no*voc,no*nh3,nh3*nh3,nh3*nh3*nh3],axis=1)\n",
    "    print(new_data.shape)\n",
    "    with open(filename.replace('/AS_data/zeyuan_folder/concat_data/','/AS_data/zeyuan_folder/concat_data/MULTI_'),'wb') as f:\n",
    "        np.save(f,new_data)"
   ]
  },
  {
   "cell_type": "code",
   "execution_count": 5,
   "metadata": {},
   "outputs": [
    {
     "name": "stdout",
     "output_type": "stream",
     "text": [
      "/AS_data/zeyuan_folder/concat_data/MULTI_NORM_rest_EM_2015_01_744_07_182_232.npy\n",
      "(744, 21, 182, 232)\n",
      "(744, 14, 182, 232)\n",
      "/AS_data/zeyuan_folder/concat_data/MULTI_NORM_rest_EM_2015_04_720_07_182_232.npy\n",
      "(720, 21, 182, 232)\n",
      "(720, 14, 182, 232)\n",
      "/AS_data/zeyuan_folder/concat_data/MULTI_NORM_rest_EM_2015_07_744_07_182_232.npy\n",
      "(744, 21, 182, 232)\n",
      "(744, 14, 182, 232)\n",
      "/AS_data/zeyuan_folder/concat_data/MULTI_NORM_rest_EM_2015_10_744_07_182_232.npy\n",
      "(744, 21, 182, 232)\n",
      "(744, 14, 182, 232)\n"
     ]
    }
   ],
   "source": [
    "for filename in sorted(glob.glob('/AS_data/zeyuan_folder/concat_data/MULTI_NORM_rest_EM_2015_*.npy')):\n",
    "    print(filename)\n",
    "    data = np.load(filename)\n",
    "    print(data.shape)\n",
    "    PM25 = data[:,[1,3,4,6,7,9,10,11,13,15,16,18,19,20,],:,:]\n",
    "    print(PM25.shape)\n",
    "    with open(filename.replace('/AS_data/zeyuan_folder/concat_data/MULTI_','/AS_data/zeyuan_folder/concat_data/MULTI_PM25_'),'wb') as f:\n",
    "        np.save(f,PM25)"
   ]
  },
  {
   "cell_type": "code",
   "execution_count": 14,
   "metadata": {},
   "outputs": [
    {
     "name": "stdout",
     "output_type": "stream",
     "text": [
      "[[ 0  1  2  3  4  5  6  7  8  9]\n",
      " [10 11 12 13 14 15 16 17 18 19]]\n",
      "[[ 1  4  6]\n",
      " [11 14 16]]\n"
     ]
    }
   ],
   "source": [
    "data = np.array([[i for i in range(10)],[i for i in range(10,20)]])\n",
    "print(data)\n",
    "new_data = data[:,list(range(1,2))+[4]]\n",
    "print(new_data)"
   ]
  },
  {
   "cell_type": "code",
   "execution_count": 3,
   "metadata": {},
   "outputs": [],
   "source": [
    "results = []\n",
    "with open('log/log_step1_multi.txt','r',encoding='utf-8') as f:\n",
    "    for line in f:\n",
    "        if \"cur test loss L1\" in line:\n",
    "            r = line.strip().split()[-1].split(',')\n",
    "            if len(r) == 4: results.append(r)"
   ]
  },
  {
   "cell_type": "code",
   "execution_count": 4,
   "metadata": {
    "scrolled": true
   },
   "outputs": [
    {
     "name": "stdout",
     "output_type": "stream",
     "text": [
      "Current Best\n",
      "['5.03397', '5.9036584', '0.8786848', '0.64728564']\n",
      "12.463598840000001\n",
      "********************\n",
      "Current Best\n",
      "['4.9156027', '5.119788', '0.7304886', '0.56270117']\n",
      "11.32858047\n",
      "********************\n",
      "Current Best\n",
      "['5.170702', '4.756192', '0.6924123', '0.5435761']\n",
      "11.1628824\n",
      "********************\n",
      "Current Best\n",
      "['4.702267', '5.120251', '0.68198866', '0.51287544']\n",
      "11.017382099999999\n",
      "********************\n",
      "Current Best\n",
      "['4.9041977', '4.6192193', '0.6626822', '0.5018446']\n",
      "10.687943800000001\n",
      "********************\n",
      "Current Best\n",
      "['4.5152006', '4.2217393', '0.61663723', '0.48309252']\n",
      "9.83666965\n",
      "********************\n",
      "Current Best\n",
      "['4.5306478', '4.012095', '0.58384037', '0.43486804']\n",
      "9.56145121\n",
      "********************\n",
      "Current Best\n",
      "['4.428879', '4.0700064', '0.58900553', '0.42889202']\n",
      "9.516782949999998\n",
      "********************\n",
      "Current Best\n",
      "['4.495114', '3.961007', '0.5827649', '0.42053103']\n",
      "9.45941693\n",
      "********************\n",
      "Current Best\n",
      "['4.507752', '3.976908', '0.5438822', '0.42646888']\n",
      "9.45501108\n",
      "********************\n",
      "Current Best\n",
      "['4.4711704', '3.9529378', '0.50875235', '0.41131836']\n",
      "9.344178909999998\n",
      "********************\n"
     ]
    }
   ],
   "source": [
    "total = []\n",
    "cur = 10000\n",
    "for result in results:\n",
    "    t = 0\n",
    "    for r in result: t += float(r)\n",
    "    total.append(t)\n",
    "    if t <= cur:\n",
    "        cur = t\n",
    "        print(\"Current Best\")\n",
    "        print(result)\n",
    "        print(t)\n",
    "        print('*'*20)"
   ]
  },
  {
   "cell_type": "code",
   "execution_count": 5,
   "metadata": {},
   "outputs": [
    {
     "name": "stdout",
     "output_type": "stream",
     "text": [
      "Cur best PM25\n",
      "5.03397\n",
      "Cur best O3\n",
      "5.9036584\n",
      "Cur best NO2\n",
      "0.8786848\n",
      "Cur best SO2\n",
      "0.64728564\n",
      "Cur best PM25\n",
      "4.9156027\n",
      "Cur best O3\n",
      "5.119788\n",
      "Cur best NO2\n",
      "0.7304886\n",
      "Cur best SO2\n",
      "0.56270117\n",
      "Cur best O3\n",
      "4.756192\n",
      "Cur best NO2\n",
      "0.6924123\n",
      "Cur best SO2\n",
      "0.5435761\n",
      "Cur best PM25\n",
      "4.702267\n",
      "Cur best NO2\n",
      "0.68198866\n",
      "Cur best SO2\n",
      "0.51287544\n",
      "Cur best O3\n",
      "4.6192193\n",
      "Cur best NO2\n",
      "0.6626822\n",
      "Cur best SO2\n",
      "0.5018446\n",
      "Cur best PM25\n",
      "4.5152006\n",
      "Cur best O3\n",
      "4.2217393\n",
      "Cur best NO2\n",
      "0.61663723\n",
      "Cur best SO2\n",
      "0.48309252\n",
      "Cur best NO2\n",
      "0.58270866\n",
      "Cur best PM25\n",
      "4.420896\n",
      "Cur best NO2\n",
      "0.57561046\n",
      "Cur best SO2\n",
      "0.45747197\n",
      "Cur best PM25\n",
      "4.4197464\n",
      "Cur best NO2\n",
      "0.5568207\n",
      "Cur best SO2\n",
      "0.4569884\n",
      "Cur best SO2\n",
      "0.45609105\n",
      "Cur best O3\n",
      "4.1729364\n",
      "Cur best O3\n",
      "4.012095\n",
      "Cur best SO2\n",
      "0.43486804\n",
      "Cur best SO2\n",
      "0.42889202\n",
      "Cur best PM25\n",
      "4.40484\n",
      "Cur best NO2\n",
      "0.55420876\n",
      "Cur best SO2\n",
      "0.4261891\n",
      "Cur best NO2\n",
      "0.5260673\n",
      "Cur best NO2\n",
      "0.522208\n",
      "Cur best SO2\n",
      "0.4259766\n",
      "Cur best NO2\n",
      "0.5145278\n",
      "Cur best SO2\n",
      "0.42049304\n",
      "Cur best O3\n",
      "3.961007\n",
      "Cur best SO2\n",
      "0.41482252\n",
      "Cur best O3\n",
      "3.9529378\n",
      "Cur best NO2\n",
      "0.50875235\n",
      "Cur best SO2\n",
      "0.41131836\n"
     ]
    }
   ],
   "source": [
    "pm, o, no, so = 100000,10000,100000,10000\n",
    "for result in results:\n",
    "    if float(result[0]) < pm:\n",
    "        pm = float(result[0])\n",
    "        print('Cur best PM25')\n",
    "        print(result[0])\n",
    "    if float(result[1]) < o:\n",
    "        o = float(result[1])\n",
    "        print('Cur best O3')\n",
    "        print(result[1])\n",
    "    if float(result[2]) < no:\n",
    "        no = float(result[2])\n",
    "        print('Cur best NO2')\n",
    "        print(result[2])\n",
    "    if float(result[3]) < so:\n",
    "        so = float(result[3])\n",
    "        print('Cur best SO2')\n",
    "        print(result[3])"
   ]
  }
 ],
 "metadata": {
  "kernelspec": {
   "display_name": "Python 3",
   "language": "python",
   "name": "python3"
  },
  "language_info": {
   "codemirror_mode": {
    "name": "ipython",
    "version": 3
   },
   "file_extension": ".py",
   "mimetype": "text/x-python",
   "name": "python",
   "nbconvert_exporter": "python",
   "pygments_lexer": "ipython3",
   "version": "3.7.6"
  }
 },
 "nbformat": 4,
 "nbformat_minor": 4
}
