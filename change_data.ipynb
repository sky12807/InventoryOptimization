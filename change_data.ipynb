{
 "cells": [
  {
   "cell_type": "code",
   "execution_count": 1,
   "metadata": {},
   "outputs": [],
   "source": [
    "import sys\n",
    "sys.path.append( '/anaconda/envs/py37_pytorch/lib/python3.7')\n",
    "sys.path.append('/anaconda/envs/py37_pytorch/lib/python3.7/site-packages')\n",
    "%load_ext autoreload\n",
    "%autoreload 2\n",
    "\n",
    "import glob\n",
    "import logging\n",
    "import numpy as np\n",
    "from importlib import reload  # Not needed in Python 2\n",
    "import torch\n",
    "from torch import nn\n",
    "import torch.nn.functional as F\n",
    "from torchvision.models import ResNet\n",
    "from torch.utils.data import DataLoader,Dataset\n",
    "\n",
    "\n",
    "from dataset.ASdataset import AS_Data\n",
    "from dataset.ASdataset_obs_train_input import AS_Data_obs\n",
    "\n",
    "device = torch.device(\"cuda\"  if torch.cuda.is_available() else \"cpu\")\n",
    "reload(logging)\n",
    "logging.basicConfig(level=logging.INFO,#控制台打印的日志级别\n",
    "                    filename='logging.txt',\n",
    "                    filemode='a',##模式，有w和a，w就是写模式，每次都会重新写日志，覆盖之前的日志\n",
    "                    #a是追加模式，默认如果不写的话，就是追加模式\n",
    "                    format=\n",
    "                    '%(asctime)s : %(message)s',\n",
    "                    )\n",
    "\n",
    "import matplotlib\n",
    "import matplotlib.pyplot as plt\n",
    "\n",
    "%matplotlib inline\n",
    "from copy import deepcopy"
   ]
  },
  {
   "cell_type": "code",
   "execution_count": 2,
   "metadata": {},
   "outputs": [],
   "source": [
    "voc = [0,2,3,4,8,9,10] + list(range(32,51))\n",
    "pm25 = list(range(10,30))\n",
    "rest = [1,5,30,31]\n",
    "no = [6,7]"
   ]
  },
  {
   "cell_type": "code",
   "execution_count": 3,
   "metadata": {},
   "outputs": [
    {
     "name": "stdout",
     "output_type": "stream",
     "text": [
      "/AS_data/Emis_with_foreign_npy/EM_2015_10_744_51_182_232.npy\n",
      "(744, 51, 182, 232)\n",
      "/AS_data/zeyuan_folder/concat_data/rest_EM_2015_10_744_07_182_232.npy\n",
      "(744, 7, 182, 232)\n",
      "/AS_data/finetune_input_prelu_VOCsame_PM25_O3_NO2_SO2/rest_4month_SULF_CO_7dim_10_finetune_input.npy\n",
      "(744, 7, 182, 232)\n"
     ]
    }
   ],
   "source": [
    "for filename in sorted(glob.glob('/AS_data/Emis_with_foreign_npy/EM_2015_10_744_51_182_232.npy')):\n",
    "    print(filename)\n",
    "    org_data = np.load(filename)\n",
    "    print(org_data.shape)\n",
    "for filename in sorted(glob.glob('/AS_data/zeyuan_folder/concat_data/rest_EM_2015_10_744_07_182_232.npy')):\n",
    "    print(filename)\n",
    "    con_data = np.load(filename)\n",
    "    print(con_data.shape)\n",
    "for filename in sorted(glob.glob('/AS_data/finetune_input_prelu_VOCsame_PM25_O3_NO2_SO2/rest_4month_SULF_CO_7dim_10_finetune_input.npy')):\n",
    "    print(filename)\n",
    "    fin_data = np.load(filename)\n",
    "    print(fin_data.shape)"
   ]
  },
  {
   "cell_type": "code",
   "execution_count": 4,
   "metadata": {},
   "outputs": [
    {
     "name": "stdout",
     "output_type": "stream",
     "text": [
      "(744, 51, 182, 232)\n",
      "(744, 7, 182, 232)\n"
     ]
    }
   ],
   "source": [
    "final_data = deepcopy(org_data)\n",
    "delta_data = fin_data - con_data\n",
    "print(final_data.shape)\n",
    "print(delta_data.shape)"
   ]
  },
  {
   "cell_type": "code",
   "execution_count": 5,
   "metadata": {},
   "outputs": [
    {
     "name": "stdout",
     "output_type": "stream",
     "text": [
      "Updating VOC\n",
      "Updating PM25\n",
      "Updating NO\n"
     ]
    }
   ],
   "source": [
    "print('Updating VOC')\n",
    "delta_voc = delta_data[:,4,:,:]\n",
    "mean_voc = con_data[:,4,:,:]\n",
    "for i in voc:\n",
    "    final_data[:,i,:,:] += (org_data[:,i,:,:] + 1e-5) * delta_voc / (mean_voc + 1e-5)\n",
    "print('Updating PM25')\n",
    "delta_voc = delta_data[:,5,:,:]\n",
    "mean_voc = con_data[:,5,:,:]\n",
    "for i in pm25:\n",
    "    final_data[:,i,:,:] += (org_data[:,i,:,:] + 1e-5) * delta_voc / (mean_voc + 1e-5)\n",
    "print('Updating NO')\n",
    "delta_voc = delta_data[:,6,:,:]\n",
    "mean_voc = con_data[:,6,:,:]\n",
    "for i in no:\n",
    "    final_data[:,i,:,:] += (org_data[:,i,:,:] + 1e-5) * delta_voc / (mean_voc + 1e-5)"
   ]
  },
  {
   "cell_type": "code",
   "execution_count": 6,
   "metadata": {},
   "outputs": [],
   "source": [
    "with open('/AS_data/zeyuan_folder/reload_data/adjust_7EM_10_744_51_182_232.npy','wb') as f:\n",
    "    np.save(f,final_data)"
   ]
  }
 ],
 "metadata": {
  "kernelspec": {
   "display_name": "Python 3",
   "language": "python",
   "name": "python3"
  },
  "language_info": {
   "codemirror_mode": {
    "name": "ipython",
    "version": 3
   },
   "file_extension": ".py",
   "mimetype": "text/x-python",
   "name": "python",
   "nbconvert_exporter": "python",
   "pygments_lexer": "ipython3",
   "version": "3.7.6"
  }
 },
 "nbformat": 4,
 "nbformat_minor": 4
}
