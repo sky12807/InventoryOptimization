{
 "cells": [
  {
   "cell_type": "code",
   "execution_count": 1,
   "metadata": {},
   "outputs": [],
   "source": [
    "%load_ext autoreload\n",
    "%autoreload 2\n",
    "\n",
    "import glob\n",
    "import logging\n",
    "import numpy as np\n",
    "from importlib import reload  # Not needed in Python 2\n",
    "\n",
    "import torch\n",
    "from torch import nn\n",
    "import torch.nn.functional as F\n",
    "from torchvision.models import ResNet\n",
    "from torch.utils.data import DataLoader,Dataset\n",
    "\n",
    "\n",
    "from dataset.ASdataset import AS_Data\n",
    "from dataset.ASdataset_obs_train_input import AS_Data_obs\n",
    "\n",
    "from model import res8,UNet,UNet_Res\n",
    "\n",
    "device = torch.device(\"cuda\"  if torch.cuda.is_available() else \"cpu\")\n",
    "reload(logging)\n",
    "logging.basicConfig(level=logging.INFO,#控制台打印的日志级别\n",
    "                    filename='logging.txt',\n",
    "                    filemode='a',##模式，有w和a，w就是写模式，每次都会重新写日志，覆盖之前的日志\n",
    "                    #a是追加模式，默认如果不写的话，就是追加模式\n",
    "                    format=\n",
    "                    '%(asctime)s : %(message)s',\n",
    "                    )\n",
    "\n",
    "import matplotlib\n",
    "import matplotlib.pyplot as plt\n",
    "\n",
    "%matplotlib inline\n",
    "\n",
    "def image_show(im,title = '',r=10,base=80):\n",
    "    im[:r,:r] = base\n",
    "    im[r,r] = 0\n",
    "    im[im>base] = base\n",
    "    plt.title(title)\n",
    "    plt.imshow(im[::-1])\n",
    "    plt.show()\n",
    "    \n",
    "# logging.info('\\n\\n\\n\\n\\n')\n",
    "# logging.info('with 3 conv grid to concat\\n')\n",
    "# logging.info('2res block, use simple feature: EM inventory simple,2d ALL,3d ALL\\n')\n",
    "\n",
    "\n",
    "class Focal_loss_regression(nn.Module):\n",
    "    def __init__(self,max_update=10,_lambda=2,):\n",
    "        super(Focal_loss_regression,self).__init__()\n",
    "        self._lambda = _lambda\n",
    "        max_update = np.power(1/max_update,1/_lambda)\n",
    "        max_update = 1/max_update\n",
    "        max_update = 1/(max_update-1)\n",
    "        self.max_update = max_update\n",
    "        \n",
    "    def forward(self,pred,target):\n",
    "        diff_abs = torch.abs(pred-target)\n",
    "        diff_max = (1+self.max_update)*torch.max(diff_abs)\n",
    "#         diff_max.detach()\n",
    "        rate = torch.pow((1-1/diff_max*diff_abs)**self._lambda,-1)\n",
    "        diff_abs = rate*diff_abs\n",
    "        \n",
    "#         return diff_abs\n",
    "        return torch.mean(diff_abs)"
   ]
  },
  {
   "cell_type": "code",
   "execution_count": 2,
   "metadata": {},
   "outputs": [
    {
     "name": "stdout",
     "output_type": "stream",
     "text": [
      "train data is loading \n",
      "/AS_data/Conc_npy/O3_2015_01_744_182_232.npy   is loading\n",
      "/AS_data/Conc_npy/O3_2015_02_672_182_232.npy   is loading\n",
      "/AS_data/Conc_npy/O3_2015_04_720_182_232.npy   is loading\n",
      "/AS_data/Conc_npy/O3_2015_07_744_182_232.npy   is loading\n",
      "/AS_data/Conc_npy/O3_2015_10_744_182_232.npy   is loading\n",
      "/AS_data/Emis_npy/EM_2015_01_744_51_182_232.npy   is loading\n",
      "/AS_data/Emis_npy/EM_2015_02_672_51_182_232.npy   is loading\n",
      "/AS_data/Emis_npy/EM_2015_04_720_51_182_232.npy   is loading\n",
      "/AS_data/Emis_npy/EM_2015_07_744_51_182_232.npy   is loading\n",
      "/AS_data/Emis_npy/EM_2015_10_744_51_182_232.npy   is loading\n",
      "/AS_data/METCRO2D_npy/METCRO2D_2015_01_744_34_182_232.npy   is loading\n",
      "/AS_data/METCRO2D_npy/METCRO2D_2015_02_672_34_182_232.npy   is loading\n",
      "/AS_data/METCRO2D_npy/METCRO2D_2015_04_720_34_182_232.npy   is loading\n",
      "/AS_data/METCRO2D_npy/METCRO2D_2015_07_744_34_182_232.npy   is loading\n",
      "/AS_data/METCRO2D_npy/METCRO2D_2015_10_744_34_182_232.npy   is loading\n",
      "/AS_data/obs_npy/obs2015_01_744_6_182_232.npy   is loading\n",
      "/AS_data/obs_npy/obs2015_02_672_6_182_232.npy   is loading\n",
      "/AS_data/obs_npy/obs2015_04_720_6_182_232.npy   is loading\n",
      "/AS_data/obs_npy/obs2015_07_744_6_182_232.npy   is loading\n",
      "/AS_data/obs_npy/obs2015_10_744_6_182_232.npy   is loading\n",
      "3598\n"
     ]
    }
   ],
   "source": [
    "\n",
    "cfg = {'EM':'/AS_data/Emis_npy/EM_2015_*',\n",
    "      'label':'/AS_data/Conc_npy/O3_2015_*',\n",
    "      'grid':'/AS_data/Grid_npy/grid_27_182_232.npy',\n",
    "      'METCRO2D':'/AS_data/METCRO2D_npy/METCRO2D_2015_*',\n",
    "      'METCRO3D':'',\n",
    "      'METCRO3D_5height':'',\n",
    "      'obs_label':'/AS_data/obs_npy/obs2015_*'}\n",
    "# cfg = {'EM':'/AS_data/Emis_npy/EM_2015_07*',\n",
    "#         'label':'/AS_data/Conc_npy/O3_2015_07*',\n",
    "#         'grid':'/AS_data/Grid_npy/grid_27_182_232.npy',\n",
    "#         'METCRO2D':'/AS_data/METCRO2D_npy/METCRO2D_2015_07*',\n",
    "#         'METCRO3D':'',\n",
    "#         'METCRO3D_5height':'',\n",
    "#         'obs_label':'/AS_data/obs_npy/obs2015_7_*'}\n",
    "\n",
    "print('train data is loading ')\n",
    "Data = AS_Data_obs(cfg,left = 0,right = 1,window = 6)\n",
    "trainloader = DataLoader(Data,batch_size=1,shuffle=True)\n",
    "print(len(Data))\n",
    "\n",
    "# print('test data is loading ')\n",
    "# test_Data = AS_Data_obs(cfg,left = 0.75,right = 0.98,window = 6)\n",
    "# testloader = DataLoader(test_Data,batch_size=1,shuffle=False)\n",
    "# print(len(test_Data))"
   ]
  },
  {
   "cell_type": "code",
   "execution_count": 3,
   "metadata": {},
   "outputs": [],
   "source": [
    "class Tensor_Parameter(nn.Module):\n",
    "    def __init__(self,):\n",
    "        super(Tensor_Parameter,self).__init__()\n",
    "        self.Input = nn.Parameter(torch.zeros(1))\n",
    "    \n",
    "    def forward(self,x):\n",
    "        self.Input.data = x\n",
    "        return self.Input"
   ]
  },
  {
   "cell_type": "code",
   "execution_count": 4,
   "metadata": {},
   "outputs": [
    {
     "data": {
      "text/plain": [
       "<All keys matched successfully>"
      ]
     },
     "execution_count": 4,
     "metadata": {},
     "output_type": "execute_result"
    }
   ],
   "source": [
    "# test_model = res8(51+34,27,inplanes=64,layers = [2],T=24) #+5*16\n",
    "# name = 'res_2layer_correctdata'\n",
    "# test_model.load_state_dict(torch.load('model_save/res_2layer_9_epoch.t'))\n",
    "test_model = UNet(51+34,27,T=6,bilinear=False) #+80\n",
    "t2p = Tensor_Parameter()\n",
    "\n",
    "name = 'unet2_1month'\n",
    "\n",
    "test_model.to(device)\n",
    "t2p.to(device)\n",
    "criterion = torch.nn.L1Loss()\n",
    "# optimizer = torch.optim.Adam(test_model.parameters(),lr=1e-3)\n",
    "optimizer = torch.optim.Adam(t2p.parameters(),lr=1e-3)\n",
    "test_model.load_state_dict(torch.load('model_save/o3_best_unet2_1month_65_epoch.t'))"
   ]
  },
  {
   "cell_type": "code",
   "execution_count": 5,
   "metadata": {},
   "outputs": [],
   "source": [
    "def score(model,loader,criterion= nn.L1Loss() ):\n",
    "    model.eval()\n",
    "    ls = []\n",
    "    for idx,i in enumerate(loader):\n",
    "        with torch.no_grad():\n",
    "            indexes,input,grid,yt_1,label,obs = i[0],i[1],i[2],i[3],i[4],i[5]\n",
    "            yt_1 = torch.unsqueeze(yt_1,1)\n",
    "            input,grid,yt_1,label,obs = input.to(device),grid.to(device),yt_1.to(device),label.to(device),obs.float().to(device)\n",
    "            input = t2p(input)\n",
    "            y_pred = model(input,grid,yt_1)\n",
    "            y_pred = torch.squeeze(y_pred) #,dim = 2)\n",
    "            y_pred = y_pred.view(label.shape)\n",
    "            \n",
    "            Data.update_labels(indexes,y_pred)\n",
    "            if torch.sum(obs!=-999)==0:\n",
    "                continue\n",
    "\n",
    "            \n",
    "            loss = criterion(y_pred[obs!=-999],obs[obs!=-999])\n",
    "            ls.append(loss.cpu().data)\n",
    "        \n",
    "    return np.mean(np.array(ls))"
   ]
  },
  {
   "cell_type": "code",
   "execution_count": 6,
   "metadata": {},
   "outputs": [],
   "source": [
    "\n",
    "# input = torch.randn(3, 5, requires_grad=True)\n",
    "# print(input)\n",
    "# target = torch.randn(3, 5, requires_grad=True)\n",
    "# for i in range(1000):\n",
    "#     pred  = model(input)\n",
    "#     optimizer.zero_grad()\n",
    "#     loss = F.l1_loss(pred, target)\n",
    "#     loss.backward()\n",
    "#     optimizer.step()\n",
    "# #     print(loss)\n",
    "#     input = pred"
   ]
  },
  {
   "cell_type": "code",
   "execution_count": 37,
   "metadata": {},
   "outputs": [
    {
     "name": "stdout",
     "output_type": "stream",
     "text": [
      "-------------cur test loss L1:  10.270524024963379\n"
     ]
    }
   ],
   "source": [
    "test_score_L1 = score(test_model,trainloader,criterion = nn.L1Loss()) \n",
    "logging.info('-------------cur test loss L1:  {}'.format(test_score_L1))\n",
    "print('-------------cur test loss L1:  {}'.format(test_score_L1))"
   ]
  },
  {
   "cell_type": "code",
   "execution_count": null,
   "metadata": {},
   "outputs": [],
   "source": []
  },
  {
   "cell_type": "code",
   "execution_count": null,
   "metadata": {},
   "outputs": [
    {
     "name": "stdout",
     "output_type": "stream",
     "text": [
      "epoch 0 cur loss 31.16423225402832\n"
     ]
    }
   ],
   "source": [
    "\n",
    "for epoch in range(50):\n",
    "    logging.info('-----------{}-----------'.format(epoch))\n",
    "    ls = []\n",
    "    \n",
    "    test_model.eval()\n",
    "    test_model.rnn.train()\n",
    "    for idx,i in enumerate(trainloader):\n",
    "        \n",
    "        indexes,input,grid,yt_1,label,obs = i[0],i[1],i[2],i[3],i[4],i[5]\n",
    "        yt_1 = torch.unsqueeze(yt_1,1)\n",
    "        input,grid,yt_1,label,obs = input.to(device),grid.to(device),yt_1.to(device),label.to(device),obs.to(device)\n",
    "        input = t2p(input)\n",
    "        y_pred = test_model(input,grid,yt_1)\n",
    "\n",
    "        y_pred = torch.squeeze(y_pred) #,dim = 2)\n",
    "        if torch.sum(obs!=-999)==0:\n",
    "            continue\n",
    "        optimizer.zero_grad()\n",
    "        \n",
    "        y_pred = y_pred.view(label.shape)\n",
    "        loss = criterion(y_pred[obs!=-999],obs[obs!=-999])\n",
    "        loss.backward()\n",
    "        optimizer.step()\n",
    "        ls.append(loss.cpu().data)\n",
    "        \n",
    "        #udpate input parameter\n",
    "        Data.update(indexes,t2p.Input.data)\n",
    "\n",
    "#         Data.update_labels(indexes,y_pred)\n",
    "#         if len(ls)%400==0:\n",
    "#             logging.info('epoch {} cur loss {}'.format(epoch,np.mean(ls)))\n",
    "    print('epoch {} cur loss {}'.format(epoch,np.mean(ls)))\n",
    "    logging.info('epoch {} cur loss {}'.format(epoch,np.mean(ls)))\n",
    "    test_score_L1 = score(test_model,trainloader,criterion = nn.L1Loss()) \n",
    "    logging.info('-------------cur test loss L1:  {}'.format(test_score_L1))\n",
    "    \n",
    "#     if epoch%5 == 0:\n",
    "#         torch.save(test_model.cpu().state_dict(),'model_save/finetune_input_{}_{}_epoch.t'.format(name,epoch))\n",
    "#         test_model.to(device)"
   ]
  },
  {
   "cell_type": "code",
   "execution_count": 40,
   "metadata": {},
   "outputs": [],
   "source": [
    "for idx,month in enumerate(['01','02','04','07','10']):\n",
    "    np.save('/AS_data/finetune_input_npy/month_{}_finetune_input.npy'.format(month),Data.EM[idx])"
   ]
  },
  {
   "cell_type": "code",
   "execution_count": 31,
   "metadata": {},
   "outputs": [
    {
     "data": {
      "text/plain": [
       "(729, 34, 182, 232)"
      ]
     },
     "execution_count": 31,
     "metadata": {},
     "output_type": "execute_result"
    }
   ],
   "source": [
    "Data.METCRO2D[0].shape"
   ]
  },
  {
   "cell_type": "code",
   "execution_count": 32,
   "metadata": {},
   "outputs": [
    {
     "data": {
      "text/plain": [
       "(729, 51, 182, 232)"
      ]
     },
     "execution_count": 32,
     "metadata": {},
     "output_type": "execute_result"
    }
   ],
   "source": [
    "Data.EM[0].shape"
   ]
  },
  {
   "cell_type": "code",
   "execution_count": 39,
   "metadata": {
    "collapsed": true,
    "jupyter": {
     "outputs_hidden": true
    }
   },
   "outputs": [
    {
     "name": "stdout",
     "output_type": "stream",
     "text": [
      "0.10913986606003973\n"
     ]
    },
    {
     "data": {
      "image/png": "[encoded data removed]",
      "text/plain": [
       "<Figure size 432x288 with 1 Axes>"
      ]
     },
     "metadata": {
      "needs_background": "light"
     },
     "output_type": "display_data"
    },
    {
     "name": "stdout",
     "output_type": "stream",
     "text": [
      "0.2949287426190388\n"
     ]
    },
    {
     "data": {
      "image/png": "[encoded data removed]",
      "text/plain": [
       "<Figure size 432x288 with 1 Axes>"
      ]
     },
     "metadata": {
      "needs_background": "light"
     },
     "output_type": "display_data"
    },
    {
     "name": "stdout",
     "output_type": "stream",
     "text": [
      "0.382105664493212\n"
     ]
    },
    {
     "data": {
      "image/png": "[encoded data removed]",
      "text/plain": [
       "<Figure size 432x288 with 1 Axes>"
      ]
     },
     "metadata": {
      "needs_background": "light"
     },
     "output_type": "display_data"
    },
    {
     "name": "stdout",
     "output_type": "stream",
     "text": [
      "0.10795537719406403\n"
     ]
    },
    {
     "data": {
      "image/png": "[encoded data removed]",
      "text/plain": [
       "<Figure size 432x288 with 1 Axes>"
      ]
     },
     "metadata": {
      "needs_background": "light"
     },
     "output_type": "display_data"
    },
    {
     "name": "stdout",
     "output_type": "stream",
     "text": [
      "0.309338593513314\n"
     ]
    },
    {
     "data": {
      "image/png": "[encoded data removed]",
      "text/plain": [
       "<Figure size 432x288 with 1 Axes>"
      ]
     },
     "metadata": {
      "needs_background": "light"
     },
     "output_type": "display_data"
    },
    {
     "name": "stdout",
     "output_type": "stream",
     "text": [
      "0.38544474668454776\n"
     ]
    },
    {
     "data": {
      "image/png": "[encoded data removed]",
      "text/plain": [
       "<Figure size 432x288 with 1 Axes>"
      ]
     },
     "metadata": {
      "needs_background": "light"
     },
     "output_type": "display_data"
    },
    {
     "name": "stdout",
     "output_type": "stream",
     "text": [
      "0.13722161704729713\n"
     ]
    },
    {
     "data": {
      "image/png": "[encoded data removed]",
      "text/plain": [
       "<Figure size 432x288 with 1 Axes>"
      ]
     },
     "metadata": {
      "needs_background": "light"
     },
     "output_type": "display_data"
    },
    {
     "name": "stdout",
     "output_type": "stream",
     "text": [
      "0.30677179146033323\n"
     ]
    },
    {
     "data": {
      "image/png": "[encoded data removed]",
      "text/plain": [
       "<Figure size 432x288 with 1 Axes>"
      ]
     },
     "metadata": {
      "needs_background": "light"
     },
     "output_type": "display_data"
    },
    {
     "name": "stdout",
     "output_type": "stream",
     "text": [
      "0.4262153863449966\n"
     ]
    },
    {
     "data": {
      "image/png": "[encoded data removed]",
      "text/plain": [
       "<Figure size 432x288 with 1 Axes>"
      ]
     },
     "metadata": {
      "needs_background": "light"
     },
     "output_type": "display_data"
    },
    {
     "name": "stdout",
     "output_type": "stream",
     "text": [
      "0.14716847187016718\n"
     ]
    },
    {
     "data": {
      "image/png": "[encoded data removed]",
      "text/plain": [
       "<Figure size 432x288 with 1 Axes>"
      ]
     },
     "metadata": {
      "needs_background": "light"
     },
     "output_type": "display_data"
    },
    {
     "name": "stdout",
     "output_type": "stream",
     "text": [
      "0.36511801345216444\n"
     ]
    },
    {
     "data": {
      "image/png": "[encoded data removed]",
      "text/plain": [
       "<Figure size 432x288 with 1 Axes>"
      ]
     },
     "metadata": {
      "needs_background": "light"
     },
     "output_type": "display_data"
    },
    {
     "name": "stdout",
     "output_type": "stream",
     "text": [
      "0.4965311591771812\n"
     ]
    },
    {
     "data": {
      "image/png": "[encoded data removed]",
      "text/plain": [
       "<Figure size 432x288 with 1 Axes>"
      ]
     },
     "metadata": {
      "needs_background": "light"
     },
     "output_type": "display_data"
    },
    {
     "name": "stdout",
     "output_type": "stream",
     "text": [
      "0.12102850039230918\n"
     ]
    },
    {
     "data": {
      "image/png": "[encoded data removed]",
      "text/plain": [
       "<Figure size 432x288 with 1 Axes>"
      ]
     },
     "metadata": {
      "needs_background": "light"
     },
     "output_type": "display_data"
    },
    {
     "name": "stdout",
     "output_type": "stream",
     "text": [
      "0.2911999089793098\n"
     ]
    },
    {
     "data": {
      "image/png": "[encoded data removed]",
      "text/plain": [
       "<Figure size 432x288 with 1 Axes>"
      ]
     },
     "metadata": {
      "needs_background": "light"
     },
     "output_type": "display_data"
    },
    {
     "name": "stdout",
     "output_type": "stream",
     "text": [
      "0.394690359186889\n"
     ]
    },
    {
     "data": {
      "image/png": "[encoded data removed]",
      "text/plain": [
       "<Figure size 432x288 with 1 Axes>"
      ]
     },
     "metadata": {
      "needs_background": "light"
     },
     "output_type": "display_data"
    }
   ],
   "source": [
    "for i in range(len(Data.obs_label)):\n",
    "    obs = Data.obs_label[i].copy()\n",
    "    fine_l = Data.finetune_label[i].copy()\n",
    "    ctm_l = Data.label[i].copy()\n",
    "    \n",
    "    obs[Data.obs_label[i]==-999] = 0\n",
    "    fine_l[Data.obs_label[i]==-999] = 0\n",
    "    ctm_l[Data.obs_label[i]==-999] = 0\n",
    "    \n",
    "    obs = np.sum(obs,axis = 0)\n",
    "    fine_l = np.sum(fine_l,axis = 0)\n",
    "    ctm_l = np.sum(ctm_l,axis = 0)\n",
    "\n",
    "    a = (obs-fine_l)/(obs+1e-3)\n",
    "    b = (fine_l-ctm_l)/(obs+1e-3)\n",
    "    c = (obs-ctm_l)/(obs+1e-3)\n",
    "    \n",
    "    print(np.mean(np.abs(a[a!=0])))\n",
    "    plt.hist(a[a!=0].reshape(-1),range=(-1,1),bins = 100)\n",
    "    plt.title(i)\n",
    "    plt.show()\n",
    "    \n",
    "    plt.hist(b[b!=0].reshape(-1),range=(-1,1),bins = 100)\n",
    "    print(np.mean(np.abs(b[b!=0])))\n",
    "    plt.title(i)\n",
    "    plt.show()\n",
    "    \n",
    "    plt.hist(c[c!=0].reshape(-1),range=(-1,1),bins = 100)\n",
    "    print(np.mean(np.abs(c[c!=0])))\n",
    "    plt.title(i)\n",
    "    plt.show()"
   ]
  },
  {
   "cell_type": "code",
   "execution_count": 34,
   "metadata": {},
   "outputs": [
    {
     "data": {
      "text/plain": [
       "51"
      ]
     },
     "execution_count": 34,
     "metadata": {},
     "output_type": "execute_result"
    }
   ],
   "source": [
    "for filename in sorted(glob.glob('')):\n",
    "        print(filename+'   is loading')\n",
    "        EM = np.load(filename)\n",
    "#             EM = simplify_matrix(EM,1,l_EM)\n",
    "        tick,_,W,H = EM.shape\n",
    "        self.EM.append(EM[int(left*tick):int(right*tick)].copy())\n",
    "        del EM"
   ]
  },
  {
   "cell_type": "code",
   "execution_count": 58,
   "metadata": {},
   "outputs": [],
   "source": [
    "for i in range(len(Data.EM)):\n",
    "    for j in range(Data.EM[0].shape[1]):\n",
    "        fine_input = Data.EM[i][:,j].copy()\n",
    "        org_input = Data.finetune_label[i][:,j].copy()\n",
    "\n",
    "        obs[Data.obs_label[i]==-999] = 0\n",
    "        fine_l[Data.obs_label[i]==-999] = 0\n",
    "        ctm_l[Data.obs_label[i]==-999] = 0\n",
    "\n",
    "        obs = np.sum(obs,axis = 0)\n",
    "        fine_l = np.sum(fine_l,axis = 0)\n",
    "        ctm_l = np.sum(ctm_l,axis = 0)\n",
    "\n",
    "        a = (obs-fine_l)/(obs+1e-3)\n",
    "        b = (fine_l-ctm_l)/(obs+1e-3)\n",
    "        c = (obs-ctm_l)/(obs+1e-3)\n",
    "\n",
    "        print(np.mean(np.abs(a[a!=0])))\n",
    "        plt.hist(a[a!=0].reshape(-1),range=(-1,1),bins = 100)\n",
    "        plt.title(i)\n",
    "        plt.show()\n",
    "\n",
    "        plt.hist(b[b!=0].reshape(-1),range=(-1,1),bins = 100)\n",
    "        print(np.mean(np.abs(b[b!=0])))\n",
    "        plt.title(i)\n",
    "        plt.show()\n",
    "\n",
    "        plt.hist(c[c!=0].reshape(-1),range=(-1,1),bins = 100)\n",
    "        print(np.mean(np.abs(c[c!=0])))\n",
    "        plt.title(i)\n",
    "        plt.show()"
   ]
  },
  {
   "cell_type": "code",
   "execution_count": 60,
   "metadata": {},
   "outputs": [
    {
     "data": {
      "text/plain": [
       "array([2.65592700e-01, 2.72089488e-01, 3.21977242e-01, 7.55372109e-02,\n",
       "       1.81072898e-01, 8.33725843e-02, 2.04191687e-01, 7.85699803e-02,\n",
       "       8.84539791e-02, 2.02114249e-01, 9.36465590e-02, 6.03010411e-02,\n",
       "       4.45491151e-03, 1.59333241e-01, 7.95603370e-02, 2.18974538e-01,\n",
       "       6.68553047e-02, 1.80287698e-01, 6.42548645e-03, 2.95117648e-02,\n",
       "       1.52836783e-01, 3.83880961e-01, 5.84267206e-01, 1.72940988e-02,\n",
       "       6.22834891e-02, 9.07032916e-02, 5.66033109e-02, 1.30660263e-02,\n",
       "       2.64340174e-03, 2.51622106e-02, 2.64415944e-02, 2.32362385e-01,\n",
       "       1.69812119e-01, 3.98784164e-02, 1.60173827e-01, 4.24626843e-02,\n",
       "       2.05665226e-02, 2.59330957e+00, 1.54323979e-01, 6.30805930e-01,\n",
       "       2.70149841e-01, 2.49812355e-01, 3.15624351e-01, 9.58569233e-02,\n",
       "       7.31493291e-02, 7.49099018e-02, 3.63840627e-02, 4.41856690e-02,\n",
       "       6.11375591e-02, 5.49203223e-02, 6.11259569e-02, 7.87065888e-02,\n",
       "       6.42937616e-02, 2.93614003e-01, 1.61768577e-01, 1.70711612e-01,\n",
       "       1.25959271e-01, 1.42899484e-01, 6.53138156e-02, 4.42174480e-01,\n",
       "       4.97551289e-03, 7.23918946e-02, 3.94968702e-01, 1.92236338e-01,\n",
       "       1.07177348e-01, 9.08920216e-02, 2.86265476e-02, 2.09455022e-01,\n",
       "       2.22326360e-01, 3.35654564e-01, 3.00230671e-01, 1.13098673e+00,\n",
       "       8.31460284e-01, 1.61523273e-01, 1.82809410e-01, 1.35065917e-01,\n",
       "       2.86904675e-03, 1.82430955e-01, 1.13989172e-01, 1.05110065e-01,\n",
       "       4.56200909e-01, 4.01064527e-01, 4.28668033e-01, 6.35344090e-01,\n",
       "       2.33893565e-01, 9.82072889e-01, 1.48131159e-01, 1.70149478e-01,\n",
       "       3.10857058e-02, 1.21301481e-01, 1.75457612e-02, 2.20017129e-02,\n",
       "       4.26631501e-02, 2.96168336e-01, 1.07409803e-01, 7.98923252e-02,\n",
       "       7.40746704e-02, 1.12754301e-01, 1.05535445e-01, 4.29177985e-03,\n",
       "       1.56466050e+00, 5.77450330e-02, 4.31028406e-02, 2.78733399e-01,\n",
       "       1.31911096e-03, 6.83725079e-01, 1.98553960e-01, 3.12655255e-01,\n",
       "       3.10463261e-01, 1.88840090e-01, 3.66793240e-01, 4.29381657e-02,\n",
       "       5.53834459e-01, 6.03708260e-01, 6.26526925e-01, 2.86141764e-01,\n",
       "       2.85897813e-01, 5.00076107e-01, 7.80191918e-01, 9.70117720e-02,\n",
       "       1.47595049e-01, 3.69409216e-02, 1.77397762e-01, 2.91996822e-01,\n",
       "       4.39849532e-01, 3.35467256e-02, 3.72700053e-01, 3.71611137e-01,\n",
       "       2.10818170e-01, 2.84315332e-01, 3.99055005e-01, 3.71174878e-01,\n",
       "       1.81456572e-01, 9.22373982e-01, 8.79170905e-01, 9.56215500e-01,\n",
       "       1.41666412e+00, 6.07667492e-01, 4.11080565e-02, 7.30567500e-01,\n",
       "       3.54837685e+00, 1.85363008e+00, 3.54161657e-01, 8.36300169e-01,\n",
       "       1.75863850e-01, 1.60657260e-03, 3.29112188e-01, 2.50124416e-01,\n",
       "       9.16132521e-01, 3.22211001e-01, 7.86034937e-01, 6.95328972e-01,\n",
       "       3.40006588e-01, 2.77173634e-01, 3.37379774e-01, 3.26666878e-01,\n",
       "       3.62335893e-01, 6.82696150e-01, 4.32744327e-01, 1.08127346e+00,\n",
       "       3.69030327e-01, 9.55006811e-01, 1.39737075e+00, 1.02324640e-01,\n",
       "       5.34580866e-01, 1.00760906e+00, 7.48371326e-01, 1.95585732e+00,\n",
       "       9.68060293e-01, 6.83065860e-01, 3.66053865e-01, 1.55011123e-01,\n",
       "       2.48625585e+00, 5.10806480e-01, 6.51577086e-01, 1.06010096e-01,\n",
       "       2.81580782e+00, 2.03549319e+00, 4.31063966e-01, 5.29179433e-01,\n",
       "       1.87332361e-01, 8.99008300e-01, 1.10293122e+00, 1.62829824e+00,\n",
       "       8.39332342e-01, 1.88679004e+00, 2.16232385e+00, 5.45817593e+00,\n",
       "       9.52416831e-02, 5.44749477e-02, 9.50677198e-01, 1.33974020e+00,\n",
       "       4.43273079e-01, 1.06581326e+00, 5.82319729e-02, 1.37997413e-01,\n",
       "       6.67410650e-01, 3.31164874e-01, 2.18373041e+00, 5.45567029e-01,\n",
       "       5.77036763e-01, 3.53971076e-01, 1.21080121e+00, 2.53209321e-01,\n",
       "       6.21341355e-01, 4.71605581e-01, 5.13910788e-01, 3.13122149e-01,\n",
       "       2.83798064e-01, 1.72294674e+00, 9.32026919e-01, 7.34922308e-01,\n",
       "       5.73825172e-01, 2.89511835e+00, 5.35862289e-03, 6.02873326e-01,\n",
       "       7.14191476e-01, 5.27185706e-01, 1.12686803e+00, 7.06771366e-02,\n",
       "       1.95486151e+00, 5.87291840e-01, 1.10352234e+00, 1.43085066e+00,\n",
       "       1.08651149e+00, 1.31135477e+00, 4.97712676e-01, 3.86352526e-01,\n",
       "       4.23391250e-01, 8.55714929e-01, 1.66112504e+00, 2.86785062e-01,\n",
       "       2.17338168e-01, 9.36207386e-02, 2.19468940e+00, 2.73050001e+00,\n",
       "       8.29269199e-02, 2.77896962e-01, 3.84688443e-01, 6.23022008e-01,\n",
       "       1.03153433e+00, 1.03488743e-01, 1.26077458e-01, 6.93528793e-02,\n",
       "       4.92537249e-01, 9.17726753e-01, 2.66041259e-01, 5.97196016e-01,\n",
       "       2.48444321e-01, 4.06652054e-01, 9.79888926e-01, 8.94408121e-01,\n",
       "       1.10368229e-02, 9.46652638e-01, 7.82802168e-01, 2.19228804e-01,\n",
       "       4.57831972e-01, 1.47793010e+00, 9.48673367e-01, 7.90310412e-01,\n",
       "       7.18123945e-01, 6.22784210e-01, 5.95113756e-01, 1.75077799e+00,\n",
       "       8.34215533e-01, 3.46740199e-01, 5.60280551e-01, 7.11842471e-01,\n",
       "       1.02531009e+00, 7.29164110e-01, 1.11423183e+00, 7.14434750e-01,\n",
       "       7.69104348e-01, 8.16690686e-01, 3.96382258e-01, 1.09984448e-01,\n",
       "       9.89211120e-01, 2.31191763e-01, 5.60870167e-01, 2.21163622e-01,\n",
       "       1.56562246e+00, 3.73032258e-01, 3.33538095e-01, 5.29422155e-01,\n",
       "       3.87987966e-01, 4.28580094e-01, 3.80327705e-01, 6.85225158e-01,\n",
       "       1.04318653e+00, 5.65957960e-01, 8.07268893e-01, 5.28619910e-01,\n",
       "       8.21176303e-01, 5.57033999e-01, 3.89083698e-01, 5.45875811e-01,\n",
       "       1.63917947e-01, 9.32315542e-01, 1.83353665e-02, 6.65077052e-01,\n",
       "       6.35403694e-02, 5.35620555e-01, 9.11692704e-01, 4.45408686e-01,\n",
       "       5.67859351e-01, 3.63594831e-01, 3.40669284e-01, 6.40433562e-02,\n",
       "       1.35803548e+00, 4.95008084e-01, 1.04802026e+00, 4.06816480e-01,\n",
       "       3.19689725e-01, 5.00349687e-01, 5.22312465e-01, 3.06747470e-01,\n",
       "       8.59160250e-01, 1.65819623e+00, 2.73732292e-01, 5.47337047e-01,\n",
       "       8.39239391e-01, 2.08040527e-01, 5.73287960e-01, 1.11062502e+00,\n",
       "       1.33354836e+00, 2.70519088e-01, 1.51210435e+00, 1.00590387e+00,\n",
       "       5.43165089e-01, 1.02855515e+00, 2.23033235e+00, 7.26398193e-01,\n",
       "       1.33061885e-02, 1.65262781e+00, 1.83658504e+00, 1.00391722e+00,\n",
       "       9.02130490e-01, 2.20418451e+00, 6.72889157e-01, 7.07250841e-01,\n",
       "       1.10612271e+00, 1.81788806e+00, 8.46168172e-01, 6.93075477e-01,\n",
       "       1.08713175e+00, 9.22167751e-01, 9.33362283e-01, 1.19068760e+00,\n",
       "       1.14576697e-02, 5.80786196e-01, 1.04025229e+00, 1.81931360e+00,\n",
       "       9.99648337e-01, 1.42185070e+00, 1.03762290e+00, 3.52240837e-01,\n",
       "       6.98119389e-01, 2.10434019e-01, 1.11711650e-02, 1.60990735e-01,\n",
       "       1.11087353e+00, 9.40226622e-01, 6.56370519e-01, 8.24838612e-01,\n",
       "       9.28192134e-01, 9.48808850e-01, 1.55982889e+00, 8.60300648e-01,\n",
       "       3.59983453e-01, 7.64642135e-01, 1.08358896e+00, 3.30471518e-01,\n",
       "       3.61348783e-01, 3.08239850e-01, 4.17064041e-01, 9.58245495e-01,\n",
       "       8.27809797e-01, 1.30420897e+00, 2.31850264e-01, 6.63626405e-01,\n",
       "       1.00597435e-01, 1.14528588e+00, 4.37507461e-01, 6.49313113e-01,\n",
       "       7.27057450e-02, 1.26456789e+00, 4.39645480e-01, 2.86581091e-01,\n",
       "       3.24102223e-01, 1.14986061e+00, 6.05923388e-01, 9.34381998e-01,\n",
       "       1.77236640e+00, 5.39020729e-01, 1.12932750e-01, 1.34229841e+00,\n",
       "       2.21468147e+00, 1.88541343e+00, 1.11336026e+00, 1.89521346e-01,\n",
       "       7.12494872e-01, 2.52369261e-01, 4.50599998e-01, 2.51029068e+00,\n",
       "       1.75825839e+00, 7.29384345e-01, 8.28477054e-01, 2.48997687e-01,\n",
       "       6.56166563e-01, 6.83467376e-01, 5.27729887e-01, 1.56863231e+00,\n",
       "       8.03093469e-01, 1.51401558e+00, 1.61688274e+00, 1.80543452e+00,\n",
       "       1.55849684e+00, 1.33460259e+00, 5.29859222e-01, 1.57772236e-01,\n",
       "       1.24750659e+00, 1.54591273e+00, 1.66473332e+00, 1.45151011e+00,\n",
       "       1.01072700e+00, 1.33018170e+00, 3.80361798e-01, 5.84255327e-01,\n",
       "       6.90768253e-02, 6.59812999e-01, 9.45532139e-01, 9.27362601e-01,\n",
       "       4.78196758e-01, 1.78245937e-01, 1.06423602e+00, 7.30898498e-01,\n",
       "       4.57219919e-01, 5.93398113e-01, 1.33584385e+00, 2.75798529e-01,\n",
       "       1.27063302e+00, 9.49750489e-01, 7.95755944e-01, 7.77739186e-01,\n",
       "       4.43152285e-01, 5.60197524e-01, 3.49080031e-01, 1.33268794e-01,\n",
       "       3.76867052e-01, 2.15028203e+00, 1.87654499e+00, 1.16488459e+00,\n",
       "       3.05662077e-01, 1.02729629e+00, 1.09719659e+00, 5.22416999e-01,\n",
       "       2.87236897e-01, 1.15495484e+00, 1.20779452e+00, 6.64841053e-01,\n",
       "       1.10672539e+00, 1.22684875e+00, 4.79140528e-01, 1.55872428e+00,\n",
       "       4.18304053e-01, 1.48555351e+00, 1.46814979e+00, 1.50930918e-01,\n",
       "       9.02105452e-01, 6.84819677e-01, 2.92052614e+00, 1.17998279e+00,\n",
       "       6.56517466e-01, 9.12485948e-01, 2.63723975e+00, 1.26025975e+00,\n",
       "       1.20870568e+00, 1.32811894e+00, 4.55656549e-01, 5.72780639e-01,\n",
       "       8.92727836e-01, 3.60495308e-01, 8.30142178e-02, 1.08735667e+00,\n",
       "       1.03370466e+00, 9.17785413e-01, 7.95966042e-01, 7.65906543e-01,\n",
       "       6.78475518e-01, 1.42764304e+00, 1.53601396e+00, 1.93032274e+00,\n",
       "       1.25028992e+00, 1.26707054e+00, 1.09923485e+00, 9.97958164e-01,\n",
       "       5.03910555e-01, 1.23761722e+00, 1.78194780e+00, 1.29849233e+00,\n",
       "       1.76810971e+00, 7.15738013e-01, 9.34634304e-01, 2.67065409e+00,\n",
       "       1.43039418e+00, 7.72750502e-01, 9.89659803e-01, 1.24554799e+00,\n",
       "       6.11256445e-01, 3.84427238e-01, 9.68466976e-01, 1.52098185e+00,\n",
       "       8.74069542e-01, 1.05099808e+00, 4.46752585e-01, 3.26587328e-01,\n",
       "       6.97422642e-01, 6.02526150e-01, 2.70162120e-01, 1.00079775e+00,\n",
       "       6.03467425e-01, 7.00168356e-01, 1.40713360e+00, 1.92439314e+00,\n",
       "       8.68319011e-01, 8.54970643e-01, 1.12052109e+00, 5.64606387e-01,\n",
       "       7.09230572e-01, 2.26647112e+00, 1.17463813e+00, 7.25411410e-01,\n",
       "       1.13238820e+00, 1.06002064e+00, 1.28489293e+00, 1.11266058e+00,\n",
       "       2.49807267e+00, 6.11609126e-01, 1.48925418e+00, 1.04931375e+00,\n",
       "       7.50811350e-01, 1.16899426e+00, 1.28565608e+00, 6.83580355e-01,\n",
       "       2.57707957e-01, 3.75295236e-01, 5.45165003e-01, 3.08689194e-01,\n",
       "       2.39484670e-01, 7.58436408e-01, 3.29944198e-01, 2.49834805e-01,\n",
       "       2.32566264e-01, 5.10878621e-01, 6.73369440e-01, 1.41900324e+00,\n",
       "       4.00147414e-02, 1.14202414e-01, 1.03094801e-01, 1.04527330e+00,\n",
       "       1.03541459e+00, 8.43272057e-02, 2.89890499e-01, 2.93635124e-01,\n",
       "       1.10269473e+00, 1.15649482e-01, 9.52031515e-01, 3.88191167e-01,\n",
       "       2.28555770e+00, 3.08246708e+00, 4.55461795e-01, 1.00308060e+00,\n",
       "       3.40869752e+00, 8.10503205e-01, 2.65148725e-01, 1.28093952e-01,\n",
       "       9.83543908e-01, 6.41659372e-01, 5.06636133e-01, 6.81797468e-01,\n",
       "       1.39097136e+00, 1.63472461e-01, 3.43412479e-01, 3.03762987e-01,\n",
       "       7.53444601e-01, 1.13893128e+00, 5.88842860e-01, 4.58384118e-01,\n",
       "       9.04695733e-01, 1.23532357e+00, 2.20131009e-01, 2.35422995e-01,\n",
       "       2.48557638e-01, 2.55738604e-01, 1.32405031e+00, 3.18058186e-01,\n",
       "       1.70193105e-01, 3.64130891e-01, 6.36078561e-01, 2.33022044e-01,\n",
       "       5.41879925e-01, 4.28786144e-01, 6.73683413e-01, 2.81252226e-02,\n",
       "       1.23615703e-01, 3.32179922e-01, 3.58956059e-01, 5.98144180e-02,\n",
       "       5.46228271e-01, 1.96950120e-01, 2.92205256e-02, 4.10038778e-01])"
      ]
     },
     "execution_count": 60,
     "metadata": {},
     "output_type": "execute_result"
    }
   ],
   "source": [
    "a[a>0]"
   ]
  },
  {
   "cell_type": "code",
   "execution_count": 54,
   "metadata": {},
   "outputs": [
    {
     "data": {
      "text/plain": [
       "<matplotlib.image.AxesImage at 0x7ff277f16320>"
      ]
     },
     "execution_count": 54,
     "metadata": {},
     "output_type": "execute_result"
    },
    {
     "data": {
      "image/png": "[encoded data removed]",
      "text/plain": [
       "<Figure size 432x288 with 1 Axes>"
      ]
     },
     "metadata": {
      "needs_background": "light"
     },
     "output_type": "display_data"
    }
   ],
   "source": [
    "plt.imshow(obs)"
   ]
  },
  {
   "cell_type": "code",
   "execution_count": 53,
   "metadata": {},
   "outputs": [
    {
     "data": {
      "text/plain": [
       "<matplotlib.image.AxesImage at 0x7ff277f2c240>"
      ]
     },
     "execution_count": 53,
     "metadata": {},
     "output_type": "execute_result"
    },
    {
     "data": {
      "image/png": "[encoded data removed]",
      "text/plain": [
       "<Figure size 432x288 with 1 Axes>"
      ]
     },
     "metadata": {
      "needs_background": "light"
     },
     "output_type": "display_data"
    }
   ],
   "source": [
    "plt.imshow(fine_l)"
   ]
  },
  {
   "cell_type": "code",
   "execution_count": 55,
   "metadata": {},
   "outputs": [
    {
     "data": {
      "text/plain": [
       "<matplotlib.image.AxesImage at 0x7ff2a4127fd0>"
      ]
     },
     "execution_count": 55,
     "metadata": {},
     "output_type": "execute_result"
    },
    {
     "data": {
      "image/png": "[encoded data removed]",
      "text/plain": [
       "<Figure size 432x288 with 1 Axes>"
      ]
     },
     "metadata": {
      "needs_background": "light"
     },
     "output_type": "display_data"
    }
   ],
   "source": [
    "plt.imshow(ctm_l)"
   ]
  },
  {
   "cell_type": "code",
   "execution_count": 32,
   "metadata": {},
   "outputs": [
    {
     "data": {
      "text/plain": [
       "\u001b[0;31mSignature:\u001b[0m\n",
       "\u001b[0mplt\u001b[0m\u001b[0;34m.\u001b[0m\u001b[0mhist\u001b[0m\u001b[0;34m(\u001b[0m\u001b[0;34m\u001b[0m\n",
       "\u001b[0;34m\u001b[0m    \u001b[0mx\u001b[0m\u001b[0;34m,\u001b[0m\u001b[0;34m\u001b[0m\n",
       "\u001b[0;34m\u001b[0m    \u001b[0mbins\u001b[0m\u001b[0;34m=\u001b[0m\u001b[0;32mNone\u001b[0m\u001b[0;34m,\u001b[0m\u001b[0;34m\u001b[0m\n",
       "\u001b[0;34m\u001b[0m    \u001b[0mrange\u001b[0m\u001b[0;34m=\u001b[0m\u001b[0;32mNone\u001b[0m\u001b[0;34m,\u001b[0m\u001b[0;34m\u001b[0m\n",
       "\u001b[0;34m\u001b[0m    \u001b[0mdensity\u001b[0m\u001b[0;34m=\u001b[0m\u001b[0;32mNone\u001b[0m\u001b[0;34m,\u001b[0m\u001b[0;34m\u001b[0m\n",
       "\u001b[0;34m\u001b[0m    \u001b[0mweights\u001b[0m\u001b[0;34m=\u001b[0m\u001b[0;32mNone\u001b[0m\u001b[0;34m,\u001b[0m\u001b[0;34m\u001b[0m\n",
       "\u001b[0;34m\u001b[0m    \u001b[0mcumulative\u001b[0m\u001b[0;34m=\u001b[0m\u001b[0;32mFalse\u001b[0m\u001b[0;34m,\u001b[0m\u001b[0;34m\u001b[0m\n",
       "\u001b[0;34m\u001b[0m    \u001b[0mbottom\u001b[0m\u001b[0;34m=\u001b[0m\u001b[0;32mNone\u001b[0m\u001b[0;34m,\u001b[0m\u001b[0;34m\u001b[0m\n",
       "\u001b[0;34m\u001b[0m    \u001b[0mhisttype\u001b[0m\u001b[0;34m=\u001b[0m\u001b[0;34m'bar'\u001b[0m\u001b[0;34m,\u001b[0m\u001b[0;34m\u001b[0m\n",
       "\u001b[0;34m\u001b[0m    \u001b[0malign\u001b[0m\u001b[0;34m=\u001b[0m\u001b[0;34m'mid'\u001b[0m\u001b[0;34m,\u001b[0m\u001b[0;34m\u001b[0m\n",
       "\u001b[0;34m\u001b[0m    \u001b[0morientation\u001b[0m\u001b[0;34m=\u001b[0m\u001b[0;34m'vertical'\u001b[0m\u001b[0;34m,\u001b[0m\u001b[0;34m\u001b[0m\n",
       "\u001b[0;34m\u001b[0m    \u001b[0mrwidth\u001b[0m\u001b[0;34m=\u001b[0m\u001b[0;32mNone\u001b[0m\u001b[0;34m,\u001b[0m\u001b[0;34m\u001b[0m\n",
       "\u001b[0;34m\u001b[0m    \u001b[0mlog\u001b[0m\u001b[0;34m=\u001b[0m\u001b[0;32mFalse\u001b[0m\u001b[0;34m,\u001b[0m\u001b[0;34m\u001b[0m\n",
       "\u001b[0;34m\u001b[0m    \u001b[0mcolor\u001b[0m\u001b[0;34m=\u001b[0m\u001b[0;32mNone\u001b[0m\u001b[0;34m,\u001b[0m\u001b[0;34m\u001b[0m\n",
       "\u001b[0;34m\u001b[0m    \u001b[0mlabel\u001b[0m\u001b[0;34m=\u001b[0m\u001b[0;32mNone\u001b[0m\u001b[0;34m,\u001b[0m\u001b[0;34m\u001b[0m\n",
       "\u001b[0;34m\u001b[0m    \u001b[0mstacked\u001b[0m\u001b[0;34m=\u001b[0m\u001b[0;32mFalse\u001b[0m\u001b[0;34m,\u001b[0m\u001b[0;34m\u001b[0m\n",
       "\u001b[0;34m\u001b[0m    \u001b[0mnormed\u001b[0m\u001b[0;34m=\u001b[0m\u001b[0;32mNone\u001b[0m\u001b[0;34m,\u001b[0m\u001b[0;34m\u001b[0m\n",
       "\u001b[0;34m\u001b[0m    \u001b[0;34m*\u001b[0m\u001b[0;34m,\u001b[0m\u001b[0;34m\u001b[0m\n",
       "\u001b[0;34m\u001b[0m    \u001b[0mdata\u001b[0m\u001b[0;34m=\u001b[0m\u001b[0;32mNone\u001b[0m\u001b[0;34m,\u001b[0m\u001b[0;34m\u001b[0m\n",
       "\u001b[0;34m\u001b[0m    \u001b[0;34m**\u001b[0m\u001b[0mkwargs\u001b[0m\u001b[0;34m,\u001b[0m\u001b[0;34m\u001b[0m\n",
       "\u001b[0;34m\u001b[0m\u001b[0;34m)\u001b[0m\u001b[0;34m\u001b[0m\u001b[0;34m\u001b[0m\u001b[0m\n",
       "\u001b[0;31mDocstring:\u001b[0m\n",
       "Plot a histogram.\n",
       "\n",
       "Compute and draw the histogram of *x*.  The return value is a tuple\n",
       "(*n*, *bins*, *patches*) or ([*n0*, *n1*, ...], *bins*, [*patches0*,\n",
       "*patches1*,...]) if the input contains multiple data.  See the\n",
       "documentation of the *weights* parameter to draw a histogram of\n",
       "already-binned data.\n",
       "\n",
       "Multiple data can be provided via *x* as a list of datasets\n",
       "of potentially different length ([*x0*, *x1*, ...]), or as\n",
       "a 2-D ndarray in which each column is a dataset.  Note that\n",
       "the ndarray form is transposed relative to the list form.\n",
       "\n",
       "Masked arrays are not supported at present.\n",
       "\n",
       "Parameters\n",
       "----------\n",
       "x : (n,) array or sequence of (n,) arrays\n",
       "    Input values, this takes either a single array or a sequence of\n",
       "    arrays which are not required to be of the same length.\n",
       "\n",
       "bins : int or sequence or str, optional\n",
       "    If an integer is given, ``bins + 1`` bin edges are calculated and\n",
       "    returned, consistent with `numpy.histogram`.\n",
       "\n",
       "    If `bins` is a sequence, gives bin edges, including left edge of\n",
       "    first bin and right edge of last bin.  In this case, `bins` is\n",
       "    returned unmodified.\n",
       "\n",
       "    All but the last (righthand-most) bin is half-open.  In other\n",
       "    words, if `bins` is::\n",
       "\n",
       "        [1, 2, 3, 4]\n",
       "\n",
       "    then the first bin is ``[1, 2)`` (including 1, but excluding 2) and\n",
       "    the second ``[2, 3)``.  The last bin, however, is ``[3, 4]``, which\n",
       "    *includes* 4.\n",
       "\n",
       "    Unequally spaced bins are supported if *bins* is a sequence.\n",
       "\n",
       "    With Numpy 1.11 or newer, you can alternatively provide a string\n",
       "    describing a binning strategy, such as 'auto', 'sturges', 'fd',\n",
       "    'doane', 'scott', 'rice' or 'sqrt', see\n",
       "    `numpy.histogram`.\n",
       "\n",
       "    The default is taken from :rc:`hist.bins`.\n",
       "\n",
       "range : tuple or None, optional\n",
       "    The lower and upper range of the bins. Lower and upper outliers\n",
       "    are ignored. If not provided, *range* is ``(x.min(), x.max())``.\n",
       "    Range has no effect if *bins* is a sequence.\n",
       "\n",
       "    If *bins* is a sequence or *range* is specified, autoscaling\n",
       "    is based on the specified bin range instead of the\n",
       "    range of x.\n",
       "\n",
       "    Default is ``None``\n",
       "\n",
       "density : bool, optional\n",
       "    If ``True``, the first element of the return tuple will\n",
       "    be the counts normalized to form a probability density, i.e.,\n",
       "    the area (or integral) under the histogram will sum to 1.\n",
       "    This is achieved by dividing the count by the number of\n",
       "    observations times the bin width and not dividing by the total\n",
       "    number of observations. If *stacked* is also ``True``, the sum of\n",
       "    the histograms is normalized to 1.\n",
       "\n",
       "    Default is ``None`` for both *normed* and *density*. If either is\n",
       "    set, then that value will be used. If neither are set, then the\n",
       "    args will be treated as ``False``.\n",
       "\n",
       "    If both *density* and *normed* are set an error is raised.\n",
       "\n",
       "weights : (n, ) array_like or None, optional\n",
       "    An array of weights, of the same shape as *x*.  Each value in *x*\n",
       "    only contributes its associated weight towards the bin count\n",
       "    (instead of 1).  If *normed* or *density* is ``True``,\n",
       "    the weights are normalized, so that the integral of the density\n",
       "    over the range remains 1.\n",
       "\n",
       "    Default is ``None``.\n",
       "\n",
       "    This parameter can be used to draw a histogram of data that has\n",
       "    already been binned, e.g. using `np.histogram` (by treating each\n",
       "    bin as a single point with a weight equal to its count) ::\n",
       "\n",
       "        counts, bins = np.histogram(data)\n",
       "        plt.hist(bins[:-1], bins, weights=counts)\n",
       "\n",
       "    (or you may alternatively use `~.bar()`).\n",
       "\n",
       "cumulative : bool, optional\n",
       "    If ``True``, then a histogram is computed where each bin gives the\n",
       "    counts in that bin plus all bins for smaller values. The last bin\n",
       "    gives the total number of datapoints. If *normed* or *density*\n",
       "    is also ``True`` then the histogram is normalized such that the\n",
       "    last bin equals 1. If *cumulative* evaluates to less than 0\n",
       "    (e.g., -1), the direction of accumulation is reversed.\n",
       "    In this case, if *normed* and/or *density* is also ``True``, then\n",
       "    the histogram is normalized such that the first bin equals 1.\n",
       "\n",
       "    Default is ``False``\n",
       "\n",
       "bottom : array_like, scalar, or None\n",
       "    Location of the bottom baseline of each bin.  If a scalar,\n",
       "    the base line for each bin is shifted by the same amount.\n",
       "    If an array, each bin is shifted independently and the length\n",
       "    of bottom must match the number of bins.  If None, defaults to 0.\n",
       "\n",
       "    Default is ``None``\n",
       "\n",
       "histtype : {'bar', 'barstacked', 'step',  'stepfilled'}, optional\n",
       "    The type of histogram to draw.\n",
       "\n",
       "    - 'bar' is a traditional bar-type histogram.  If multiple data\n",
       "      are given the bars are arranged side by side.\n",
       "\n",
       "    - 'barstacked' is a bar-type histogram where multiple\n",
       "      data are stacked on top of each other.\n",
       "\n",
       "    - 'step' generates a lineplot that is by default\n",
       "      unfilled.\n",
       "\n",
       "    - 'stepfilled' generates a lineplot that is by default\n",
       "      filled.\n",
       "\n",
       "    Default is 'bar'\n",
       "\n",
       "align : {'left', 'mid', 'right'}, optional\n",
       "    Controls how the histogram is plotted.\n",
       "\n",
       "        - 'left': bars are centered on the left bin edges.\n",
       "\n",
       "        - 'mid': bars are centered between the bin edges.\n",
       "\n",
       "        - 'right': bars are centered on the right bin edges.\n",
       "\n",
       "    Default is 'mid'\n",
       "\n",
       "orientation : {'horizontal', 'vertical'}, optional\n",
       "    If 'horizontal', `~matplotlib.pyplot.barh` will be used for\n",
       "    bar-type histograms and the *bottom* kwarg will be the left edges.\n",
       "\n",
       "rwidth : scalar or None, optional\n",
       "    The relative width of the bars as a fraction of the bin width.  If\n",
       "    ``None``, automatically compute the width.\n",
       "\n",
       "    Ignored if *histtype* is 'step' or 'stepfilled'.\n",
       "\n",
       "    Default is ``None``\n",
       "\n",
       "log : bool, optional\n",
       "    If ``True``, the histogram axis will be set to a log scale. If\n",
       "    *log* is ``True`` and *x* is a 1D array, empty bins will be\n",
       "    filtered out and only the non-empty ``(n, bins, patches)``\n",
       "    will be returned.\n",
       "\n",
       "    Default is ``False``\n",
       "\n",
       "color : color or array_like of colors or None, optional\n",
       "    Color spec or sequence of color specs, one per dataset.  Default\n",
       "    (``None``) uses the standard line color sequence.\n",
       "\n",
       "    Default is ``None``\n",
       "\n",
       "label : str or None, optional\n",
       "    String, or sequence of strings to match multiple datasets.  Bar\n",
       "    charts yield multiple patches per dataset, but only the first gets\n",
       "    the label, so that the legend command will work as expected.\n",
       "\n",
       "    default is ``None``\n",
       "\n",
       "stacked : bool, optional\n",
       "    If ``True``, multiple data are stacked on top of each other If\n",
       "    ``False`` multiple data are arranged side by side if histtype is\n",
       "    'bar' or on top of each other if histtype is 'step'\n",
       "\n",
       "    Default is ``False``\n",
       "\n",
       "normed : bool, optional\n",
       "    Deprecated; use the density keyword argument instead.\n",
       "\n",
       "Returns\n",
       "-------\n",
       "n : array or list of arrays\n",
       "    The values of the histogram bins. See *density* and *weights* for a\n",
       "    description of the possible semantics.  If input *x* is an array,\n",
       "    then this is an array of length *nbins*. If input is a sequence of\n",
       "    arrays ``[data1, data2,..]``, then this is a list of arrays with\n",
       "    the values of the histograms for each of the arrays in the same\n",
       "    order.  The dtype of the array *n* (or of its element arrays) will\n",
       "    always be float even if no weighting or normalization is used.\n",
       "\n",
       "bins : array\n",
       "    The edges of the bins. Length nbins + 1 (nbins left edges and right\n",
       "    edge of last bin).  Always a single array even when multiple data\n",
       "    sets are passed in.\n",
       "\n",
       "patches : list or list of lists\n",
       "    Silent list of individual patches used to create the histogram\n",
       "    or list of such list if multiple input datasets.\n",
       "\n",
       "Other Parameters\n",
       "----------------\n",
       "**kwargs : `~matplotlib.patches.Patch` properties\n",
       "\n",
       "See also\n",
       "--------\n",
       "hist2d : 2D histograms\n",
       "\n",
       "Notes\n",
       "-----\n",
       "\n",
       "\n",
       ".. note::\n",
       "    In addition to the above described arguments, this function can take a\n",
       "    **data** keyword argument. If such a **data** argument is given, the\n",
       "    following arguments are replaced by **data[<arg>]**:\n",
       "\n",
       "    * All arguments with the following names: 'weights', 'x'.\n",
       "\n",
       "    Objects passed as **data** must support item access (``data[<arg>]``) and\n",
       "    membership test (``<arg> in data``).\n",
       "\u001b[0;31mFile:\u001b[0m      /opt/conda/lib/python3.6/site-packages/matplotlib/pyplot.py\n",
       "\u001b[0;31mType:\u001b[0m      function\n"
      ]
     },
     "metadata": {},
     "output_type": "display_data"
    }
   ],
   "source": []
  },
  {
   "cell_type": "code",
   "execution_count": null,
   "metadata": {},
   "outputs": [],
   "source": []
  },
  {
   "cell_type": "code",
   "execution_count": 9,
   "metadata": {},
   "outputs": [],
   "source": [
    "for idx,i in enumerate(trainloader):\n",
    "        \n",
    "    indexes,input,grid,yt_1,label,obs = i[0],i[1],i[2],i[3],i[4],i[5]\n",
    "    break"
   ]
  },
  {
   "cell_type": "code",
   "execution_count": 13,
   "metadata": {},
   "outputs": [
    {
     "data": {
      "text/plain": [
       "tensor([ 53.,  54.,  28.,  11.,  43.,  35.,  58.,  44.,  46.,  39.,  49.,  48.,\n",
       "         62.,  50.,  44.,  44.,  87.,  30.,  25.,  55.,  40.,  37.,  44.,  36.,\n",
       "         59.,  55.,  51.,  52.,  70.,  48.,  56.,  49.,  51.,  54.,  73.,  67.,\n",
       "         56.,  59.,  40.,   6.,  32.,  16.,   5.,  51.,  58.,  90.,  56.,  18.,\n",
       "         18.,  59.,  70., 129.,  88.,  59.,  32.,  20.,  45.,  64.,  58.,  43.,\n",
       "         72.,  36.,  82.,  44.,  94.,  87.,  59.,  36.,  35.,  66.,  16.,  84.,\n",
       "         41.,  73.,  30.,  20.,  17.,  68.,  85.,  89.,  10.,  54., 111., 249.,\n",
       "         70., 112.,  40.,  41.,  89., 115.,  79., 119., 119.,  57.,  93.,  99.,\n",
       "         33., 114.,  77.,  91.,  44., 114.,  75.,  54.,  93.,  87., 111.,  38.,\n",
       "         32.,  49.,  74.,  46.,  43.,  65.,  85., 162., 176.,  46.,  85., 102.,\n",
       "         77.,   6., 111., 134.,  34.,  33.,  53., 159.,  91.,  38.,   3.,  79.,\n",
       "        114.,   6.,  24.,  42.,  90.,  24.,  75.,  72.,  34.,  80.,  71.,  53.,\n",
       "        104.,  79.,  29.,  17.,   9.,  18., 102., 112.,  66.,  37.,  24.,  99.,\n",
       "         25.,  27.,  35.,   2.,  62.,  39.,  97.,  33.,  24.,  13.,  32.,  49.,\n",
       "         49., 113.,  19.,  52.,   2.,  58.,  39.,   8.,  19.,   6.,  79., 107.,\n",
       "         51., 107.,  95.,  71.,  79.,  20.,  82.,  67., 153.,  35.,  92.,   2.,\n",
       "         29.,  54., 133.,   7., 104., 102., 126., 112.,  60.,  56.,  29.,  28.,\n",
       "         41.,  46.,  93.,   8.,  22.,  48.,  74.,  85., 106.,  90.,  74., 113.,\n",
       "        103.,   8.,  19.,  47., 112.,   6.,  12.,  12.,  10., 106.,  81., 113.,\n",
       "        112.,  46.,  48.,  43.,  77.,   8.,  14., 102., 143.,  91., 129., 101.,\n",
       "         37.,  61.,  62.,  57.,  16.,  42.,  75., 116.,   4.,  44.,  43.,  57.,\n",
       "         65.,  60.,  43.,  86.,  91.,  59.,  17.,   2.,  47.,  16.,  33.,  37.,\n",
       "         52.,  56.,  75.,  95.,  69.,  32.,  51.,   2.,  19.,  12.,  62.,  30.,\n",
       "         42.,  39.,  86.,  37.,  22.,  46.,  57.,  94.,  38.,  42.,  37.,  45.,\n",
       "         66., 105.,  23.,  18.,  27.,  40.,  17.,  15.,  14.,  55.,  57.,  32.,\n",
       "         52.,  24.,  85.,  60.,  71.,  43.,  33., 104., 107.,  66.,  22.,  42.,\n",
       "         44.,  56.,  72.,  79.,  38.,  62.,  50.,   7.,  47.,  64.,  59.,  17.,\n",
       "         89.,  74.,  18.,  28.,   1.,   3.,  35.,  47., 112., 117.,  34.,  12.,\n",
       "         26.,  32.,  66.,   8.,  25.,  84.,  52.,  37.,  50.,  10.,   4.,  15.,\n",
       "         23.,  87.,  91.,  47.,  34.,  37.,  29.,  44.,   9.,  20.,   3.,   4.,\n",
       "         34.,  81.,  39.,  25., 132.,  39.,  60.,  81.,  42.,  31.,  27., 113.,\n",
       "        104.,  84.,   9.,  40., 111., 129.,  86.,  74.,  94.,  26.,  43.,   9.,\n",
       "         30.,  18.,  94., 109.,  19.,  82.,  55.,  66., 106.,  84.,  53.,   2.,\n",
       "         35.,  51.,  85., 151., 113.,  81., 105.,   6.,  60.,   8.,  38.,  45.,\n",
       "         60.,  57.,  80.,  30.,   1.,  70.,  12.,  48.,  47.,  82., 110.,  70.,\n",
       "         90.,  70.,  74.,  18.,  77.,   4.,  11.,  27.,   8.,  84.,  46.,  28.,\n",
       "         38.,  52.,  71., 100., 109.,  78.,  87., 110.,  67.,  27.,  28.,  22.,\n",
       "         20.,   9.,  98., 101., 119.,  85.,   2.,  56.,  45.,  95.,  22.,  13.,\n",
       "         59.,  61., 177.,  68., 122.,  44.,  81.,  74.,  30.,  26.,   2.,  80.,\n",
       "         85., 102.,  52.,  38.,  70.,  91.,  43.,  79., 114.,  95.,  51.,  33.,\n",
       "          2.,   4.,   6.,   5.,  72.,  54.,  51.,   2.,   2.,   2.,  11.,  62.,\n",
       "         97.,  51.,  34.,  12.,  99.,  92.,  43.,  10.,  33.,  77.,  93.,   8.,\n",
       "         72.,  21.,  34.,  13.,  43.,  26., 114., 128.,  18.,   1.,  66.,  34.,\n",
       "         72.,  36.,   8.,   6.,   5.,  10.,  28.,  58.,  14.,  22.,  10.,  34.,\n",
       "          2.,  12.,  11.,  14.,  14.,  56.,  70.,  71.,  23., 101.,  32.,  37.,\n",
       "          3.,  32.,  43.,  40.,  42.,  52.,  60.,  28.,  44.,  46.,  67.,  10.,\n",
       "          8.,  33.,   1.,   1.,   9.,  73.,  46.,  26.,  42.,  22.,   6.,  68.,\n",
       "         42.,  44.,  45.,  18.,   6.,   1.,  58.,  21.,  47.,  17.,  82.,   3.,\n",
       "         56.,  29.,  66.,  14.,  59.,  51.,  30.,  61.,  56.,  74.,  66.,  28.,\n",
       "          1.,  19.,  62.,  31.,  79.,  34.,  63.,  74.], dtype=torch.float64)"
      ]
     },
     "execution_count": 13,
     "metadata": {},
     "output_type": "execute_result"
    }
   ],
   "source": []
  }
 ],
 "metadata": {
  "kernelspec": {
   "display_name": "Python 3",
   "language": "python",
   "name": "python3"
  },
  "language_info": {
   "codemirror_mode": {
    "name": "ipython",
    "version": 3
   },
   "file_extension": ".py",
   "mimetype": "text/x-python",
   "name": "python",
   "nbconvert_exporter": "python",
   "pygments_lexer": "ipython3",
   "version": "3.6.9"
  }
 },
 "nbformat": 4,
 "nbformat_minor": 4
}
