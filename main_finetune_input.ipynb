{
 "cells": [
  {
   "cell_type": "code",
   "execution_count": 1,
   "metadata": {},
   "outputs": [],
   "source": [
    "%load_ext autoreload\n",
    "%autoreload 2\n",
    "\n",
    "import glob\n",
    "import logging\n",
    "import numpy as np\n",
    "from importlib import reload  # Not needed in Python 2\n",
    "\n",
    "import torch\n",
    "from torch import nn\n",
    "import torch.nn.functional as F\n",
    "from torchvision.models import ResNet\n",
    "from torch.utils.data import DataLoader,Dataset\n",
    "\n",
    "\n",
    "from dataset.ASdataset import AS_Data\n",
    "from dataset.ASdataset_obs_train_input import AS_Data_obs\n",
    "\n",
    "from model import res8,UNet,UNet_Res\n",
    "\n",
    "device = torch.device(\"cuda\"  if torch.cuda.is_available() else \"cpu\")\n",
    "reload(logging)\n",
    "logging.basicConfig(level=logging.INFO,#控制台打印的日志级别\n",
    "                    filename='logging.txt',\n",
    "                    filemode='a',##模式，有w和a，w就是写模式，每次都会重新写日志，覆盖之前的日志\n",
    "                    #a是追加模式，默认如果不写的话，就是追加模式\n",
    "                    format=\n",
    "                    '%(asctime)s : %(message)s',\n",
    "                    )\n",
    "\n",
    "import matplotlib\n",
    "import matplotlib.pyplot as plt\n",
    "\n",
    "%matplotlib inline\n",
    "\n",
    "def image_show(im,title = '',r=10,base=80):\n",
    "    im[:r,:r] = base\n",
    "    im[r,r] = 0\n",
    "    im[im>base] = base\n",
    "    plt.title(title)\n",
    "    plt.imshow(im[::-1])\n",
    "    plt.show()\n",
    "    \n",
    "# logging.info('\\n\\n\\n\\n\\n')\n",
    "# logging.info('with 3 conv grid to concat\\n')\n",
    "# logging.info('2res block, use simple feature: EM inventory simple,2d ALL,3d ALL\\n')\n",
    "\n",
    "\n",
    "class Focal_loss_regression(nn.Module):\n",
    "    def __init__(self,max_update=10,_lambda=2,):\n",
    "        super(Focal_loss_regression,self).__init__()\n",
    "        self._lambda = _lambda\n",
    "        max_update = np.power(1/max_update,1/_lambda)\n",
    "        max_update = 1/max_update\n",
    "        max_update = 1/(max_update-1)\n",
    "        self.max_update = max_update\n",
    "        \n",
    "    def forward(self,pred,target):\n",
    "        diff_abs = torch.abs(pred-target)\n",
    "        diff_max = (1+self.max_update)*torch.max(diff_abs)\n",
    "#         diff_max.detach()\n",
    "        rate = torch.pow((1-1/diff_max*diff_abs)**self._lambda,-1)\n",
    "        diff_abs = rate*diff_abs\n",
    "        \n",
    "#         return diff_abs\n",
    "        return torch.mean(diff_abs)"
   ]
  },
  {
   "cell_type": "code",
   "execution_count": 2,
   "metadata": {},
   "outputs": [
    {
     "name": "stdout",
     "output_type": "stream",
     "text": [
      "train data is loading \n",
      "/AS_data/Conc_npy/O3_2015_01_744_182_232.npy   is loading\n",
      "/AS_data/Conc_npy/O3_2015_02_672_182_232.npy   is loading\n",
      "/AS_data/Conc_npy/O3_2015_04_720_182_232.npy   is loading\n",
      "/AS_data/Conc_npy/O3_2015_07_744_182_232.npy   is loading\n",
      "/AS_data/Conc_npy/O3_2015_10_744_182_232.npy   is loading\n",
      "/AS_data/Emis_npy/EM_2015_01_744_51_182_232.npy   is loading\n",
      "/AS_data/Emis_npy/EM_2015_02_672_51_182_232.npy   is loading\n",
      "/AS_data/Emis_npy/EM_2015_04_720_51_182_232.npy   is loading\n",
      "/AS_data/Emis_npy/EM_2015_07_744_51_182_232.npy   is loading\n",
      "/AS_data/Emis_npy/EM_2015_10_744_51_182_232.npy   is loading\n",
      "/AS_data/METCRO2D_npy/METCRO2D_2015_01_744_34_182_232.npy   is loading\n",
      "/AS_data/METCRO2D_npy/METCRO2D_2015_02_672_34_182_232.npy   is loading\n",
      "/AS_data/METCRO2D_npy/METCRO2D_2015_04_720_34_182_232.npy   is loading\n",
      "/AS_data/METCRO2D_npy/METCRO2D_2015_07_744_34_182_232.npy   is loading\n",
      "/AS_data/METCRO2D_npy/METCRO2D_2015_10_744_34_182_232.npy   is loading\n",
      "/AS_data/obs_npy/obs2015_01_744_6_182_232.npy   is loading\n",
      "/AS_data/obs_npy/obs2015_02_672_6_182_232.npy   is loading\n",
      "/AS_data/obs_npy/obs2015_04_720_6_182_232.npy   is loading\n",
      "/AS_data/obs_npy/obs2015_07_744_6_182_232.npy   is loading\n",
      "/AS_data/obs_npy/obs2015_10_744_6_182_232.npy   is loading\n",
      "2692\n",
      "test data is loading \n",
      "/AS_data/Conc_npy/O3_2015_01_744_182_232.npy   is loading\n",
      "/AS_data/Conc_npy/O3_2015_02_672_182_232.npy   is loading\n",
      "/AS_data/Conc_npy/O3_2015_04_720_182_232.npy   is loading\n",
      "/AS_data/Conc_npy/O3_2015_07_744_182_232.npy   is loading\n",
      "/AS_data/Conc_npy/O3_2015_10_744_182_232.npy   is loading\n",
      "/AS_data/Emis_npy/EM_2015_01_744_51_182_232.npy   is loading\n",
      "/AS_data/Emis_npy/EM_2015_02_672_51_182_232.npy   is loading\n",
      "/AS_data/Emis_npy/EM_2015_04_720_51_182_232.npy   is loading\n",
      "/AS_data/Emis_npy/EM_2015_07_744_51_182_232.npy   is loading\n",
      "/AS_data/Emis_npy/EM_2015_10_744_51_182_232.npy   is loading\n",
      "/AS_data/METCRO2D_npy/METCRO2D_2015_01_744_34_182_232.npy   is loading\n",
      "/AS_data/METCRO2D_npy/METCRO2D_2015_02_672_34_182_232.npy   is loading\n",
      "/AS_data/METCRO2D_npy/METCRO2D_2015_04_720_34_182_232.npy   is loading\n",
      "/AS_data/METCRO2D_npy/METCRO2D_2015_07_744_34_182_232.npy   is loading\n",
      "/AS_data/METCRO2D_npy/METCRO2D_2015_10_744_34_182_232.npy   is loading\n",
      "/AS_data/obs_npy/obs2015_01_744_6_182_232.npy   is loading\n",
      "/AS_data/obs_npy/obs2015_02_672_6_182_232.npy   is loading\n",
      "/AS_data/obs_npy/obs2015_04_720_6_182_232.npy   is loading\n",
      "/AS_data/obs_npy/obs2015_07_744_6_182_232.npy   is loading\n",
      "/AS_data/obs_npy/obs2015_10_744_6_182_232.npy   is loading\n",
      "880\n"
     ]
    }
   ],
   "source": [
    "\n",
    "cfg = {'EM':'/AS_data/Emis_npy/EM_2015_*',\n",
    "      'label':'/AS_data/Conc_npy/O3_2015_*',\n",
    "      'grid':'/AS_data/Grid_npy/grid_27_182_232.npy',\n",
    "      'METCRO2D':'/AS_data/METCRO2D_npy/METCRO2D_2015_*',\n",
    "      'METCRO3D':'',\n",
    "      'METCRO3D_5height':'',\n",
    "      'obs_label':'/AS_data/obs_npy/obs2015_*'}\n",
    "# cfg = {'EM':'/AS_data/Emis_npy/EM_2015_07*',\n",
    "#         'label':'/AS_data/Conc_npy/O3_2015_07*',\n",
    "#         'grid':'/AS_data/Grid_npy/grid_27_182_232.npy',\n",
    "#         'METCRO2D':'/AS_data/METCRO2D_npy/METCRO2D_2015_07*',\n",
    "#         'METCRO3D':'',\n",
    "#         'METCRO3D_5height':'',\n",
    "#         'obs_label':'/AS_data/obs_npy/obs2015_7_*'}\n",
    "\n",
    "print('train data is loading ')\n",
    "Data = AS_Data_obs(cfg,left = 0,right = 0.75,window = 6)\n",
    "trainloader = DataLoader(Data,batch_size=1,shuffle=True)\n",
    "print(len(Data))\n",
    "\n",
    "print('test data is loading ')\n",
    "test_Data = AS_Data_obs(cfg,left = 0.75,right = 1,window = 6)\n",
    "testloader = DataLoader(test_Data,batch_size=1,shuffle=False)\n",
    "print(len(test_Data))"
   ]
  },
  {
   "cell_type": "code",
   "execution_count": 3,
   "metadata": {},
   "outputs": [],
   "source": [
    "class Tensor_Parameter(nn.Module):\n",
    "    def __init__(self,):\n",
    "        super(Tensor_Parameter,self).__init__()\n",
    "        self.Input = nn.Parameter(torch.zeros(1))\n",
    "    \n",
    "    def forward(self,x):\n",
    "        self.Input.data = x\n",
    "        return self.Input"
   ]
  },
  {
   "cell_type": "code",
   "execution_count": 4,
   "metadata": {},
   "outputs": [
    {
     "data": {
      "text/plain": [
       "<All keys matched successfully>"
      ]
     },
     "execution_count": 4,
     "metadata": {},
     "output_type": "execute_result"
    }
   ],
   "source": [
    "# test_model = res8(51+34,27,inplanes=64,layers = [2],T=24) #+5*16\n",
    "# name = 'res_2layer_correctdata'\n",
    "# test_model.load_state_dict(torch.load('model_save/res_2layer_9_epoch.t'))\n",
    "test_model = UNet(51+34,27,T=6,bilinear=False) #+80\n",
    "t2p = Tensor_Parameter()\n",
    "\n",
    "name = 'unet2_1month'\n",
    "\n",
    "test_model.to(device)\n",
    "t2p.to(device)\n",
    "criterion = torch.nn.L1Loss()\n",
    "# optimizer = torch.optim.Adam(test_model.parameters(),lr=1e-3)\n",
    "optimizer = torch.optim.Adam(t2p.parameters(),lr=1e-3)\n",
    "test_model.load_state_dict(torch.load('model_save/o3_best_unet2_1month_65_epoch.t'))"
   ]
  },
  {
   "cell_type": "code",
   "execution_count": 5,
   "metadata": {},
   "outputs": [],
   "source": [
    "def score(model,loader,criterion= nn.L1Loss() ):\n",
    "    model.eval()\n",
    "    ls = []\n",
    "    for idx,i in enumerate(loader):\n",
    "        with torch.no_grad():\n",
    "            indexes,input,grid,yt_1,label,obs = i[0],i[1],i[2],i[3],i[4],i[5]\n",
    "            yt_1 = torch.unsqueeze(yt_1,1)\n",
    "            input,grid,yt_1,label,obs = input.to(device),grid.to(device),yt_1.to(device),label.to(device),obs.float().to(device)\n",
    "            input = t2p(input)\n",
    "            y_pred = test_model(input,grid,yt_1)\n",
    "            \n",
    "            if torch.sum(obs!=-999)==0:\n",
    "                continue\n",
    "\n",
    "            y_pred = torch.squeeze(y_pred) #,dim = 2)\n",
    "\n",
    "            y_pred = y_pred.view(label.shape)\n",
    "            loss = criterion(y_pred[obs!=-999],obs[obs!=-999])\n",
    "            ls.append(loss.cpu().data)\n",
    "        \n",
    "    return np.mean(np.array(ls))"
   ]
  },
  {
   "cell_type": "code",
   "execution_count": 6,
   "metadata": {},
   "outputs": [],
   "source": [
    "\n",
    "# input = torch.randn(3, 5, requires_grad=True)\n",
    "# print(input)\n",
    "# target = torch.randn(3, 5, requires_grad=True)\n",
    "# for i in range(1000):\n",
    "#     pred  = model(input)\n",
    "#     optimizer.zero_grad()\n",
    "#     loss = F.l1_loss(pred, target)\n",
    "#     loss.backward()\n",
    "#     optimizer.step()\n",
    "# #     print(loss)\n",
    "#     input = pred"
   ]
  },
  {
   "cell_type": "code",
   "execution_count": null,
   "metadata": {},
   "outputs": [
    {
     "name": "stdout",
     "output_type": "stream",
     "text": [
      "-------------cur test loss L1:  38.819297790527344\n",
      "epoch 1 cur loss 19.89911460876465\n"
     ]
    }
   ],
   "source": [
    "test_score_L1 = score(test_model,testloader,criterion = nn.L1Loss()) \n",
    "logging.info('-------------cur test loss L1:  {}'.format(test_score_L1))\n",
    "print('-------------cur test loss L1:  {}'.format(test_score_L1))\n",
    "for epoch in range(1,120):\n",
    "    logging.info('-----------{}-----------'.format(epoch))\n",
    "    ls = []\n",
    "    \n",
    "    test_model.train()\n",
    "    for idx,i in enumerate(trainloader):\n",
    "        \n",
    "        indexes,input,grid,yt_1,label,obs = i[0],i[1],i[2],i[3],i[4],i[5]\n",
    "        yt_1 = torch.unsqueeze(yt_1,1)\n",
    "        input,grid,yt_1,label,obs = input.to(device),grid.to(device),yt_1.to(device),label.to(device),obs.to(device)\n",
    "        input = t2p(input)\n",
    "        y_pred = test_model(input,grid,yt_1)\n",
    "\n",
    "        y_pred = torch.squeeze(y_pred) #,dim = 2)\n",
    "        if torch.sum(obs!=-999)==0:\n",
    "            continue\n",
    "        optimizer.zero_grad()\n",
    "        \n",
    "        y_pred = y_pred.view(label.shape)\n",
    "        loss = criterion(y_pred[obs!=-999],obs[obs!=-999])\n",
    "        loss.backward()\n",
    "        optimizer.step()\n",
    "        ls.append(loss.cpu().data)\n",
    "        \n",
    "        #udpate input parameter\n",
    "        Data.update(indexes,t2p.Input.data)\n",
    "#         if len(ls)%400==0:\n",
    "#             logging.info('epoch {} cur loss {}'.format(epoch,np.mean(ls)))\n",
    "    print('epoch {} cur loss {}'.format(epoch,np.mean(ls)))\n",
    "    logging.info('epoch {} cur loss {}'.format(epoch,np.mean(ls)))\n",
    "    test_score_L1 = score(test_model,testloader,criterion = nn.L1Loss()) \n",
    "    logging.info('-------------cur test loss L1:  {}'.format(test_score_L1))\n",
    "    \n",
    "    if epoch%5 == 0:\n",
    "        torch.save(test_model.cpu().state_dict(),'model_save/finetune_input_{}_{}_epoch.t'.format(name,epoch))\n",
    "        test_model.to(device)"
   ]
  },
  {
   "cell_type": "code",
   "execution_count": null,
   "metadata": {},
   "outputs": [],
   "source": []
  },
  {
   "cell_type": "code",
   "execution_count": 29,
   "metadata": {},
   "outputs": [
    {
     "data": {
      "text/plain": [
       "880"
      ]
     },
     "execution_count": 29,
     "metadata": {},
     "output_type": "execute_result"
    }
   ],
   "source": [
    "len(test_Data)"
   ]
  },
  {
   "cell_type": "code",
   "execution_count": null,
   "metadata": {},
   "outputs": [],
   "source": []
  },
  {
   "cell_type": "code",
   "execution_count": 9,
   "metadata": {},
   "outputs": [],
   "source": [
    "for idx,i in enumerate(trainloader):\n",
    "        \n",
    "    indexes,input,grid,yt_1,label,obs = i[0],i[1],i[2],i[3],i[4],i[5]\n",
    "    break"
   ]
  },
  {
   "cell_type": "code",
   "execution_count": 13,
   "metadata": {},
   "outputs": [
    {
     "data": {
      "text/plain": [
       "tensor([ 53.,  54.,  28.,  11.,  43.,  35.,  58.,  44.,  46.,  39.,  49.,  48.,\n",
       "         62.,  50.,  44.,  44.,  87.,  30.,  25.,  55.,  40.,  37.,  44.,  36.,\n",
       "         59.,  55.,  51.,  52.,  70.,  48.,  56.,  49.,  51.,  54.,  73.,  67.,\n",
       "         56.,  59.,  40.,   6.,  32.,  16.,   5.,  51.,  58.,  90.,  56.,  18.,\n",
       "         18.,  59.,  70., 129.,  88.,  59.,  32.,  20.,  45.,  64.,  58.,  43.,\n",
       "         72.,  36.,  82.,  44.,  94.,  87.,  59.,  36.,  35.,  66.,  16.,  84.,\n",
       "         41.,  73.,  30.,  20.,  17.,  68.,  85.,  89.,  10.,  54., 111., 249.,\n",
       "         70., 112.,  40.,  41.,  89., 115.,  79., 119., 119.,  57.,  93.,  99.,\n",
       "         33., 114.,  77.,  91.,  44., 114.,  75.,  54.,  93.,  87., 111.,  38.,\n",
       "         32.,  49.,  74.,  46.,  43.,  65.,  85., 162., 176.,  46.,  85., 102.,\n",
       "         77.,   6., 111., 134.,  34.,  33.,  53., 159.,  91.,  38.,   3.,  79.,\n",
       "        114.,   6.,  24.,  42.,  90.,  24.,  75.,  72.,  34.,  80.,  71.,  53.,\n",
       "        104.,  79.,  29.,  17.,   9.,  18., 102., 112.,  66.,  37.,  24.,  99.,\n",
       "         25.,  27.,  35.,   2.,  62.,  39.,  97.,  33.,  24.,  13.,  32.,  49.,\n",
       "         49., 113.,  19.,  52.,   2.,  58.,  39.,   8.,  19.,   6.,  79., 107.,\n",
       "         51., 107.,  95.,  71.,  79.,  20.,  82.,  67., 153.,  35.,  92.,   2.,\n",
       "         29.,  54., 133.,   7., 104., 102., 126., 112.,  60.,  56.,  29.,  28.,\n",
       "         41.,  46.,  93.,   8.,  22.,  48.,  74.,  85., 106.,  90.,  74., 113.,\n",
       "        103.,   8.,  19.,  47., 112.,   6.,  12.,  12.,  10., 106.,  81., 113.,\n",
       "        112.,  46.,  48.,  43.,  77.,   8.,  14., 102., 143.,  91., 129., 101.,\n",
       "         37.,  61.,  62.,  57.,  16.,  42.,  75., 116.,   4.,  44.,  43.,  57.,\n",
       "         65.,  60.,  43.,  86.,  91.,  59.,  17.,   2.,  47.,  16.,  33.,  37.,\n",
       "         52.,  56.,  75.,  95.,  69.,  32.,  51.,   2.,  19.,  12.,  62.,  30.,\n",
       "         42.,  39.,  86.,  37.,  22.,  46.,  57.,  94.,  38.,  42.,  37.,  45.,\n",
       "         66., 105.,  23.,  18.,  27.,  40.,  17.,  15.,  14.,  55.,  57.,  32.,\n",
       "         52.,  24.,  85.,  60.,  71.,  43.,  33., 104., 107.,  66.,  22.,  42.,\n",
       "         44.,  56.,  72.,  79.,  38.,  62.,  50.,   7.,  47.,  64.,  59.,  17.,\n",
       "         89.,  74.,  18.,  28.,   1.,   3.,  35.,  47., 112., 117.,  34.,  12.,\n",
       "         26.,  32.,  66.,   8.,  25.,  84.,  52.,  37.,  50.,  10.,   4.,  15.,\n",
       "         23.,  87.,  91.,  47.,  34.,  37.,  29.,  44.,   9.,  20.,   3.,   4.,\n",
       "         34.,  81.,  39.,  25., 132.,  39.,  60.,  81.,  42.,  31.,  27., 113.,\n",
       "        104.,  84.,   9.,  40., 111., 129.,  86.,  74.,  94.,  26.,  43.,   9.,\n",
       "         30.,  18.,  94., 109.,  19.,  82.,  55.,  66., 106.,  84.,  53.,   2.,\n",
       "         35.,  51.,  85., 151., 113.,  81., 105.,   6.,  60.,   8.,  38.,  45.,\n",
       "         60.,  57.,  80.,  30.,   1.,  70.,  12.,  48.,  47.,  82., 110.,  70.,\n",
       "         90.,  70.,  74.,  18.,  77.,   4.,  11.,  27.,   8.,  84.,  46.,  28.,\n",
       "         38.,  52.,  71., 100., 109.,  78.,  87., 110.,  67.,  27.,  28.,  22.,\n",
       "         20.,   9.,  98., 101., 119.,  85.,   2.,  56.,  45.,  95.,  22.,  13.,\n",
       "         59.,  61., 177.,  68., 122.,  44.,  81.,  74.,  30.,  26.,   2.,  80.,\n",
       "         85., 102.,  52.,  38.,  70.,  91.,  43.,  79., 114.,  95.,  51.,  33.,\n",
       "          2.,   4.,   6.,   5.,  72.,  54.,  51.,   2.,   2.,   2.,  11.,  62.,\n",
       "         97.,  51.,  34.,  12.,  99.,  92.,  43.,  10.,  33.,  77.,  93.,   8.,\n",
       "         72.,  21.,  34.,  13.,  43.,  26., 114., 128.,  18.,   1.,  66.,  34.,\n",
       "         72.,  36.,   8.,   6.,   5.,  10.,  28.,  58.,  14.,  22.,  10.,  34.,\n",
       "          2.,  12.,  11.,  14.,  14.,  56.,  70.,  71.,  23., 101.,  32.,  37.,\n",
       "          3.,  32.,  43.,  40.,  42.,  52.,  60.,  28.,  44.,  46.,  67.,  10.,\n",
       "          8.,  33.,   1.,   1.,   9.,  73.,  46.,  26.,  42.,  22.,   6.,  68.,\n",
       "         42.,  44.,  45.,  18.,   6.,   1.,  58.,  21.,  47.,  17.,  82.,   3.,\n",
       "         56.,  29.,  66.,  14.,  59.,  51.,  30.,  61.,  56.,  74.,  66.,  28.,\n",
       "          1.,  19.,  62.,  31.,  79.,  34.,  63.,  74.], dtype=torch.float64)"
      ]
     },
     "execution_count": 13,
     "metadata": {},
     "output_type": "execute_result"
    }
   ],
   "source": []
  }
 ],
 "metadata": {
  "kernelspec": {
   "display_name": "Python 3",
   "language": "python",
   "name": "python3"
  },
  "language_info": {
   "codemirror_mode": {
    "name": "ipython",
    "version": 3
   },
   "file_extension": ".py",
   "mimetype": "text/x-python",
   "name": "python",
   "nbconvert_exporter": "python",
   "pygments_lexer": "ipython3",
   "version": "3.6.9"
  }
 },
 "nbformat": 4,
 "nbformat_minor": 4
}
