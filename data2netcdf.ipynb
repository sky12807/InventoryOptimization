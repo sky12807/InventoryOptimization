{
 "cells": [
  {
   "cell_type": "code",
   "execution_count": 1,
   "metadata": {},
   "outputs": [],
   "source": [
    "import numpy as np\n",
    "import matplotlib.pyplot as plt\n",
    "%matplotlib inline\n",
    "\n",
    "# voc = [0,2,3,4,8,9,10] + list(range(32,51))\n",
    "voc = [0,2,3,4,8,9,10] + list(range(32,51))\n",
    "\n",
    "pm25 = list(range(11,30))\n",
    "\n",
    "no = [6,7]\n",
    "\n",
    "rest = [1,5,30,31]"
   ]
  },
  {
   "cell_type": "code",
   "execution_count": 3,
   "metadata": {},
   "outputs": [
    {
     "name": "stdout",
     "output_type": "stream",
     "text": [
      "(744, 51, 182, 232)\n",
      "(744, 7, 182, 232)\n",
      "(744, 7, 182, 232)\n"
     ]
    }
   ],
   "source": [
    "P_emis_51 = np.load('/AS_data/Emis_with_foreign_npy/EM_2015_01_744_51_182_232.npy')\n",
    "print(P_emis_51.shape)\n",
    "\n",
    "P_emis_7 = np.load('/AS_data/zeyuan_folder/concat_data/rest_EM_2015_01_744_07_182_232.npy')\n",
    "print(P_emis_7.shape)\n",
    "\n",
    "N_emis_7 = np.load('/AS_data/finetune_input_prelu_VOCsame_PM25_O3_NO2_SO2/rest_4month_SULF_CO_7dim_01_finetune_input.npy')\n",
    "print(N_emis_7.shape)"
   ]
  },
  {
   "cell_type": "code",
   "execution_count": 4,
   "metadata": {},
   "outputs": [
    {
     "name": "stdout",
     "output_type": "stream",
     "text": [
      "[0, 2, 3, 4, 8, 9, 10, 32, 33, 34, 35, 36, 37, 38, 39, 40, 41, 42, 43, 44, 45, 46, 47, 48, 49, 50] 4\n",
      "[10, 11, 12, 13, 14, 15, 16, 17, 18, 19, 20, 21, 22, 23, 24, 25, 26, 27, 28, 29] 5\n",
      "[6, 7] 6\n"
     ]
    }
   ],
   "source": [
    "N_emis_51 = np.zeros_like(P_emis_51)\n",
    "\n",
    "for idxes51,idx7 in [[voc,4],[pm25,5],[no,6]]:\n",
    "    print(idxes51,idx7)\n",
    "    N_emis_51[:,idxes51] = P_emis_51[:,idxes51] * (N_emis_7[:,idx7:idx7+1]+1e-5) / (P_emis_7[:,idx7:idx7+1]+1e-5)\n",
    "    \n",
    "\n",
    "N_emis_51[:,rest] = P_emis_51[:,rest] * (N_emis_7[:,np.array([0,1,2,3])]+1e-5) / (P_emis_7[:,np.array([0,1,2,3])]+1e-5)"
   ]
  },
  {
   "cell_type": "code",
   "execution_count": null,
   "metadata": {},
   "outputs": [],
   "source": []
  },
  {
   "cell_type": "code",
   "execution_count": null,
   "metadata": {},
   "outputs": [],
   "source": [
    "\n",
    "#\n",
    "data = []\n",
    "# 1,32   91,122  182,213    274,305   \n",
    "for i in range(274,305):\n",
    "    data.append(nc.Dataset('/scratch/AS_data/Emission_copy/EM_2015{}'.format(i), 'a'))\n",
    "print(len(data))\n",
    "print(type(data[0]))\n",
    "\n",
    "\n",
    "var_keys = [name for name in data[0].variables]\n",
    "var_keys = var_keys[1:]\n",
    "print(type(var_keys))\n",
    "print(var_keys)\n",
    "print(len(var_keys))\n",
    "\n",
    "order = ['ALD2', 'CO', 'ETH', 'FORM', 'ISOP', 'NH3', 'NO', 'NO2', 'UNR', 'OLE',\\\n",
    " 'PAR', 'PEC', 'PMC', 'PMOTHR', 'PNO3', 'POC', 'PSO4', 'PCL', 'PNH4', 'PNA',\\\n",
    " 'PMG', 'PK', 'PCA', 'PNCOM', 'PFE', 'PAL', 'PSI', 'PTI', 'PMN', 'PH2O',\\\n",
    " 'SO2', 'SULF', 'TERP', 'TOL', 'XYL', 'MEOH', 'ETOH', 'ETHA', 'ALDX', 'IOLE',\\\n",
    " 'CH4', 'AACD', 'NAPH', 'NR', 'SOAALK', 'XYLMN', 'PRPA', 'BENZ', 'ETHY', 'ACET',\\\n",
    " 'KET']\n",
    "\n",
    "if var_keys!=order:\n",
    "    assert False"
   ]
  },
  {
   "cell_type": "code",
   "execution_count": null,
   "metadata": {},
   "outputs": [],
   "source": [
    "for i in range(len(data)): \n",
    "    variable = data[i].variables\n",
    "    for em in range(51):\n",
    "        em_data = deepcopy(variable[var_keys[em]][:-1])\n",
    "        sum_em = np.sum(em_data, axis = 1, keepdims = True)\n",
    "        \n",
    "        final_em = N_emis_51[i*24:i*24+24,:,em,:,:]\n",
    "        \n",
    "        finetune_em = final_em * em_data  / sum_em\n",
    "        variable[var_keys[em]][:-1] = finetune_em\n",
    "    print('Process {}/{}'.format(i,len(data)))"
   ]
  },
  {
   "cell_type": "code",
   "execution_count": 19,
   "metadata": {},
   "outputs": [],
   "source": []
  },
  {
   "cell_type": "code",
   "execution_count": null,
   "metadata": {},
   "outputs": [],
   "source": []
  },
  {
   "cell_type": "code",
   "execution_count": 21,
   "metadata": {},
   "outputs": [
    {
     "name": "stdout",
     "output_type": "stream",
     "text": [
      "(744, 51, 182, 232)\n",
      "(744, 7, 182, 232)\n"
     ]
    }
   ],
   "source": []
  },
  {
   "cell_type": "code",
   "execution_count": 22,
   "metadata": {},
   "outputs": [
    {
     "name": "stdout",
     "output_type": "stream",
     "text": [
      "Updating VOC\n",
      "Updating PM25\n",
      "Updating NO\n"
     ]
    }
   ],
   "source": [
    "#from zeyuan\n",
    "org_data = P_emis_51\n",
    "con_data = P_emis_7\n",
    "fin_data = N_emis_7\n",
    "\n",
    "\n",
    "from copy import deepcopy\n",
    "final_data = deepcopy(org_data)\n",
    "delta_data = fin_data - con_data\n",
    "print(final_data.shape)\n",
    "print(delta_data.shape)\n",
    "\n",
    "print('Updating VOC')\n",
    "delta_voc = delta_data[:,4,:,:]\n",
    "mean_voc = con_data[:,4,:,:]\n",
    "for i in voc:\n",
    "    final_data[:,i,:,:] += (org_data[:,i,:,:] + 1e-5) * delta_voc / (mean_voc + 1e-5)\n",
    "print('Updating PM25')\n",
    "delta_voc = delta_data[:,5,:,:]\n",
    "mean_voc = con_data[:,5,:,:]\n",
    "for i in pm25:\n",
    "    final_data[:,i,:,:] += (org_data[:,i,:,:] + 1e-5) * delta_voc / (mean_voc + 1e-5)\n",
    "print('Updating NO')\n",
    "delta_voc = delta_data[:,6,:,:]\n",
    "mean_voc = con_data[:,6,:,:]\n",
    "for i in no:\n",
    "    final_data[:,i,:,:] += (org_data[:,i,:,:] + 1e-5) * delta_voc / (mean_voc + 1e-5)\n",
    "for i in range(4):\n",
    "    final_data[:,rest[i],:,:] += delta_data[:,i,:,:]\n",
    "    \n",
    "    \n",
    "with open('/AS_data/zeyuan_folder/reload_data/adjust_new_7EM_07_744_51_182_232.npy','wb') as f:\n",
    "    np.save(f,final_data)"
   ]
  }
 ],
 "metadata": {
  "kernelspec": {
   "display_name": "Python 3",
   "language": "python",
   "name": "python3"
  },
  "language_info": {
   "codemirror_mode": {
    "name": "ipython",
    "version": 3
   },
   "file_extension": ".py",
   "mimetype": "text/x-python",
   "name": "python",
   "nbconvert_exporter": "python",
   "pygments_lexer": "ipython3",
   "version": "3.7.9"
  }
 },
 "nbformat": 4,
 "nbformat_minor": 4
}
